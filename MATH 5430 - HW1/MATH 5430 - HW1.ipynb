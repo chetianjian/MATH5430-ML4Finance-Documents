{
 "cells": [
  {
   "cell_type": "markdown",
   "id": "2b04f288",
   "metadata": {},
   "source": [
    "# 1. Setup and Data Retrieval"
   ]
  },
  {
   "cell_type": "code",
   "execution_count": 1,
   "id": "7c7e8984",
   "metadata": {},
   "outputs": [],
   "source": [
    "import yfinance as yf\n",
    "import pandas as pd\n",
    "import numpy as np\n",
    "import matplotlib.pyplot as plt\n",
    "import pandas_ta as ta\n",
    "from sklearn.linear_model import LinearRegression\n",
    "from sklearn.metrics import r2_score\n",
    "from sklearn.metrics import mean_squared_error"
   ]
  },
  {
   "cell_type": "code",
   "execution_count": 2,
   "id": "71f9ee6a",
   "metadata": {},
   "outputs": [
    {
     "name": "stdout",
     "output_type": "stream",
     "text": [
      "[*********************100%***********************]  1 of 1 completed\n"
     ]
    },
    {
     "data": {
      "text/html": [
       "<div>\n",
       "<style scoped>\n",
       "    .dataframe tbody tr th:only-of-type {\n",
       "        vertical-align: middle;\n",
       "    }\n",
       "\n",
       "    .dataframe tbody tr th {\n",
       "        vertical-align: top;\n",
       "    }\n",
       "\n",
       "    .dataframe thead th {\n",
       "        text-align: right;\n",
       "    }\n",
       "</style>\n",
       "<table border=\"1\" class=\"dataframe\">\n",
       "  <thead>\n",
       "    <tr style=\"text-align: right;\">\n",
       "      <th></th>\n",
       "      <th>Open</th>\n",
       "      <th>High</th>\n",
       "      <th>Low</th>\n",
       "      <th>Close</th>\n",
       "      <th>Adj Close</th>\n",
       "      <th>Volume</th>\n",
       "    </tr>\n",
       "    <tr>\n",
       "      <th>Date</th>\n",
       "      <th></th>\n",
       "      <th></th>\n",
       "      <th></th>\n",
       "      <th></th>\n",
       "      <th></th>\n",
       "      <th></th>\n",
       "    </tr>\n",
       "  </thead>\n",
       "  <tbody>\n",
       "    <tr>\n",
       "      <th>2010-01-04</th>\n",
       "      <td>22.665331</td>\n",
       "      <td>22.945892</td>\n",
       "      <td>22.665331</td>\n",
       "      <td>22.935871</td>\n",
       "      <td>18.619488</td>\n",
       "      <td>4491</td>\n",
       "    </tr>\n",
       "    <tr>\n",
       "      <th>2010-01-05</th>\n",
       "      <td>22.905811</td>\n",
       "      <td>22.945892</td>\n",
       "      <td>22.865730</td>\n",
       "      <td>22.945892</td>\n",
       "      <td>18.627628</td>\n",
       "      <td>6587</td>\n",
       "    </tr>\n",
       "    <tr>\n",
       "      <th>2010-01-06</th>\n",
       "      <td>22.865730</td>\n",
       "      <td>22.905811</td>\n",
       "      <td>22.775551</td>\n",
       "      <td>22.845692</td>\n",
       "      <td>18.546288</td>\n",
       "      <td>7086</td>\n",
       "    </tr>\n",
       "    <tr>\n",
       "      <th>2010-01-07</th>\n",
       "      <td>22.775551</td>\n",
       "      <td>22.905811</td>\n",
       "      <td>22.755510</td>\n",
       "      <td>22.905811</td>\n",
       "      <td>18.595089</td>\n",
       "      <td>39521</td>\n",
       "    </tr>\n",
       "    <tr>\n",
       "      <th>2010-01-08</th>\n",
       "      <td>22.875751</td>\n",
       "      <td>22.945892</td>\n",
       "      <td>22.835670</td>\n",
       "      <td>22.945892</td>\n",
       "      <td>18.627628</td>\n",
       "      <td>45209</td>\n",
       "    </tr>\n",
       "    <tr>\n",
       "      <th>...</th>\n",
       "      <td>...</td>\n",
       "      <td>...</td>\n",
       "      <td>...</td>\n",
       "      <td>...</td>\n",
       "      <td>...</td>\n",
       "      <td>...</td>\n",
       "    </tr>\n",
       "    <tr>\n",
       "      <th>2022-02-14</th>\n",
       "      <td>69.660004</td>\n",
       "      <td>69.660004</td>\n",
       "      <td>68.800003</td>\n",
       "      <td>69.150002</td>\n",
       "      <td>69.150002</td>\n",
       "      <td>24800</td>\n",
       "    </tr>\n",
       "    <tr>\n",
       "      <th>2022-02-15</th>\n",
       "      <td>69.910004</td>\n",
       "      <td>70.300003</td>\n",
       "      <td>69.910004</td>\n",
       "      <td>70.250000</td>\n",
       "      <td>70.250000</td>\n",
       "      <td>2400</td>\n",
       "    </tr>\n",
       "    <tr>\n",
       "      <th>2022-02-16</th>\n",
       "      <td>69.699997</td>\n",
       "      <td>70.269997</td>\n",
       "      <td>69.669998</td>\n",
       "      <td>70.269997</td>\n",
       "      <td>70.269997</td>\n",
       "      <td>55000</td>\n",
       "    </tr>\n",
       "    <tr>\n",
       "      <th>2022-02-17</th>\n",
       "      <td>69.809998</td>\n",
       "      <td>69.809998</td>\n",
       "      <td>68.849998</td>\n",
       "      <td>68.930000</td>\n",
       "      <td>68.930000</td>\n",
       "      <td>4100</td>\n",
       "    </tr>\n",
       "    <tr>\n",
       "      <th>2022-02-18</th>\n",
       "      <td>68.980003</td>\n",
       "      <td>69.050003</td>\n",
       "      <td>68.500000</td>\n",
       "      <td>68.794998</td>\n",
       "      <td>68.794998</td>\n",
       "      <td>13746</td>\n",
       "    </tr>\n",
       "  </tbody>\n",
       "</table>\n",
       "<p>3045 rows × 6 columns</p>\n",
       "</div>"
      ],
      "text/plain": [
       "                 Open       High        Low      Close  Adj Close  Volume\n",
       "Date                                                                     \n",
       "2010-01-04  22.665331  22.945892  22.665331  22.935871  18.619488    4491\n",
       "2010-01-05  22.905811  22.945892  22.865730  22.945892  18.627628    6587\n",
       "2010-01-06  22.865730  22.905811  22.775551  22.845692  18.546288    7086\n",
       "2010-01-07  22.775551  22.905811  22.755510  22.905811  18.595089   39521\n",
       "2010-01-08  22.875751  22.945892  22.835670  22.945892  18.627628   45209\n",
       "...               ...        ...        ...        ...        ...     ...\n",
       "2022-02-14  69.660004  69.660004  68.800003  69.150002  69.150002   24800\n",
       "2022-02-15  69.910004  70.300003  69.910004  70.250000  70.250000    2400\n",
       "2022-02-16  69.699997  70.269997  69.669998  70.269997  70.269997   55000\n",
       "2022-02-17  69.809998  69.809998  68.849998  68.930000  68.930000    4100\n",
       "2022-02-18  68.980003  69.050003  68.500000  68.794998  68.794998   13746\n",
       "\n",
       "[3045 rows x 6 columns]"
      ]
     },
     "execution_count": 2,
     "metadata": {},
     "output_type": "execute_result"
    }
   ],
   "source": [
    "msci = yf.download(\"XWD.TO\", start=\"2010-01-01\")\n",
    "msci"
   ]
  },
  {
   "cell_type": "markdown",
   "id": "d811442e",
   "metadata": {},
   "source": [
    "# 2. Data Analysis and Exploration in Pandas"
   ]
  },
  {
   "cell_type": "markdown",
   "id": "91e9c0c0",
   "metadata": {},
   "source": [
    "## 2.1. Plot the Adj Close column of the MSCI ETF"
   ]
  },
  {
   "cell_type": "code",
   "execution_count": 3,
   "id": "c5870b2e",
   "metadata": {},
   "outputs": [
    {
     "data": {
      "image/png": "[encoded data removed]",
      "text/plain": [
       "<Figure size 432x288 with 1 Axes>"
      ]
     },
     "metadata": {
      "needs_background": "light"
     },
     "output_type": "display_data"
    }
   ],
   "source": [
    "msci[\"Adj Close\"].plot()\n",
    "plt.ylabel(\"Adj Close\")\n",
    "plt.show()"
   ]
  },
  {
   "cell_type": "markdown",
   "id": "ed7e17d4",
   "metadata": {},
   "source": [
    "## 2.2. Gather information about the data frame by looking at key statistics, i.e. the moments, data types, statistics..."
   ]
  },
  {
   "cell_type": "markdown",
   "id": "a0f18e2f",
   "metadata": {},
   "source": [
    "The first moment (mean), the second central moment (Variance), standard deviation, median, data types are collected in the data frame shown below."
   ]
  },
  {
   "cell_type": "code",
   "execution_count": 4,
   "id": "fcc42c09",
   "metadata": {},
   "outputs": [
    {
     "data": {
      "text/html": [
       "<div>\n",
       "<style scoped>\n",
       "    .dataframe tbody tr th:only-of-type {\n",
       "        vertical-align: middle;\n",
       "    }\n",
       "\n",
       "    .dataframe tbody tr th {\n",
       "        vertical-align: top;\n",
       "    }\n",
       "\n",
       "    .dataframe thead th {\n",
       "        text-align: right;\n",
       "    }\n",
       "</style>\n",
       "<table border=\"1\" class=\"dataframe\">\n",
       "  <thead>\n",
       "    <tr style=\"text-align: right;\">\n",
       "      <th></th>\n",
       "      <th>Open</th>\n",
       "      <th>High</th>\n",
       "      <th>Low</th>\n",
       "      <th>Close</th>\n",
       "      <th>Adj Close</th>\n",
       "      <th>Volume</th>\n",
       "    </tr>\n",
       "  </thead>\n",
       "  <tbody>\n",
       "    <tr>\n",
       "      <th>count</th>\n",
       "      <td>3045.0</td>\n",
       "      <td>3045.0</td>\n",
       "      <td>3045.0</td>\n",
       "      <td>3045.0</td>\n",
       "      <td>3045.0</td>\n",
       "      <td>3045.0</td>\n",
       "    </tr>\n",
       "    <tr>\n",
       "      <th>mean</th>\n",
       "      <td>40.60438</td>\n",
       "      <td>40.728038</td>\n",
       "      <td>40.456714</td>\n",
       "      <td>40.598418</td>\n",
       "      <td>37.56952</td>\n",
       "      <td>22654.892611</td>\n",
       "    </tr>\n",
       "    <tr>\n",
       "      <th>std</th>\n",
       "      <td>14.314955</td>\n",
       "      <td>14.367626</td>\n",
       "      <td>14.251583</td>\n",
       "      <td>14.312746</td>\n",
       "      <td>15.381876</td>\n",
       "      <td>52008.171094</td>\n",
       "    </tr>\n",
       "    <tr>\n",
       "      <th>min</th>\n",
       "      <td>20.440882</td>\n",
       "      <td>20.440882</td>\n",
       "      <td>19.539078</td>\n",
       "      <td>20.340681</td>\n",
       "      <td>16.512697</td>\n",
       "      <td>0.0</td>\n",
       "    </tr>\n",
       "    <tr>\n",
       "      <th>25%</th>\n",
       "      <td>25.020041</td>\n",
       "      <td>25.03006</td>\n",
       "      <td>24.9499</td>\n",
       "      <td>25.020041</td>\n",
       "      <td>21.508539</td>\n",
       "      <td>4092.0</td>\n",
       "    </tr>\n",
       "    <tr>\n",
       "      <th>50%</th>\n",
       "      <td>40.551102</td>\n",
       "      <td>40.671345</td>\n",
       "      <td>40.38076</td>\n",
       "      <td>40.470943</td>\n",
       "      <td>36.415199</td>\n",
       "      <td>8583.0</td>\n",
       "    </tr>\n",
       "    <tr>\n",
       "      <th>75%</th>\n",
       "      <td>50.961926</td>\n",
       "      <td>51.162327</td>\n",
       "      <td>50.811623</td>\n",
       "      <td>51.012024</td>\n",
       "      <td>48.617439</td>\n",
       "      <td>20459.0</td>\n",
       "    </tr>\n",
       "    <tr>\n",
       "      <th>max</th>\n",
       "      <td>75.320641</td>\n",
       "      <td>75.430862</td>\n",
       "      <td>75.240479</td>\n",
       "      <td>75.430862</td>\n",
       "      <td>74.924858</td>\n",
       "      <td>983529.0</td>\n",
       "    </tr>\n",
       "    <tr>\n",
       "      <th>data types</th>\n",
       "      <td>float64</td>\n",
       "      <td>float64</td>\n",
       "      <td>float64</td>\n",
       "      <td>float64</td>\n",
       "      <td>float64</td>\n",
       "      <td>int64</td>\n",
       "    </tr>\n",
       "    <tr>\n",
       "      <th>variance</th>\n",
       "      <td>204.850637</td>\n",
       "      <td>206.36088</td>\n",
       "      <td>203.040906</td>\n",
       "      <td>204.78742</td>\n",
       "      <td>236.52441</td>\n",
       "      <td>2703961568.357927</td>\n",
       "    </tr>\n",
       "    <tr>\n",
       "      <th>median</th>\n",
       "      <td>40.551102</td>\n",
       "      <td>40.671345</td>\n",
       "      <td>40.38076</td>\n",
       "      <td>40.470943</td>\n",
       "      <td>36.415199</td>\n",
       "      <td>8583.0</td>\n",
       "    </tr>\n",
       "  </tbody>\n",
       "</table>\n",
       "</div>"
      ],
      "text/plain": [
       "                  Open       High         Low      Close  Adj Close  \\\n",
       "count           3045.0     3045.0      3045.0     3045.0     3045.0   \n",
       "mean          40.60438  40.728038   40.456714  40.598418   37.56952   \n",
       "std          14.314955  14.367626   14.251583  14.312746  15.381876   \n",
       "min          20.440882  20.440882   19.539078  20.340681  16.512697   \n",
       "25%          25.020041   25.03006     24.9499  25.020041  21.508539   \n",
       "50%          40.551102  40.671345    40.38076  40.470943  36.415199   \n",
       "75%          50.961926  51.162327   50.811623  51.012024  48.617439   \n",
       "max          75.320641  75.430862   75.240479  75.430862  74.924858   \n",
       "data types     float64    float64     float64    float64    float64   \n",
       "variance    204.850637  206.36088  203.040906  204.78742  236.52441   \n",
       "median       40.551102  40.671345    40.38076  40.470943  36.415199   \n",
       "\n",
       "                       Volume  \n",
       "count                  3045.0  \n",
       "mean             22654.892611  \n",
       "std              52008.171094  \n",
       "min                       0.0  \n",
       "25%                    4092.0  \n",
       "50%                    8583.0  \n",
       "75%                   20459.0  \n",
       "max                  983529.0  \n",
       "data types              int64  \n",
       "variance    2703961568.357927  \n",
       "median                 8583.0  "
      ]
     },
     "execution_count": 4,
     "metadata": {},
     "output_type": "execute_result"
    }
   ],
   "source": [
    "msci_info = pd.concat([msci.describe(), \n",
    "                       pd.DataFrame(msci.dtypes, columns=[\"data types\"]).T,\n",
    "                       pd.DataFrame(np.var(msci), columns=[\"variance\"]).T,\n",
    "                       pd.DataFrame(msci.median(), columns=[\"median\"]).T], axis = 0)\n",
    "\n",
    "msci_info"
   ]
  },
  {
   "cell_type": "markdown",
   "id": "d333eb1f",
   "metadata": {},
   "source": [
    "## 2.3. Get all rows where the \"High\" value is > 40"
   ]
  },
  {
   "cell_type": "code",
   "execution_count": 5,
   "id": "77f08154",
   "metadata": {},
   "outputs": [
    {
     "data": {
      "text/html": [
       "<div>\n",
       "<style scoped>\n",
       "    .dataframe tbody tr th:only-of-type {\n",
       "        vertical-align: middle;\n",
       "    }\n",
       "\n",
       "    .dataframe tbody tr th {\n",
       "        vertical-align: top;\n",
       "    }\n",
       "\n",
       "    .dataframe thead th {\n",
       "        text-align: right;\n",
       "    }\n",
       "</style>\n",
       "<table border=\"1\" class=\"dataframe\">\n",
       "  <thead>\n",
       "    <tr style=\"text-align: right;\">\n",
       "      <th></th>\n",
       "      <th>Open</th>\n",
       "      <th>High</th>\n",
       "      <th>Low</th>\n",
       "      <th>Close</th>\n",
       "      <th>Adj Close</th>\n",
       "      <th>Volume</th>\n",
       "    </tr>\n",
       "    <tr>\n",
       "      <th>Date</th>\n",
       "      <th></th>\n",
       "      <th></th>\n",
       "      <th></th>\n",
       "      <th></th>\n",
       "      <th></th>\n",
       "      <th></th>\n",
       "    </tr>\n",
       "  </thead>\n",
       "  <tbody>\n",
       "    <tr>\n",
       "      <th>2015-02-13</th>\n",
       "      <td>39.939880</td>\n",
       "      <td>40.020039</td>\n",
       "      <td>39.859718</td>\n",
       "      <td>40.010021</td>\n",
       "      <td>35.659195</td>\n",
       "      <td>30539</td>\n",
       "    </tr>\n",
       "    <tr>\n",
       "      <th>2015-02-18</th>\n",
       "      <td>40.060120</td>\n",
       "      <td>40.110222</td>\n",
       "      <td>39.979961</td>\n",
       "      <td>40.030060</td>\n",
       "      <td>35.677055</td>\n",
       "      <td>10479</td>\n",
       "    </tr>\n",
       "    <tr>\n",
       "      <th>2015-02-19</th>\n",
       "      <td>40.340679</td>\n",
       "      <td>40.420841</td>\n",
       "      <td>40.260521</td>\n",
       "      <td>40.260521</td>\n",
       "      <td>35.882458</td>\n",
       "      <td>23253</td>\n",
       "    </tr>\n",
       "    <tr>\n",
       "      <th>2015-02-20</th>\n",
       "      <td>40.270542</td>\n",
       "      <td>40.751503</td>\n",
       "      <td>40.210423</td>\n",
       "      <td>40.721443</td>\n",
       "      <td>36.293255</td>\n",
       "      <td>27545</td>\n",
       "    </tr>\n",
       "    <tr>\n",
       "      <th>2015-02-23</th>\n",
       "      <td>40.731464</td>\n",
       "      <td>40.781563</td>\n",
       "      <td>40.661324</td>\n",
       "      <td>40.741482</td>\n",
       "      <td>36.311119</td>\n",
       "      <td>37325</td>\n",
       "    </tr>\n",
       "    <tr>\n",
       "      <th>...</th>\n",
       "      <td>...</td>\n",
       "      <td>...</td>\n",
       "      <td>...</td>\n",
       "      <td>...</td>\n",
       "      <td>...</td>\n",
       "      <td>...</td>\n",
       "    </tr>\n",
       "    <tr>\n",
       "      <th>2022-02-14</th>\n",
       "      <td>69.660004</td>\n",
       "      <td>69.660004</td>\n",
       "      <td>68.800003</td>\n",
       "      <td>69.150002</td>\n",
       "      <td>69.150002</td>\n",
       "      <td>24800</td>\n",
       "    </tr>\n",
       "    <tr>\n",
       "      <th>2022-02-15</th>\n",
       "      <td>69.910004</td>\n",
       "      <td>70.300003</td>\n",
       "      <td>69.910004</td>\n",
       "      <td>70.250000</td>\n",
       "      <td>70.250000</td>\n",
       "      <td>2400</td>\n",
       "    </tr>\n",
       "    <tr>\n",
       "      <th>2022-02-16</th>\n",
       "      <td>69.699997</td>\n",
       "      <td>70.269997</td>\n",
       "      <td>69.669998</td>\n",
       "      <td>70.269997</td>\n",
       "      <td>70.269997</td>\n",
       "      <td>55000</td>\n",
       "    </tr>\n",
       "    <tr>\n",
       "      <th>2022-02-17</th>\n",
       "      <td>69.809998</td>\n",
       "      <td>69.809998</td>\n",
       "      <td>68.849998</td>\n",
       "      <td>68.930000</td>\n",
       "      <td>68.930000</td>\n",
       "      <td>4100</td>\n",
       "    </tr>\n",
       "    <tr>\n",
       "      <th>2022-02-18</th>\n",
       "      <td>68.980003</td>\n",
       "      <td>69.050003</td>\n",
       "      <td>68.500000</td>\n",
       "      <td>68.794998</td>\n",
       "      <td>68.794998</td>\n",
       "      <td>13746</td>\n",
       "    </tr>\n",
       "  </tbody>\n",
       "</table>\n",
       "<p>1598 rows × 6 columns</p>\n",
       "</div>"
      ],
      "text/plain": [
       "                 Open       High        Low      Close  Adj Close  Volume\n",
       "Date                                                                     \n",
       "2015-02-13  39.939880  40.020039  39.859718  40.010021  35.659195   30539\n",
       "2015-02-18  40.060120  40.110222  39.979961  40.030060  35.677055   10479\n",
       "2015-02-19  40.340679  40.420841  40.260521  40.260521  35.882458   23253\n",
       "2015-02-20  40.270542  40.751503  40.210423  40.721443  36.293255   27545\n",
       "2015-02-23  40.731464  40.781563  40.661324  40.741482  36.311119   37325\n",
       "...               ...        ...        ...        ...        ...     ...\n",
       "2022-02-14  69.660004  69.660004  68.800003  69.150002  69.150002   24800\n",
       "2022-02-15  69.910004  70.300003  69.910004  70.250000  70.250000    2400\n",
       "2022-02-16  69.699997  70.269997  69.669998  70.269997  70.269997   55000\n",
       "2022-02-17  69.809998  69.809998  68.849998  68.930000  68.930000    4100\n",
       "2022-02-18  68.980003  69.050003  68.500000  68.794998  68.794998   13746\n",
       "\n",
       "[1598 rows x 6 columns]"
      ]
     },
     "execution_count": 5,
     "metadata": {},
     "output_type": "execute_result"
    }
   ],
   "source": [
    "msci[msci[\"High\"] > 40]"
   ]
  },
  {
   "cell_type": "markdown",
   "id": "920389ae",
   "metadata": {},
   "source": [
    "## 2.4. Drop the volume column"
   ]
  },
  {
   "cell_type": "code",
   "execution_count": 6,
   "id": "5cea409e",
   "metadata": {},
   "outputs": [
    {
     "data": {
      "text/html": [
       "<div>\n",
       "<style scoped>\n",
       "    .dataframe tbody tr th:only-of-type {\n",
       "        vertical-align: middle;\n",
       "    }\n",
       "\n",
       "    .dataframe tbody tr th {\n",
       "        vertical-align: top;\n",
       "    }\n",
       "\n",
       "    .dataframe thead th {\n",
       "        text-align: right;\n",
       "    }\n",
       "</style>\n",
       "<table border=\"1\" class=\"dataframe\">\n",
       "  <thead>\n",
       "    <tr style=\"text-align: right;\">\n",
       "      <th></th>\n",
       "      <th>Open</th>\n",
       "      <th>High</th>\n",
       "      <th>Low</th>\n",
       "      <th>Close</th>\n",
       "      <th>Adj Close</th>\n",
       "    </tr>\n",
       "    <tr>\n",
       "      <th>Date</th>\n",
       "      <th></th>\n",
       "      <th></th>\n",
       "      <th></th>\n",
       "      <th></th>\n",
       "      <th></th>\n",
       "    </tr>\n",
       "  </thead>\n",
       "  <tbody>\n",
       "    <tr>\n",
       "      <th>2010-01-04</th>\n",
       "      <td>22.665331</td>\n",
       "      <td>22.945892</td>\n",
       "      <td>22.665331</td>\n",
       "      <td>22.935871</td>\n",
       "      <td>18.619488</td>\n",
       "    </tr>\n",
       "    <tr>\n",
       "      <th>2010-01-05</th>\n",
       "      <td>22.905811</td>\n",
       "      <td>22.945892</td>\n",
       "      <td>22.865730</td>\n",
       "      <td>22.945892</td>\n",
       "      <td>18.627628</td>\n",
       "    </tr>\n",
       "    <tr>\n",
       "      <th>2010-01-06</th>\n",
       "      <td>22.865730</td>\n",
       "      <td>22.905811</td>\n",
       "      <td>22.775551</td>\n",
       "      <td>22.845692</td>\n",
       "      <td>18.546288</td>\n",
       "    </tr>\n",
       "    <tr>\n",
       "      <th>2010-01-07</th>\n",
       "      <td>22.775551</td>\n",
       "      <td>22.905811</td>\n",
       "      <td>22.755510</td>\n",
       "      <td>22.905811</td>\n",
       "      <td>18.595089</td>\n",
       "    </tr>\n",
       "    <tr>\n",
       "      <th>2010-01-08</th>\n",
       "      <td>22.875751</td>\n",
       "      <td>22.945892</td>\n",
       "      <td>22.835670</td>\n",
       "      <td>22.945892</td>\n",
       "      <td>18.627628</td>\n",
       "    </tr>\n",
       "    <tr>\n",
       "      <th>...</th>\n",
       "      <td>...</td>\n",
       "      <td>...</td>\n",
       "      <td>...</td>\n",
       "      <td>...</td>\n",
       "      <td>...</td>\n",
       "    </tr>\n",
       "    <tr>\n",
       "      <th>2022-02-14</th>\n",
       "      <td>69.660004</td>\n",
       "      <td>69.660004</td>\n",
       "      <td>68.800003</td>\n",
       "      <td>69.150002</td>\n",
       "      <td>69.150002</td>\n",
       "    </tr>\n",
       "    <tr>\n",
       "      <th>2022-02-15</th>\n",
       "      <td>69.910004</td>\n",
       "      <td>70.300003</td>\n",
       "      <td>69.910004</td>\n",
       "      <td>70.250000</td>\n",
       "      <td>70.250000</td>\n",
       "    </tr>\n",
       "    <tr>\n",
       "      <th>2022-02-16</th>\n",
       "      <td>69.699997</td>\n",
       "      <td>70.269997</td>\n",
       "      <td>69.669998</td>\n",
       "      <td>70.269997</td>\n",
       "      <td>70.269997</td>\n",
       "    </tr>\n",
       "    <tr>\n",
       "      <th>2022-02-17</th>\n",
       "      <td>69.809998</td>\n",
       "      <td>69.809998</td>\n",
       "      <td>68.849998</td>\n",
       "      <td>68.930000</td>\n",
       "      <td>68.930000</td>\n",
       "    </tr>\n",
       "    <tr>\n",
       "      <th>2022-02-18</th>\n",
       "      <td>68.980003</td>\n",
       "      <td>69.050003</td>\n",
       "      <td>68.500000</td>\n",
       "      <td>68.794998</td>\n",
       "      <td>68.794998</td>\n",
       "    </tr>\n",
       "  </tbody>\n",
       "</table>\n",
       "<p>3045 rows × 5 columns</p>\n",
       "</div>"
      ],
      "text/plain": [
       "                 Open       High        Low      Close  Adj Close\n",
       "Date                                                             \n",
       "2010-01-04  22.665331  22.945892  22.665331  22.935871  18.619488\n",
       "2010-01-05  22.905811  22.945892  22.865730  22.945892  18.627628\n",
       "2010-01-06  22.865730  22.905811  22.775551  22.845692  18.546288\n",
       "2010-01-07  22.775551  22.905811  22.755510  22.905811  18.595089\n",
       "2010-01-08  22.875751  22.945892  22.835670  22.945892  18.627628\n",
       "...               ...        ...        ...        ...        ...\n",
       "2022-02-14  69.660004  69.660004  68.800003  69.150002  69.150002\n",
       "2022-02-15  69.910004  70.300003  69.910004  70.250000  70.250000\n",
       "2022-02-16  69.699997  70.269997  69.669998  70.269997  70.269997\n",
       "2022-02-17  69.809998  69.809998  68.849998  68.930000  68.930000\n",
       "2022-02-18  68.980003  69.050003  68.500000  68.794998  68.794998\n",
       "\n",
       "[3045 rows x 5 columns]"
      ]
     },
     "execution_count": 6,
     "metadata": {},
     "output_type": "execute_result"
    }
   ],
   "source": [
    "del msci[\"Volume\"]\n",
    "msci"
   ]
  },
  {
   "cell_type": "markdown",
   "id": "940faf24",
   "metadata": {},
   "source": [
    "## 2.5. Get the adjusted close price of the 01/17/2022"
   ]
  },
  {
   "cell_type": "code",
   "execution_count": 7,
   "id": "d4e2f168",
   "metadata": {},
   "outputs": [
    {
     "data": {
      "text/plain": [
       "72.19999694824219"
      ]
     },
     "execution_count": 7,
     "metadata": {},
     "output_type": "execute_result"
    }
   ],
   "source": [
    "msci.loc[pd.to_datetime(\"2022-01-17\"), \"Adj Close\"]"
   ]
  },
  {
   "cell_type": "markdown",
   "id": "341ce79a",
   "metadata": {},
   "source": [
    "## 2.6. Create a new column that stores the daily return"
   ]
  },
  {
   "cell_type": "code",
   "execution_count": 8,
   "id": "8c38b5ca",
   "metadata": {
    "scrolled": false
   },
   "outputs": [
    {
     "data": {
      "text/html": [
       "<div>\n",
       "<style scoped>\n",
       "    .dataframe tbody tr th:only-of-type {\n",
       "        vertical-align: middle;\n",
       "    }\n",
       "\n",
       "    .dataframe tbody tr th {\n",
       "        vertical-align: top;\n",
       "    }\n",
       "\n",
       "    .dataframe thead th {\n",
       "        text-align: right;\n",
       "    }\n",
       "</style>\n",
       "<table border=\"1\" class=\"dataframe\">\n",
       "  <thead>\n",
       "    <tr style=\"text-align: right;\">\n",
       "      <th></th>\n",
       "      <th>Open</th>\n",
       "      <th>High</th>\n",
       "      <th>Low</th>\n",
       "      <th>Close</th>\n",
       "      <th>Adj Close</th>\n",
       "      <th>daily return</th>\n",
       "    </tr>\n",
       "    <tr>\n",
       "      <th>Date</th>\n",
       "      <th></th>\n",
       "      <th></th>\n",
       "      <th></th>\n",
       "      <th></th>\n",
       "      <th></th>\n",
       "      <th></th>\n",
       "    </tr>\n",
       "  </thead>\n",
       "  <tbody>\n",
       "    <tr>\n",
       "      <th>2010-01-04</th>\n",
       "      <td>22.665331</td>\n",
       "      <td>22.945892</td>\n",
       "      <td>22.665331</td>\n",
       "      <td>22.935871</td>\n",
       "      <td>18.619488</td>\n",
       "      <td>-0.178504</td>\n",
       "    </tr>\n",
       "    <tr>\n",
       "      <th>2010-01-05</th>\n",
       "      <td>22.905811</td>\n",
       "      <td>22.945892</td>\n",
       "      <td>22.865730</td>\n",
       "      <td>22.945892</td>\n",
       "      <td>18.627628</td>\n",
       "      <td>-0.186773</td>\n",
       "    </tr>\n",
       "    <tr>\n",
       "      <th>2010-01-06</th>\n",
       "      <td>22.865730</td>\n",
       "      <td>22.905811</td>\n",
       "      <td>22.775551</td>\n",
       "      <td>22.845692</td>\n",
       "      <td>18.546288</td>\n",
       "      <td>-0.188905</td>\n",
       "    </tr>\n",
       "    <tr>\n",
       "      <th>2010-01-07</th>\n",
       "      <td>22.775551</td>\n",
       "      <td>22.905811</td>\n",
       "      <td>22.755510</td>\n",
       "      <td>22.905811</td>\n",
       "      <td>18.595089</td>\n",
       "      <td>-0.183550</td>\n",
       "    </tr>\n",
       "    <tr>\n",
       "      <th>2010-01-08</th>\n",
       "      <td>22.875751</td>\n",
       "      <td>22.945892</td>\n",
       "      <td>22.835670</td>\n",
       "      <td>22.945892</td>\n",
       "      <td>18.627628</td>\n",
       "      <td>-0.185704</td>\n",
       "    </tr>\n",
       "    <tr>\n",
       "      <th>...</th>\n",
       "      <td>...</td>\n",
       "      <td>...</td>\n",
       "      <td>...</td>\n",
       "      <td>...</td>\n",
       "      <td>...</td>\n",
       "      <td>...</td>\n",
       "    </tr>\n",
       "    <tr>\n",
       "      <th>2022-02-14</th>\n",
       "      <td>69.660004</td>\n",
       "      <td>69.660004</td>\n",
       "      <td>68.800003</td>\n",
       "      <td>69.150002</td>\n",
       "      <td>69.150002</td>\n",
       "      <td>-0.007321</td>\n",
       "    </tr>\n",
       "    <tr>\n",
       "      <th>2022-02-15</th>\n",
       "      <td>69.910004</td>\n",
       "      <td>70.300003</td>\n",
       "      <td>69.910004</td>\n",
       "      <td>70.250000</td>\n",
       "      <td>70.250000</td>\n",
       "      <td>0.004863</td>\n",
       "    </tr>\n",
       "    <tr>\n",
       "      <th>2022-02-16</th>\n",
       "      <td>69.699997</td>\n",
       "      <td>70.269997</td>\n",
       "      <td>69.669998</td>\n",
       "      <td>70.269997</td>\n",
       "      <td>70.269997</td>\n",
       "      <td>0.008178</td>\n",
       "    </tr>\n",
       "    <tr>\n",
       "      <th>2022-02-17</th>\n",
       "      <td>69.809998</td>\n",
       "      <td>69.809998</td>\n",
       "      <td>68.849998</td>\n",
       "      <td>68.930000</td>\n",
       "      <td>68.930000</td>\n",
       "      <td>-0.012606</td>\n",
       "    </tr>\n",
       "    <tr>\n",
       "      <th>2022-02-18</th>\n",
       "      <td>68.980003</td>\n",
       "      <td>69.050003</td>\n",
       "      <td>68.500000</td>\n",
       "      <td>68.794998</td>\n",
       "      <td>68.794998</td>\n",
       "      <td>-0.002682</td>\n",
       "    </tr>\n",
       "  </tbody>\n",
       "</table>\n",
       "<p>3045 rows × 6 columns</p>\n",
       "</div>"
      ],
      "text/plain": [
       "                 Open       High        Low      Close  Adj Close  \\\n",
       "Date                                                                \n",
       "2010-01-04  22.665331  22.945892  22.665331  22.935871  18.619488   \n",
       "2010-01-05  22.905811  22.945892  22.865730  22.945892  18.627628   \n",
       "2010-01-06  22.865730  22.905811  22.775551  22.845692  18.546288   \n",
       "2010-01-07  22.775551  22.905811  22.755510  22.905811  18.595089   \n",
       "2010-01-08  22.875751  22.945892  22.835670  22.945892  18.627628   \n",
       "...               ...        ...        ...        ...        ...   \n",
       "2022-02-14  69.660004  69.660004  68.800003  69.150002  69.150002   \n",
       "2022-02-15  69.910004  70.300003  69.910004  70.250000  70.250000   \n",
       "2022-02-16  69.699997  70.269997  69.669998  70.269997  70.269997   \n",
       "2022-02-17  69.809998  69.809998  68.849998  68.930000  68.930000   \n",
       "2022-02-18  68.980003  69.050003  68.500000  68.794998  68.794998   \n",
       "\n",
       "            daily return  \n",
       "Date                      \n",
       "2010-01-04     -0.178504  \n",
       "2010-01-05     -0.186773  \n",
       "2010-01-06     -0.188905  \n",
       "2010-01-07     -0.183550  \n",
       "2010-01-08     -0.185704  \n",
       "...                  ...  \n",
       "2022-02-14     -0.007321  \n",
       "2022-02-15      0.004863  \n",
       "2022-02-16      0.008178  \n",
       "2022-02-17     -0.012606  \n",
       "2022-02-18     -0.002682  \n",
       "\n",
       "[3045 rows x 6 columns]"
      ]
     },
     "execution_count": 8,
     "metadata": {},
     "output_type": "execute_result"
    }
   ],
   "source": [
    "msci = msci.copy()\n",
    "msci[\"daily return\"] = (msci[\"Adj Close\"] - msci[\"Open\"]) / msci[\"Open\"]\n",
    "msci"
   ]
  },
  {
   "cell_type": "markdown",
   "id": "8670106a",
   "metadata": {},
   "source": [
    "## 2.7. How are the returns distributed?"
   ]
  },
  {
   "cell_type": "markdown",
   "id": "54a012ba",
   "metadata": {},
   "source": [
    "From the histogram below, we can observe an approximate bell-shaped distribution whose mean is round -0.05."
   ]
  },
  {
   "cell_type": "code",
   "execution_count": 9,
   "id": "bb020f7c",
   "metadata": {
    "scrolled": true
   },
   "outputs": [
    {
     "data": {
      "image/png": "[encoded data removed]",
      "text/plain": [
       "<Figure size 432x288 with 1 Axes>"
      ]
     },
     "metadata": {
      "needs_background": "light"
     },
     "output_type": "display_data"
    }
   ],
   "source": [
    "plt.hist(x = msci[\"daily return\"], density = True)\n",
    "plt.xlabel(\"Daily Return\")\n",
    "plt.title(\"Distribution of Daily Returns\")\n",
    "msci[\"daily return\"].plot.density(color = \"red\")\n",
    "plt.show()"
   ]
  },
  {
   "cell_type": "code",
   "execution_count": 10,
   "id": "8a65f485",
   "metadata": {},
   "outputs": [
    {
     "data": {
      "text/plain": [
       "-0.09427722134211995"
      ]
     },
     "execution_count": 10,
     "metadata": {},
     "output_type": "execute_result"
    }
   ],
   "source": [
    "# Check if the mean is around -0.05.\n",
    "np.nanmean(msci[\"daily return\"])"
   ]
  },
  {
   "cell_type": "markdown",
   "id": "5a43b732",
   "metadata": {},
   "source": [
    "## 2.8. Calculate the cumulative return (Hint: cumsum())"
   ]
  },
  {
   "cell_type": "code",
   "execution_count": 11,
   "id": "b541843c",
   "metadata": {},
   "outputs": [
    {
     "data": {
      "text/plain": [
       "Date\n",
       "2010-01-04     -0.178504\n",
       "2010-01-05     -0.365276\n",
       "2010-01-06     -0.554181\n",
       "2010-01-07     -0.737731\n",
       "2010-01-08     -0.923436\n",
       "                 ...    \n",
       "2022-02-14   -287.071893\n",
       "2022-02-15   -287.067029\n",
       "2022-02-16   -287.058851\n",
       "2022-02-17   -287.071457\n",
       "2022-02-18   -287.074139\n",
       "Name: daily return, Length: 3045, dtype: float64"
      ]
     },
     "execution_count": 11,
     "metadata": {},
     "output_type": "execute_result"
    }
   ],
   "source": [
    "msci[\"daily return\"].cumsum()"
   ]
  },
  {
   "cell_type": "markdown",
   "id": "00179ae9",
   "metadata": {},
   "source": [
    "## 2.9. Add a 10-day exponential moving-average \"EMA 10\" column to the MSCI data frame based on the \"Adj Close\" column (Hint: you can use pandas_ta using pip install pandas_ta)"
   ]
  },
  {
   "cell_type": "code",
   "execution_count": 12,
   "id": "526ad396",
   "metadata": {},
   "outputs": [],
   "source": [
    "msci[\"EMA_10\"] = msci.ta.ema(signal = 10)"
   ]
  },
  {
   "cell_type": "code",
   "execution_count": 13,
   "id": "648f6d93",
   "metadata": {},
   "outputs": [
    {
     "data": {
      "image/png": "[encoded data removed]",
      "text/plain": [
       "<Figure size 432x288 with 1 Axes>"
      ]
     },
     "metadata": {
      "needs_background": "light"
     },
     "output_type": "display_data"
    }
   ],
   "source": [
    "msci[\"Adj Close\"].plot(), msci.ta.ema(window = 10).plot()\n",
    "plt.ylabel(\"Price\")\n",
    "plt.legend()\n",
    "plt.show()"
   ]
  },
  {
   "cell_type": "markdown",
   "id": "34786bd5",
   "metadata": {},
   "source": [
    "# 3. Linear Regression using Scikit-Learn"
   ]
  },
  {
   "cell_type": "markdown",
   "id": "ded86465",
   "metadata": {},
   "source": [
    "## 3.1 Handle Missing Values\n",
    "Adding the EMA has created missing values for the first n indexes, where n is\n",
    "your window size (9, in our case)."
   ]
  },
  {
   "cell_type": "markdown",
   "id": "7f38148a",
   "metadata": {},
   "source": [
    "### 3.1.1 Find and print out the number of missing values grouped by column."
   ]
  },
  {
   "cell_type": "code",
   "execution_count": 14,
   "id": "fb2b7001",
   "metadata": {
    "scrolled": false
   },
   "outputs": [
    {
     "data": {
      "text/plain": [
       "Open            0\n",
       "High            0\n",
       "Low             0\n",
       "Close           0\n",
       "Adj Close       0\n",
       "daily return    0\n",
       "EMA_10          9\n",
       "dtype: int64"
      ]
     },
     "execution_count": 14,
     "metadata": {},
     "output_type": "execute_result"
    }
   ],
   "source": [
    "msci.isnull().sum()"
   ]
  },
  {
   "cell_type": "markdown",
   "id": "aa787f18",
   "metadata": {},
   "source": [
    "There are 9 missing values in the column \"EMA_10\" and no missing value exists in other columns."
   ]
  },
  {
   "cell_type": "markdown",
   "id": "bebe15e2",
   "metadata": {},
   "source": [
    "### 3.1.2 Replace missing values\n",
    "\n",
    "Often times, if statistically reasonable (esp. in time series), we can replace missing values with their mean or mode. This can especially be done if the missing values make up only a little percentage of the data set. Another approach would be to drop the missing entries, which will however often times decrease our performance. Try filling the missing rows of the explanatory variable with \"reasonable\" values (Hint: Look at the distribution of the beginning of the EMA 10 time series). Make sure there are no missing values left."
   ]
  },
  {
   "cell_type": "code",
   "execution_count": 15,
   "id": "efa56dad",
   "metadata": {},
   "outputs": [
    {
     "data": {
      "text/plain": [
       "3045"
      ]
     },
     "execution_count": 15,
     "metadata": {},
     "output_type": "execute_result"
    }
   ],
   "source": [
    "# Get the number of rows in our data frame.\n",
    "msci.shape[0]"
   ]
  },
  {
   "cell_type": "code",
   "execution_count": 16,
   "id": "3c5e5d23",
   "metadata": {},
   "outputs": [
    {
     "data": {
      "image/png": "[encoded data removed]",
      "text/plain": [
       "<Figure size 432x288 with 1 Axes>"
      ]
     },
     "metadata": {
      "needs_background": "light"
     },
     "output_type": "display_data"
    },
    {
     "data": {
      "image/png": "[encoded data removed]",
      "text/plain": [
       "<Figure size 432x288 with 1 Axes>"
      ]
     },
     "metadata": {
      "needs_background": "light"
     },
     "output_type": "display_data"
    },
    {
     "data": {
      "image/png": "[encoded data removed]",
      "text/plain": [
       "<Figure size 432x288 with 1 Axes>"
      ]
     },
     "metadata": {
      "needs_background": "light"
     },
     "output_type": "display_data"
    }
   ],
   "source": [
    "plt.figure()\n",
    "plt.plot(msci[\"EMA_10\"][0:100])\n",
    "plt.subplots_adjust(right=1.3)\n",
    "plt.title(\"EMA_10 for the first 100 days\")\n",
    "\n",
    "plt.figure()\n",
    "plt.plot(msci[\"EMA_10\"][0:500])\n",
    "plt.subplots_adjust(right=1.3)\n",
    "plt.title(\"EMA_10 for the first 500 days\")\n",
    "\n",
    "plt.figure()\n",
    "plt.plot(msci[\"EMA_10\"])\n",
    "plt.subplots_adjust(right=1.3)\n",
    "plt.title(\"EMA_10 for all data\")\n",
    "\n",
    "plt.show()"
   ]
  },
  {
   "cell_type": "markdown",
   "id": "867a8a54",
   "metadata": {},
   "source": [
    "From the above we can see that, EMA_10 just slightly changed from 2015-03 to 2015-04, compared to both the first 500-days variation of EMA_10 and certainly, the total variation of EMA_10 over the time scale (from 2015 to 2022). Besides, EMA_10 is a weighted average statistic for the past 10 days, hence, the short-term data reflects more information than long-term data, so it is reasonable to replace the first 9 missing values by the average EMA_10 from 2015-03 to 2015-04."
   ]
  },
  {
   "cell_type": "code",
   "execution_count": 17,
   "id": "0e8f1c2f",
   "metadata": {},
   "outputs": [
    {
     "data": {
      "text/plain": [
       "Date\n",
       "2010-01-04    26.908371\n",
       "2010-01-05    26.908371\n",
       "2010-01-06    26.908371\n",
       "2010-01-07    26.908371\n",
       "2010-01-08    26.908371\n",
       "                ...    \n",
       "2022-02-14    70.104130\n",
       "2022-02-15    70.130652\n",
       "2022-02-16    70.155987\n",
       "2022-02-17    69.933080\n",
       "2022-02-18    69.726156\n",
       "Name: EMA_10, Length: 3045, dtype: float64"
      ]
     },
     "execution_count": 17,
     "metadata": {},
     "output_type": "execute_result"
    }
   ],
   "source": [
    "msci[\"EMA_10\"].fillna(np.nanmean(msci[msci.index < pd.to_datetime(\"2015-04-01\")][\"EMA_10\"]), inplace = True)\n",
    "msci[\"EMA_10\"]"
   ]
  },
  {
   "cell_type": "code",
   "execution_count": 18,
   "id": "0c0e5054",
   "metadata": {},
   "outputs": [
    {
     "data": {
      "text/plain": [
       "Open            0\n",
       "High            0\n",
       "Low             0\n",
       "Close           0\n",
       "Adj Close       0\n",
       "daily return    0\n",
       "EMA_10          0\n",
       "dtype: int64"
      ]
     },
     "execution_count": 18,
     "metadata": {},
     "output_type": "execute_result"
    }
   ],
   "source": [
    "# Check if there is any missign value.\n",
    "msci.isnull().sum()"
   ]
  },
  {
   "cell_type": "markdown",
   "id": "11c9b55f",
   "metadata": {},
   "source": [
    "## 3.2 Write the function split_data\n",
    "The function split_data takes explanatory and response time series as parameter to and splits it into X_train, X_test, y_train and y_test. In the context of linear regression, y denotes the response variable (=label) and X (=features) the explanatory variable. Other than the series, it takes the size of your train split as parameter. \n",
    "\n",
    "Also, be sure to add docstring documentation as learnt in the Python Refresher. Furthermore, print out useful information in the function, like the shape of the initial time series as well as the subsets created.\n",
    "\n",
    "For example: the first 80% of the time series as train, the last 20% as test."
   ]
  },
  {
   "cell_type": "code",
   "execution_count": 19,
   "id": "e941f4ad",
   "metadata": {},
   "outputs": [],
   "source": [
    "def split_data(X: pd.Series, y: pd.Series, size: float) -> tuple:\n",
    "    \"\"\"\n",
    "    Input: X: pd.Series, y: pd.Series, size: float\n",
    "    X: The explanatory variable.\n",
    "    y: The response variable.\n",
    "    size: The proportion of training data in the time series,\n",
    "    \n",
    "    Output: A tuple with length of 4.\n",
    "    tuple[0]: X_train\n",
    "    tuple[1]: X_test\n",
    "    tuple[2]: y_train\n",
    "    tuple[3]: y_test\n",
    "    \n",
    "    Notice: X and y should have identical length and time scale.\n",
    "    \"\"\"\n",
    "    if len(X) != len(y):\n",
    "        raise Exception(\"The inputs X and y should have identical length!\")\n",
    "    elif sum(~(X.index == y.index)) > 0:\n",
    "        raise Exception(\"The inputs X and y should have identical time scale!\")\n",
    "        \n",
    "    time_quantile = np.quantile(X.index, q = size)\n",
    "    X_train, X_test = X[X.index < time_quantile].values, X[X.index >= time_quantile].values\n",
    "    y_train, y_test = y[y.index < time_quantile].values, y[y.index >= time_quantile].values\n",
    "\n",
    "    print(f\"The length of the initial time series is {len(X)}.\")\n",
    "    print(f\"The first {size*100}% of the time series as train, the last {round((1-size)*100)}% as test.\")\n",
    "    print(f\"\"\"\n",
    "    X_train: {X_train}\n",
    "    X_test: {X_test}\n",
    "    y_train: {y_train}\n",
    "    y_test: {y_test}\n",
    "    \"\"\")\n",
    "    return X_train, X_test, y_train, y_test"
   ]
  },
  {
   "cell_type": "markdown",
   "id": "a38ca7f6",
   "metadata": {},
   "source": [
    "## 3.3 Run a linear regression model on the EMA and the Adj Close"
   ]
  },
  {
   "cell_type": "markdown",
   "id": "f66ad542",
   "metadata": {},
   "source": [
    "### 3.3.1. Split the data into train and test using your custom function using 20% test size."
   ]
  },
  {
   "cell_type": "code",
   "execution_count": 20,
   "id": "a65b57b3",
   "metadata": {
    "scrolled": false
   },
   "outputs": [
    {
     "name": "stdout",
     "output_type": "stream",
     "text": [
      "\n",
      "    Input: X: pd.Series, y: pd.Series, size: float\n",
      "    X: The explanatory variable.\n",
      "    y: The response variable.\n",
      "    size: The proportion of training data in the time series,\n",
      "    \n",
      "    Output: A tuple with length of 4.\n",
      "    tuple[0]: X_train\n",
      "    tuple[1]: X_test\n",
      "    tuple[2]: y_train\n",
      "    tuple[3]: y_test\n",
      "    \n",
      "    Notice: X and y should have identical length and time scale.\n",
      "    \n"
     ]
    }
   ],
   "source": [
    "print(split_data.__doc__)"
   ]
  },
  {
   "cell_type": "code",
   "execution_count": 21,
   "id": "3a268627",
   "metadata": {
    "scrolled": false
   },
   "outputs": [
    {
     "name": "stdout",
     "output_type": "stream",
     "text": [
      "The length of the initial time series is 3045.\n",
      "The first 80.0% of the time series as train, the last 20% as test.\n",
      "\n",
      "    X_train: [26.90837053 26.90837053 26.90837053 ... 52.56427553 52.66645293\n",
      " 52.77555838]\n",
      "    X_test: [52.89215427 52.98390683 53.03347135 53.0539845  52.9851419  52.97618357\n",
      " 52.97067608 52.90240554 52.88298443 52.75049787 52.5255032  52.42157662\n",
      " 52.43856813 52.44518281 52.29573961 52.26638145 52.27515366 52.36249158\n",
      " 52.50135697 52.60222123 52.66835027 52.68601924 52.72780347 52.74377227\n",
      " 52.76959053 52.80893287 52.86480577 52.95424333 53.04928189 53.20902272\n",
      " 53.29417435 53.45857876 53.64410228 53.79771629 53.93068725 54.06498743\n",
      " 54.22588091 54.34294611 54.46423249 54.56528815 54.64797005 54.7666304\n",
      " 54.85096326 54.97097369 55.04365899 55.07397963 55.12793657 55.25042108\n",
      " 55.35245773 55.47420089 55.55741267 55.59270182 55.56691986 55.46566556\n",
      " 55.39739536 55.33242911 55.4286647  55.44181717 55.45622166 55.46254173\n",
      " 55.54969471 55.65015083 55.78153168 55.87627222 55.90459773 55.96603179\n",
      " 56.0837038  56.1799809  56.25875307 56.32138099 56.20137055 56.08313985\n",
      " 56.06110087 55.97748255 55.90906756 55.86584523 55.89606656 56.0027758\n",
      " 56.06822098 56.15820364 56.23729124 56.30017723 56.41903719 56.56911912\n",
      " 56.66822969 56.74749882 56.86883163 56.95717308 56.97115417 56.82591599\n",
      " 56.7999983  56.79701052 56.8091409  56.65510173 56.64930964 56.78485164\n",
      " 57.01234621 57.24402354 57.36617063 57.5316949  57.69080756 57.84831776\n",
      " 57.95532806 58.03377244 58.05969626 58.11187715 58.13088757 58.01891345\n",
      " 57.62123123 57.03715597 56.5501674  56.05516529 55.38235517 55.07964222\n",
      " 54.64249821 54.6692399  54.41420226 54.02699618 53.14360392 52.86170965\n",
      " 52.1683253  50.79029818 50.25127111 48.96127906 48.52160778 47.74832193\n",
      " 47.27413279 46.53090404 45.7916363  45.8736088  45.93338975 46.33027049\n",
      " 46.35985491 46.71745447 46.86246819 46.68415824 46.70041095 46.54063511\n",
      " 46.94006079 47.17759415 47.63974803 48.12718303 48.36567286 48.8195005\n",
      " 49.06875133 49.3346262  49.73434249 49.98304447 49.97337441 50.14582351\n",
      " 50.20493623 50.38447267 50.63338776 50.79696559 51.10205346 51.24964916\n",
      " 51.2210188  51.23949597 51.29833773 51.34648098 51.40044583 51.55208665\n",
      " 51.74720758 51.77750253 51.67840459 51.59185903 51.60120969 51.70359512\n",
      " 51.93128938 52.06657316 52.20823107 52.40247162 52.51584961 52.72338865\n",
      " 52.92416449 53.10665394 53.20313062 53.29664031 53.56808344 53.75373666\n",
      " 54.06595608 54.40703372 54.62233353 54.74201099 54.4263748  54.29201104\n",
      " 54.44077664 54.48779872 54.53355878 54.58557306 54.58076275 54.593224\n",
      " 54.66900531 54.43405066 54.37480788 53.92371324 53.89713875 53.90454583\n",
      " 54.02355865 54.12275482 54.32962139 54.43146807 54.31986198 54.4143743\n",
      " 54.5937249  54.6675931  54.88652931 55.08387723 55.24170034 55.40908697\n",
      " 55.58976303 55.6920435  55.79576716 55.76767879 55.6900425  55.67571137\n",
      " 55.61661847 55.65753919 55.69466385 55.67767044 55.74392741 55.83093087\n",
      " 55.97316668 56.13873023 56.27601335 56.32275015 56.48669543 56.56435622\n",
      " 56.63154026 56.69197443 56.73231177 56.75984894 56.76416104 56.78226405\n",
      " 56.93735589 57.06060583 57.22521039 57.32891568 57.45931155 57.4712642\n",
      " 57.54845073 57.7282006  57.62385655 57.44921468 57.20794761 57.17268925\n",
      " 56.99080833 56.8656804  56.8635033  56.93095186 56.94605636 56.88736343\n",
      " 56.76282536 56.5807706  56.4992238  56.2922234  56.12650281 56.13301627\n",
      " 56.28773455 56.39792598 56.46804226 56.52723216 56.55197654 56.71614631\n",
      " 56.73569181 56.8846771  57.03207992 57.18183137 57.38998067 57.50198636\n",
      " 57.58816196 57.65320385 57.57707049 57.52935378 57.47027319 57.44926164\n",
      " 57.45939746 57.32012267 57.1533377  56.78368343 56.60876714 56.28529285\n",
      " 56.12629848 56.13649247 56.32519397 56.6198664  56.85913999 57.22069533\n",
      " 57.56570283 57.95182607 58.19304984 58.55073538 58.90532954 59.18269915\n",
      " 59.30943762 59.4386378  59.53706027 59.65038028 59.83783153 59.98026989\n",
      " 60.10591986 60.25244776 60.23205392 60.33560801 60.42033408 60.48054661\n",
      " 60.50977107 60.50817692 60.57610175 60.58795254 60.5138453  60.45867752\n",
      " 60.36070738 60.36435335 60.42927877 60.53705447 60.63616544 60.68992912\n",
      " 60.76488807 60.82439609 60.86397566 60.99291587 61.03282667 61.06001553\n",
      " 61.03125014 61.00953616 61.07921761 61.25100493 61.48993645 61.65081132\n",
      " 61.74600031 61.83481304 61.84189227 61.82582199 61.87097186 61.94252791\n",
      " 62.04844122 62.13691891 62.24210297 62.35731179 62.40420611 62.24946035\n",
      " 62.26130912 62.0177701  62.02437693 62.12269536 62.20860314 62.38455774\n",
      " 62.5376294  62.73574305 62.8777957  62.97944637 63.09176425 63.25653389\n",
      " 63.3949888  63.49916128 63.52245096 63.47774244 63.38104242 63.30192422\n",
      " 63.23901319 63.04179412 62.88772053 62.9292684  62.88492349 62.74661895\n",
      " 62.50775462 62.4908591  62.46610465 62.54969539 62.65270238 62.75519912\n",
      " 62.80626688 62.86262451 62.91237867 62.96766155 62.97099097 62.971893\n",
      " 63.03639473 63.03269263 62.98047416 63.02337603 63.14956838 63.30747156\n",
      " 63.43302169 63.48473301 63.62359919 63.90118099 64.12282795 64.37340458\n",
      " 64.59117541 64.78574779 64.96498372 65.14077975 65.249999   65.46324353\n",
      " 65.67233159 65.81243245 65.88151434 65.9161742  65.89352074 65.96972098\n",
      " 65.97376835 65.97343714 65.90757972 65.85369637 65.72762869 65.67549253\n",
      " 65.5344581  65.45732424 65.36688761 65.39491566 65.26481453 65.04177158\n",
      " 64.6734555  64.52149508 64.53562277 64.46884317 64.38141279 64.28801716\n",
      " 64.28083168 64.30227975 64.38541461 64.51537502 64.58527104 64.68253799\n",
      " 64.70017768 64.77655251 64.82993151 64.89364558 65.01318305 65.12556136\n",
      " 65.25940927 65.33430594 65.40651587 65.54393535 65.68187523 65.82935038\n",
      " 65.95001187 66.11431996 66.16677254 66.26252115 66.36636529 66.39667448\n",
      " 66.44697866 66.49906747 66.57812218 66.6919921  66.77422756 66.89616671\n",
      " 66.98500426 67.15242442 67.37138586 67.46491074 67.63434464 67.82398251\n",
      " 67.98642891 68.15213213 68.27313258 68.30108247 68.25289871 68.33189493\n",
      " 68.38377463 68.446262   68.61216325 68.7460779  68.82467464 68.8762275\n",
      " 68.90747626 68.88021057 69.01093544 69.1014959  69.16465997 69.28739014\n",
      " 69.40966881 69.47145565 69.54751429 69.65529018 69.76533213 69.89544714\n",
      " 69.97457638 70.00470461 70.15323832 70.34035234 70.44061276 70.49167284\n",
      " 70.55166687 70.61897189 70.71229758 70.79412038 70.88110665 71.01057552\n",
      " 71.06549307 71.1140697  71.24672774 71.32429497 71.34585704 71.29244687\n",
      " 71.27243206 71.22872921 71.22576485 71.25248791 71.20330177 70.98998505\n",
      " 70.91018807 70.85400914 70.84448115 70.81482385 70.73043776 70.45917264\n",
      " 70.34107145 70.01489414 69.84639937 69.4808123  69.29647083 69.16750767\n",
      " 69.14033098 69.01242978 68.7966522  68.66565162 68.66049236 68.77651179\n",
      " 68.89329847 69.04897083 69.20002354 69.34911788 69.482035   69.68187618\n",
      " 69.85995752 69.92367774 70.068726   70.21837303 70.38635761 70.58027509\n",
      " 70.78994636 71.11999418 71.39185465 71.62886085 71.780873   71.8378388\n",
      " 72.00104513 72.18194503 72.31902319 72.49129769 72.64864581 72.79378144\n",
      " 72.90888608 73.0067053  73.07216429 73.11296946 73.13178059 72.96316716\n",
      " 72.93452052 72.74529701 72.48845473 72.4440978  72.28027696 72.27741321\n",
      " 72.42446063 72.58120876 72.69852638 72.86009858 72.96861098 73.00638234\n",
      " 73.21035969 73.26247502 73.26139147 73.19674123 73.33149261 73.47089358\n",
      " 73.67603973 73.85857801 74.14444791 74.1563663  74.0352084  74.09971586\n",
      " 73.99613093 73.84047065 73.59674872 73.39006696 73.21914514 73.09748295\n",
      " 72.8415774  72.68492757 72.59675837 72.21552957 71.81088745 71.37436312\n",
      " 70.86629743 70.49060754 70.03776981 69.67999342 69.41090316 69.43073834\n",
      " 69.54878624 69.76718875 70.04406369 70.01968914 70.11792703 70.09103143\n",
      " 70.19811668 70.43845849 70.48419375 70.31615808 70.10412962 70.13065151\n",
      " 70.15598698 69.93308032 69.72615629]\n",
      "    y_train: [18.61948776 18.62762833 18.54628754 ... 51.76584625 51.39746857\n",
      " 51.53318787]\n",
      "    y_test: [51.67859268 51.65921021 51.52349091 51.41686249 50.96124268 51.21328354\n",
      " 51.2229805  50.88368607 51.07756424 50.45715714 49.83673859 50.26327133\n",
      " 50.80613708 50.76736069 49.94337463 50.43776703 50.61225891 51.03878784\n",
      " 51.39746857 51.32961273 51.24236298 51.0484848  51.19390106 51.09696198\n",
      " 51.16481781 51.26175308 51.38777924 51.62042999 51.73676682 52.17299271\n",
      " 51.93064117 52.43472672 52.70615768 52.71585083 52.75462723 52.89034271\n",
      " 53.1617775  53.0842247  53.21993637 53.22962952 53.22962952 53.5010643\n",
      " 53.43320465 53.70463562 53.56892776 53.41381836 53.56892776 53.98575974\n",
      " 53.99545288 54.19902802 54.1117897  53.93729401 53.64647675 53.21993637\n",
      " 53.29748917 53.24902344 54.04393005 53.69493866 53.71433258 53.68525314\n",
      " 54.12147903 54.27658081 54.53832245 54.47045898 54.20872498 54.4122963\n",
      " 54.77097321 54.77097321 54.77097321 54.76128006 54.34258652 54.23497391\n",
      " 54.63606644 54.28388214 54.28388214 54.3523674  54.70454025 55.14476395\n",
      " 55.02736664 55.22302246 55.25237274 55.24258804 55.60454559 55.88824081\n",
      " 55.76106644 55.75128555 56.05454636 55.99585342 55.68280792 54.84149933\n",
      " 55.34041214 55.43823624 55.51649857 54.63606644 55.28171539 56.03498459\n",
      " 56.66106796 56.90563202 56.54367828 56.89585495 57.02302933 57.16976547\n",
      " 57.05237961 57.00346375 56.79802704 56.96432877 56.8371582  56.15237045\n",
      " 54.50888443 53.11975098 53.07084274 52.55235672 51.1143074  52.44475174\n",
      " 51.42735672 53.49149323 52.00453186 51.04583359 48.00342941 50.37082672\n",
      " 47.88603973 43.53276443 46.69255447 42.1338501  45.44037628 43.21971512\n",
      " 44.07081223 42.16319656 41.45884323 45.14690018 45.1077652  46.97625351\n",
      " 45.39146423 47.1816864  46.38929367 44.79472351 45.66538239 44.73603058\n",
      " 47.58277512 47.1034317  48.54147339 49.12843323 48.26756287 49.65670013\n",
      " 49.00125885 49.33386993 50.31213379 49.89148331 48.7469101  49.71539307\n",
      " 49.275177   49.97952271 50.52734756 50.31213379 51.2317009  50.68387985\n",
      " 49.88169479 50.1067009  50.34148026 50.34148026 50.41974258 50.99692154\n",
      " 51.37844086 50.68387985 50.01865387 49.9893074  50.41974258 50.92844009\n",
      " 51.70127106 51.42735672 51.59366226 52.01431274 51.76974869 52.38605499\n",
      " 52.55235672 52.65018845 52.36648941 52.44475174 53.49149323 53.2958374\n",
      " 54.15671158 54.61649704 54.27410889 53.97084045 51.75018311 52.41540527\n",
      " 53.80454254 53.4034462  53.44258118 53.52083969 53.26649094 53.35453796\n",
      " 53.70671082 52.5447464  53.26480865 51.0848999  52.93929672 53.09712601\n",
      " 53.70868301 53.71854782 54.39915085 54.03418732 52.97875595 53.9848671\n",
      " 54.5372467  54.14268875 55.00084686 55.0994873  55.07976151 55.28690338\n",
      " 55.52363586 55.27703857 55.38553619 54.77397919 54.47806168 54.74438477\n",
      " 54.4879303  54.97125244 54.99098587 54.73451996 55.16853333 55.34608459\n",
      " 55.73077393 55.99709702 56.00695801 55.6518631  56.33246613 56.02669144\n",
      " 56.04641724 56.07600784 56.02669144 55.99709702 55.89845657 55.9773674\n",
      " 56.73688126 56.71716309 57.06239319 56.89470673 57.14130402 56.62838364\n",
      " 56.99334335 57.62463379 56.2634201  55.78009415 55.24744415 56.12532806\n",
      " 55.29676437 55.42499161 55.96750259 56.34233093 56.12532806 55.74063492\n",
      " 55.32635498 54.89234543 55.25730515 54.49779129 54.5175209  55.28690338\n",
      " 56.09573746 56.00695801 55.89845657 55.90832138 55.78009415 56.55933762\n",
      " 55.93791199 56.65797424 56.7960701  56.95389175 57.41749191 57.1018486\n",
      " 57.072258   57.04266739 56.34233093 56.42124176 56.31274414 56.46070099\n",
      " 56.60865402 55.80968475 55.52363586 54.26105881 54.95153046 53.9750061\n",
      " 54.54711151 55.30662918 56.28315353 57.04266739 57.03280258 57.93041229\n",
      " 58.1967392  58.75897598 58.35455704 59.22257614 59.55794907 59.48890305\n",
      " 58.94638824 59.0844841  59.04502869 59.22257614 59.73549652 59.67631531\n",
      " 59.72563553 59.96236801 59.20285034 59.85386276 59.85386276 59.80454254\n",
      " 59.69604111 59.55794907 59.93277359 59.69604111 59.24230957 59.27190018\n",
      " 58.98584747 59.43957901 59.77495193 60.07087326 60.13005447 59.98209381\n",
      " 60.14977646 60.13991165 60.09059525 60.61338043 60.45109558 60.42140961\n",
      " 60.1443367  60.15423203 60.62921143 61.25262451 61.78697205 61.59896088\n",
      " 61.40105438 61.46043015 61.10419464 60.98544312 61.30210114 61.49011612\n",
      " 61.74739456 61.75728607 61.93540573 62.09373474 61.83645248 60.78753662\n",
      " 61.53958893 60.16412735 61.28231049 61.78697205 61.81665802 62.39059448\n",
      " 62.44007111 62.83588791 62.72703934 62.64787674 62.80620193 63.20202255\n",
      " 63.22180939 63.17233276 62.83588791 62.48955154 62.16300201 62.16300201\n",
      " 62.17289734 61.38126373 61.42084503 62.33122635 61.90572357 61.35157776\n",
      " 60.66879272 61.63854599 61.57917023 62.14321136 62.33122635 62.4301796\n",
      " 62.25205994 62.33122635 62.35101318 62.4301796  62.20258331 62.19268799\n",
      " 62.53902435 62.23226929 61.96509171 62.4301796  62.92494965 63.22180939\n",
      " 63.20202255 62.92494965 63.44940567 64.33999634 64.31030273 64.68632507\n",
      " 64.7556076  64.8446579  64.95350647 65.11183167 64.92382812 65.59671021\n",
      " 65.78472137 65.61650085 65.36911011 65.25036621 64.97329712 65.48786163\n",
      " 65.17121124 65.15142059 64.79518127 64.79518127 64.34989166 64.62696075\n",
      " 64.09261322 64.30041504 64.15198517 64.70612335 63.87491226 63.24160385\n",
      " 62.23226929 63.04368973 63.79574203 63.37023926 63.19212341 63.07338333\n",
      " 63.44940567 63.59783554 63.95407104 64.29051208 64.09261322 64.31030273\n",
      " 63.97386169 64.31030273 64.26082611 64.36967468 64.73580933 64.81497955\n",
      " 65.04257202 64.85454559 64.91392517 65.33943176 65.47795868 65.66597748\n",
      " 65.66597748 66.0222168  65.57691956 65.8638916  66.00242615 65.70555878\n",
      " 66.22608948 66.28581238 66.48486328 66.75359344 66.69387054 66.99246216\n",
      " 66.93274689 67.45029449 67.89816284 67.43038177 67.93798065 68.21665192\n",
      " 68.25646973 68.43562317 68.35599518 67.9678421  67.57967377 68.22661591\n",
      " 68.15693665 68.26641846 68.89344788 68.88349152 68.71430206 68.64463043\n",
      " 68.58490753 68.29627991 69.13231659 69.04273987 68.9830246  69.37117767\n",
      " 69.49062347 69.28160858 69.42094421 69.66976929 69.78919983 70.00817108\n",
      " 69.85887146 69.66976929 70.34655762 70.7048645  70.41622925 70.24703217\n",
      " 70.34655762 70.4460907  70.65509796 70.68495941 70.79444122 71.1129303\n",
      " 70.83424377 70.85415649 71.36174774 71.19255066 70.96363831 70.57546997\n",
      " 70.7048645  70.55557251 70.73471832 70.89396667 70.50580597 69.56028748\n",
      " 70.07783508 70.12760162 70.32666016 70.20722198 69.87877655 68.77401733\n",
      " 69.34132385 68.08727264 68.62471771 67.38061523 68.00764465 68.12708282\n",
      " 68.55505371 67.97779083 67.3706665  67.61948395 68.17684937 68.8337326\n",
      " 68.95316315 69.28160858 69.41099548 69.55033875 69.61005402 70.10769653\n",
      " 70.18731689 69.73943329 70.24703217 70.41622925 70.66505432 70.97358704\n",
      " 71.25226593 72.11816406 72.12811279 72.20774078 71.9788208  71.61056519\n",
      " 72.24755096 72.50632477 72.4466095  72.7750473  72.86462402 72.95420074\n",
      " 72.93429565 72.95420074 72.87457275 72.80490875 72.72528076 71.720047\n",
      " 72.3172226  71.41151428 70.85415649 71.75986481 71.06316376 71.77976227\n",
      " 72.59590149 72.79496002 72.73524475 73.09353638 72.9641571  72.68547821\n",
      " 73.6309967  73.00396729 72.76509857 72.41675568 73.4418869  73.60113525\n",
      " 74.09877777 74.179039   74.92485809 74.20999908 73.48999786 74.38999939\n",
      " 73.52999878 73.13999939 72.5        72.45999908 72.44999695 72.55000305\n",
      " 71.69000244 71.98000336 72.19999695 70.5        69.98999786 69.41000366\n",
      " 68.58000183 68.80000305 68.         68.06999969 68.19999695 69.51999664\n",
      " 70.08000183 70.75       71.29000092 69.91000366 70.55999756 69.97000122\n",
      " 70.68000031 71.51999664 70.69000244 69.55999756 69.15000153 70.25\n",
      " 70.26999664 68.93000031 68.79499817]\n",
      "    \n",
      "The length of the initial time series is 3045.\n",
      "The first 80.0% of the time series as train, the last 20% as test.\n",
      "\n",
      "    X_train: [26.90837053 26.90837053 26.90837053 ... 52.56427553 52.66645293\n",
      " 52.77555838]\n",
      "    X_test: [52.89215427 52.98390683 53.03347135 53.0539845  52.9851419  52.97618357\n",
      " 52.97067608 52.90240554 52.88298443 52.75049787 52.5255032  52.42157662\n",
      " 52.43856813 52.44518281 52.29573961 52.26638145 52.27515366 52.36249158\n",
      " 52.50135697 52.60222123 52.66835027 52.68601924 52.72780347 52.74377227\n",
      " 52.76959053 52.80893287 52.86480577 52.95424333 53.04928189 53.20902272\n",
      " 53.29417435 53.45857876 53.64410228 53.79771629 53.93068725 54.06498743\n",
      " 54.22588091 54.34294611 54.46423249 54.56528815 54.64797005 54.7666304\n",
      " 54.85096326 54.97097369 55.04365899 55.07397963 55.12793657 55.25042108\n",
      " 55.35245773 55.47420089 55.55741267 55.59270182 55.56691986 55.46566556\n",
      " 55.39739536 55.33242911 55.4286647  55.44181717 55.45622166 55.46254173\n",
      " 55.54969471 55.65015083 55.78153168 55.87627222 55.90459773 55.96603179\n",
      " 56.0837038  56.1799809  56.25875307 56.32138099 56.20137055 56.08313985\n",
      " 56.06110087 55.97748255 55.90906756 55.86584523 55.89606656 56.0027758\n",
      " 56.06822098 56.15820364 56.23729124 56.30017723 56.41903719 56.56911912\n",
      " 56.66822969 56.74749882 56.86883163 56.95717308 56.97115417 56.82591599\n",
      " 56.7999983  56.79701052 56.8091409  56.65510173 56.64930964 56.78485164\n",
      " 57.01234621 57.24402354 57.36617063 57.5316949  57.69080756 57.84831776\n",
      " 57.95532806 58.03377244 58.05969626 58.11187715 58.13088757 58.01891345\n",
      " 57.62123123 57.03715597 56.5501674  56.05516529 55.38235517 55.07964222\n",
      " 54.64249821 54.6692399  54.41420226 54.02699618 53.14360392 52.86170965\n",
      " 52.1683253  50.79029818 50.25127111 48.96127906 48.52160778 47.74832193\n",
      " 47.27413279 46.53090404 45.7916363  45.8736088  45.93338975 46.33027049\n",
      " 46.35985491 46.71745447 46.86246819 46.68415824 46.70041095 46.54063511\n",
      " 46.94006079 47.17759415 47.63974803 48.12718303 48.36567286 48.8195005\n",
      " 49.06875133 49.3346262  49.73434249 49.98304447 49.97337441 50.14582351\n",
      " 50.20493623 50.38447267 50.63338776 50.79696559 51.10205346 51.24964916\n",
      " 51.2210188  51.23949597 51.29833773 51.34648098 51.40044583 51.55208665\n",
      " 51.74720758 51.77750253 51.67840459 51.59185903 51.60120969 51.70359512\n",
      " 51.93128938 52.06657316 52.20823107 52.40247162 52.51584961 52.72338865\n",
      " 52.92416449 53.10665394 53.20313062 53.29664031 53.56808344 53.75373666\n",
      " 54.06595608 54.40703372 54.62233353 54.74201099 54.4263748  54.29201104\n",
      " 54.44077664 54.48779872 54.53355878 54.58557306 54.58076275 54.593224\n",
      " 54.66900531 54.43405066 54.37480788 53.92371324 53.89713875 53.90454583\n",
      " 54.02355865 54.12275482 54.32962139 54.43146807 54.31986198 54.4143743\n",
      " 54.5937249  54.6675931  54.88652931 55.08387723 55.24170034 55.40908697\n",
      " 55.58976303 55.6920435  55.79576716 55.76767879 55.6900425  55.67571137\n",
      " 55.61661847 55.65753919 55.69466385 55.67767044 55.74392741 55.83093087\n",
      " 55.97316668 56.13873023 56.27601335 56.32275015 56.48669543 56.56435622\n",
      " 56.63154026 56.69197443 56.73231177 56.75984894 56.76416104 56.78226405\n",
      " 56.93735589 57.06060583 57.22521039 57.32891568 57.45931155 57.4712642\n",
      " 57.54845073 57.7282006  57.62385655 57.44921468 57.20794761 57.17268925\n",
      " 56.99080833 56.8656804  56.8635033  56.93095186 56.94605636 56.88736343\n",
      " 56.76282536 56.5807706  56.4992238  56.2922234  56.12650281 56.13301627\n",
      " 56.28773455 56.39792598 56.46804226 56.52723216 56.55197654 56.71614631\n",
      " 56.73569181 56.8846771  57.03207992 57.18183137 57.38998067 57.50198636\n",
      " 57.58816196 57.65320385 57.57707049 57.52935378 57.47027319 57.44926164\n",
      " 57.45939746 57.32012267 57.1533377  56.78368343 56.60876714 56.28529285\n",
      " 56.12629848 56.13649247 56.32519397 56.6198664  56.85913999 57.22069533\n",
      " 57.56570283 57.95182607 58.19304984 58.55073538 58.90532954 59.18269915\n",
      " 59.30943762 59.4386378  59.53706027 59.65038028 59.83783153 59.98026989\n",
      " 60.10591986 60.25244776 60.23205392 60.33560801 60.42033408 60.48054661\n",
      " 60.50977107 60.50817692 60.57610175 60.58795254 60.5138453  60.45867752\n",
      " 60.36070738 60.36435335 60.42927877 60.53705447 60.63616544 60.68992912\n",
      " 60.76488807 60.82439609 60.86397566 60.99291587 61.03282667 61.06001553\n",
      " 61.03125014 61.00953616 61.07921761 61.25100493 61.48993645 61.65081132\n",
      " 61.74600031 61.83481304 61.84189227 61.82582199 61.87097186 61.94252791\n",
      " 62.04844122 62.13691891 62.24210297 62.35731179 62.40420611 62.24946035\n",
      " 62.26130912 62.0177701  62.02437693 62.12269536 62.20860314 62.38455774\n",
      " 62.5376294  62.73574305 62.8777957  62.97944637 63.09176425 63.25653389\n",
      " 63.3949888  63.49916128 63.52245096 63.47774244 63.38104242 63.30192422\n",
      " 63.23901319 63.04179412 62.88772053 62.9292684  62.88492349 62.74661895\n",
      " 62.50775462 62.4908591  62.46610465 62.54969539 62.65270238 62.75519912\n",
      " 62.80626688 62.86262451 62.91237867 62.96766155 62.97099097 62.971893\n",
      " 63.03639473 63.03269263 62.98047416 63.02337603 63.14956838 63.30747156\n",
      " 63.43302169 63.48473301 63.62359919 63.90118099 64.12282795 64.37340458\n",
      " 64.59117541 64.78574779 64.96498372 65.14077975 65.249999   65.46324353\n",
      " 65.67233159 65.81243245 65.88151434 65.9161742  65.89352074 65.96972098\n",
      " 65.97376835 65.97343714 65.90757972 65.85369637 65.72762869 65.67549253\n",
      " 65.5344581  65.45732424 65.36688761 65.39491566 65.26481453 65.04177158\n",
      " 64.6734555  64.52149508 64.53562277 64.46884317 64.38141279 64.28801716\n",
      " 64.28083168 64.30227975 64.38541461 64.51537502 64.58527104 64.68253799\n",
      " 64.70017768 64.77655251 64.82993151 64.89364558 65.01318305 65.12556136\n",
      " 65.25940927 65.33430594 65.40651587 65.54393535 65.68187523 65.82935038\n",
      " 65.95001187 66.11431996 66.16677254 66.26252115 66.36636529 66.39667448\n",
      " 66.44697866 66.49906747 66.57812218 66.6919921  66.77422756 66.89616671\n",
      " 66.98500426 67.15242442 67.37138586 67.46491074 67.63434464 67.82398251\n",
      " 67.98642891 68.15213213 68.27313258 68.30108247 68.25289871 68.33189493\n",
      " 68.38377463 68.446262   68.61216325 68.7460779  68.82467464 68.8762275\n",
      " 68.90747626 68.88021057 69.01093544 69.1014959  69.16465997 69.28739014\n",
      " 69.40966881 69.47145565 69.54751429 69.65529018 69.76533213 69.89544714\n",
      " 69.97457638 70.00470461 70.15323832 70.34035234 70.44061276 70.49167284\n",
      " 70.55166687 70.61897189 70.71229758 70.79412038 70.88110665 71.01057552\n",
      " 71.06549307 71.1140697  71.24672774 71.32429497 71.34585704 71.29244687\n",
      " 71.27243206 71.22872921 71.22576485 71.25248791 71.20330177 70.98998505\n",
      " 70.91018807 70.85400914 70.84448115 70.81482385 70.73043776 70.45917264\n",
      " 70.34107145 70.01489414 69.84639937 69.4808123  69.29647083 69.16750767\n",
      " 69.14033098 69.01242978 68.7966522  68.66565162 68.66049236 68.77651179\n",
      " 68.89329847 69.04897083 69.20002354 69.34911788 69.482035   69.68187618\n",
      " 69.85995752 69.92367774 70.068726   70.21837303 70.38635761 70.58027509\n",
      " 70.78994636 71.11999418 71.39185465 71.62886085 71.780873   71.8378388\n",
      " 72.00104513 72.18194503 72.31902319 72.49129769 72.64864581 72.79378144\n",
      " 72.90888608 73.0067053  73.07216429 73.11296946 73.13178059 72.96316716\n",
      " 72.93452052 72.74529701 72.48845473 72.4440978  72.28027696 72.27741321\n",
      " 72.42446063 72.58120876 72.69852638 72.86009858 72.96861098 73.00638234\n",
      " 73.21035969 73.26247502 73.26139147 73.19674123 73.33149261 73.47089358\n",
      " 73.67603973 73.85857801 74.14444791 74.1563663  74.0352084  74.09971586\n",
      " 73.99613093 73.84047065 73.59674872 73.39006696 73.21914514 73.09748295\n",
      " 72.8415774  72.68492757 72.59675837 72.21552957 71.81088745 71.37436312\n",
      " 70.86629743 70.49060754 70.03776981 69.67999342 69.41090316 69.43073834\n",
      " 69.54878624 69.76718875 70.04406369 70.01968914 70.11792703 70.09103143\n",
      " 70.19811668 70.43845849 70.48419375 70.31615808 70.10412962 70.13065151\n",
      " 70.15598698 69.93308032 69.72615629]\n",
      "    y_train: [18.61948776 18.62762833 18.54628754 ... 51.76584625 51.39746857\n",
      " 51.53318787]\n",
      "    y_test: [51.67859268 51.65921021 51.52349091 51.41686249 50.96124268 51.21328354\n",
      " 51.2229805  50.88368607 51.07756424 50.45715714 49.83673859 50.26327133\n",
      " 50.80613708 50.76736069 49.94337463 50.43776703 50.61225891 51.03878784\n",
      " 51.39746857 51.32961273 51.24236298 51.0484848  51.19390106 51.09696198\n",
      " 51.16481781 51.26175308 51.38777924 51.62042999 51.73676682 52.17299271\n",
      " 51.93064117 52.43472672 52.70615768 52.71585083 52.75462723 52.89034271\n",
      " 53.1617775  53.0842247  53.21993637 53.22962952 53.22962952 53.5010643\n",
      " 53.43320465 53.70463562 53.56892776 53.41381836 53.56892776 53.98575974\n",
      " 53.99545288 54.19902802 54.1117897  53.93729401 53.64647675 53.21993637\n",
      " 53.29748917 53.24902344 54.04393005 53.69493866 53.71433258 53.68525314\n",
      " 54.12147903 54.27658081 54.53832245 54.47045898 54.20872498 54.4122963\n",
      " 54.77097321 54.77097321 54.77097321 54.76128006 54.34258652 54.23497391\n",
      " 54.63606644 54.28388214 54.28388214 54.3523674  54.70454025 55.14476395\n",
      " 55.02736664 55.22302246 55.25237274 55.24258804 55.60454559 55.88824081\n",
      " 55.76106644 55.75128555 56.05454636 55.99585342 55.68280792 54.84149933\n",
      " 55.34041214 55.43823624 55.51649857 54.63606644 55.28171539 56.03498459\n",
      " 56.66106796 56.90563202 56.54367828 56.89585495 57.02302933 57.16976547\n",
      " 57.05237961 57.00346375 56.79802704 56.96432877 56.8371582  56.15237045\n",
      " 54.50888443 53.11975098 53.07084274 52.55235672 51.1143074  52.44475174\n",
      " 51.42735672 53.49149323 52.00453186 51.04583359 48.00342941 50.37082672\n",
      " 47.88603973 43.53276443 46.69255447 42.1338501  45.44037628 43.21971512\n",
      " 44.07081223 42.16319656 41.45884323 45.14690018 45.1077652  46.97625351\n",
      " 45.39146423 47.1816864  46.38929367 44.79472351 45.66538239 44.73603058\n",
      " 47.58277512 47.1034317  48.54147339 49.12843323 48.26756287 49.65670013\n",
      " 49.00125885 49.33386993 50.31213379 49.89148331 48.7469101  49.71539307\n",
      " 49.275177   49.97952271 50.52734756 50.31213379 51.2317009  50.68387985\n",
      " 49.88169479 50.1067009  50.34148026 50.34148026 50.41974258 50.99692154\n",
      " 51.37844086 50.68387985 50.01865387 49.9893074  50.41974258 50.92844009\n",
      " 51.70127106 51.42735672 51.59366226 52.01431274 51.76974869 52.38605499\n",
      " 52.55235672 52.65018845 52.36648941 52.44475174 53.49149323 53.2958374\n",
      " 54.15671158 54.61649704 54.27410889 53.97084045 51.75018311 52.41540527\n",
      " 53.80454254 53.4034462  53.44258118 53.52083969 53.26649094 53.35453796\n",
      " 53.70671082 52.5447464  53.26480865 51.0848999  52.93929672 53.09712601\n",
      " 53.70868301 53.71854782 54.39915085 54.03418732 52.97875595 53.9848671\n",
      " 54.5372467  54.14268875 55.00084686 55.0994873  55.07976151 55.28690338\n",
      " 55.52363586 55.27703857 55.38553619 54.77397919 54.47806168 54.74438477\n",
      " 54.4879303  54.97125244 54.99098587 54.73451996 55.16853333 55.34608459\n",
      " 55.73077393 55.99709702 56.00695801 55.6518631  56.33246613 56.02669144\n",
      " 56.04641724 56.07600784 56.02669144 55.99709702 55.89845657 55.9773674\n",
      " 56.73688126 56.71716309 57.06239319 56.89470673 57.14130402 56.62838364\n",
      " 56.99334335 57.62463379 56.2634201  55.78009415 55.24744415 56.12532806\n",
      " 55.29676437 55.42499161 55.96750259 56.34233093 56.12532806 55.74063492\n",
      " 55.32635498 54.89234543 55.25730515 54.49779129 54.5175209  55.28690338\n",
      " 56.09573746 56.00695801 55.89845657 55.90832138 55.78009415 56.55933762\n",
      " 55.93791199 56.65797424 56.7960701  56.95389175 57.41749191 57.1018486\n",
      " 57.072258   57.04266739 56.34233093 56.42124176 56.31274414 56.46070099\n",
      " 56.60865402 55.80968475 55.52363586 54.26105881 54.95153046 53.9750061\n",
      " 54.54711151 55.30662918 56.28315353 57.04266739 57.03280258 57.93041229\n",
      " 58.1967392  58.75897598 58.35455704 59.22257614 59.55794907 59.48890305\n",
      " 58.94638824 59.0844841  59.04502869 59.22257614 59.73549652 59.67631531\n",
      " 59.72563553 59.96236801 59.20285034 59.85386276 59.85386276 59.80454254\n",
      " 59.69604111 59.55794907 59.93277359 59.69604111 59.24230957 59.27190018\n",
      " 58.98584747 59.43957901 59.77495193 60.07087326 60.13005447 59.98209381\n",
      " 60.14977646 60.13991165 60.09059525 60.61338043 60.45109558 60.42140961\n",
      " 60.1443367  60.15423203 60.62921143 61.25262451 61.78697205 61.59896088\n",
      " 61.40105438 61.46043015 61.10419464 60.98544312 61.30210114 61.49011612\n",
      " 61.74739456 61.75728607 61.93540573 62.09373474 61.83645248 60.78753662\n",
      " 61.53958893 60.16412735 61.28231049 61.78697205 61.81665802 62.39059448\n",
      " 62.44007111 62.83588791 62.72703934 62.64787674 62.80620193 63.20202255\n",
      " 63.22180939 63.17233276 62.83588791 62.48955154 62.16300201 62.16300201\n",
      " 62.17289734 61.38126373 61.42084503 62.33122635 61.90572357 61.35157776\n",
      " 60.66879272 61.63854599 61.57917023 62.14321136 62.33122635 62.4301796\n",
      " 62.25205994 62.33122635 62.35101318 62.4301796  62.20258331 62.19268799\n",
      " 62.53902435 62.23226929 61.96509171 62.4301796  62.92494965 63.22180939\n",
      " 63.20202255 62.92494965 63.44940567 64.33999634 64.31030273 64.68632507\n",
      " 64.7556076  64.8446579  64.95350647 65.11183167 64.92382812 65.59671021\n",
      " 65.78472137 65.61650085 65.36911011 65.25036621 64.97329712 65.48786163\n",
      " 65.17121124 65.15142059 64.79518127 64.79518127 64.34989166 64.62696075\n",
      " 64.09261322 64.30041504 64.15198517 64.70612335 63.87491226 63.24160385\n",
      " 62.23226929 63.04368973 63.79574203 63.37023926 63.19212341 63.07338333\n",
      " 63.44940567 63.59783554 63.95407104 64.29051208 64.09261322 64.31030273\n",
      " 63.97386169 64.31030273 64.26082611 64.36967468 64.73580933 64.81497955\n",
      " 65.04257202 64.85454559 64.91392517 65.33943176 65.47795868 65.66597748\n",
      " 65.66597748 66.0222168  65.57691956 65.8638916  66.00242615 65.70555878\n",
      " 66.22608948 66.28581238 66.48486328 66.75359344 66.69387054 66.99246216\n",
      " 66.93274689 67.45029449 67.89816284 67.43038177 67.93798065 68.21665192\n",
      " 68.25646973 68.43562317 68.35599518 67.9678421  67.57967377 68.22661591\n",
      " 68.15693665 68.26641846 68.89344788 68.88349152 68.71430206 68.64463043\n",
      " 68.58490753 68.29627991 69.13231659 69.04273987 68.9830246  69.37117767\n",
      " 69.49062347 69.28160858 69.42094421 69.66976929 69.78919983 70.00817108\n",
      " 69.85887146 69.66976929 70.34655762 70.7048645  70.41622925 70.24703217\n",
      " 70.34655762 70.4460907  70.65509796 70.68495941 70.79444122 71.1129303\n",
      " 70.83424377 70.85415649 71.36174774 71.19255066 70.96363831 70.57546997\n",
      " 70.7048645  70.55557251 70.73471832 70.89396667 70.50580597 69.56028748\n",
      " 70.07783508 70.12760162 70.32666016 70.20722198 69.87877655 68.77401733\n",
      " 69.34132385 68.08727264 68.62471771 67.38061523 68.00764465 68.12708282\n",
      " 68.55505371 67.97779083 67.3706665  67.61948395 68.17684937 68.8337326\n",
      " 68.95316315 69.28160858 69.41099548 69.55033875 69.61005402 70.10769653\n",
      " 70.18731689 69.73943329 70.24703217 70.41622925 70.66505432 70.97358704\n",
      " 71.25226593 72.11816406 72.12811279 72.20774078 71.9788208  71.61056519\n",
      " 72.24755096 72.50632477 72.4466095  72.7750473  72.86462402 72.95420074\n",
      " 72.93429565 72.95420074 72.87457275 72.80490875 72.72528076 71.720047\n",
      " 72.3172226  71.41151428 70.85415649 71.75986481 71.06316376 71.77976227\n",
      " 72.59590149 72.79496002 72.73524475 73.09353638 72.9641571  72.68547821\n",
      " 73.6309967  73.00396729 72.76509857 72.41675568 73.4418869  73.60113525\n",
      " 74.09877777 74.179039   74.92485809 74.20999908 73.48999786 74.38999939\n",
      " 73.52999878 73.13999939 72.5        72.45999908 72.44999695 72.55000305\n",
      " 71.69000244 71.98000336 72.19999695 70.5        69.98999786 69.41000366\n",
      " 68.58000183 68.80000305 68.         68.06999969 68.19999695 69.51999664\n",
      " 70.08000183 70.75       71.29000092 69.91000366 70.55999756 69.97000122\n",
      " 70.68000031 71.51999664 70.69000244 69.55999756 69.15000153 70.25\n",
      " 70.26999664 68.93000031 68.79499817]\n",
      "    \n",
      "(array([26.90837053, 26.90837053, 26.90837053, ..., 52.56427553,\n",
      "       52.66645293, 52.77555838]), array([52.89215427, 52.98390683, 53.03347135, 53.0539845 , 52.9851419 ,\n",
      "       52.97618357, 52.97067608, 52.90240554, 52.88298443, 52.75049787,\n",
      "       52.5255032 , 52.42157662, 52.43856813, 52.44518281, 52.29573961,\n",
      "       52.26638145, 52.27515366, 52.36249158, 52.50135697, 52.60222123,\n",
      "       52.66835027, 52.68601924, 52.72780347, 52.74377227, 52.76959053,\n",
      "       52.80893287, 52.86480577, 52.95424333, 53.04928189, 53.20902272,\n",
      "       53.29417435, 53.45857876, 53.64410228, 53.79771629, 53.93068725,\n",
      "       54.06498743, 54.22588091, 54.34294611, 54.46423249, 54.56528815,\n",
      "       54.64797005, 54.7666304 , 54.85096326, 54.97097369, 55.04365899,\n",
      "       55.07397963, 55.12793657, 55.25042108, 55.35245773, 55.47420089,\n",
      "       55.55741267, 55.59270182, 55.56691986, 55.46566556, 55.39739536,\n",
      "       55.33242911, 55.4286647 , 55.44181717, 55.45622166, 55.46254173,\n",
      "       55.54969471, 55.65015083, 55.78153168, 55.87627222, 55.90459773,\n",
      "       55.96603179, 56.0837038 , 56.1799809 , 56.25875307, 56.32138099,\n",
      "       56.20137055, 56.08313985, 56.06110087, 55.97748255, 55.90906756,\n",
      "       55.86584523, 55.89606656, 56.0027758 , 56.06822098, 56.15820364,\n",
      "       56.23729124, 56.30017723, 56.41903719, 56.56911912, 56.66822969,\n",
      "       56.74749882, 56.86883163, 56.95717308, 56.97115417, 56.82591599,\n",
      "       56.7999983 , 56.79701052, 56.8091409 , 56.65510173, 56.64930964,\n",
      "       56.78485164, 57.01234621, 57.24402354, 57.36617063, 57.5316949 ,\n",
      "       57.69080756, 57.84831776, 57.95532806, 58.03377244, 58.05969626,\n",
      "       58.11187715, 58.13088757, 58.01891345, 57.62123123, 57.03715597,\n",
      "       56.5501674 , 56.05516529, 55.38235517, 55.07964222, 54.64249821,\n",
      "       54.6692399 , 54.41420226, 54.02699618, 53.14360392, 52.86170965,\n",
      "       52.1683253 , 50.79029818, 50.25127111, 48.96127906, 48.52160778,\n",
      "       47.74832193, 47.27413279, 46.53090404, 45.7916363 , 45.8736088 ,\n",
      "       45.93338975, 46.33027049, 46.35985491, 46.71745447, 46.86246819,\n",
      "       46.68415824, 46.70041095, 46.54063511, 46.94006079, 47.17759415,\n",
      "       47.63974803, 48.12718303, 48.36567286, 48.8195005 , 49.06875133,\n",
      "       49.3346262 , 49.73434249, 49.98304447, 49.97337441, 50.14582351,\n",
      "       50.20493623, 50.38447267, 50.63338776, 50.79696559, 51.10205346,\n",
      "       51.24964916, 51.2210188 , 51.23949597, 51.29833773, 51.34648098,\n",
      "       51.40044583, 51.55208665, 51.74720758, 51.77750253, 51.67840459,\n",
      "       51.59185903, 51.60120969, 51.70359512, 51.93128938, 52.06657316,\n",
      "       52.20823107, 52.40247162, 52.51584961, 52.72338865, 52.92416449,\n",
      "       53.10665394, 53.20313062, 53.29664031, 53.56808344, 53.75373666,\n",
      "       54.06595608, 54.40703372, 54.62233353, 54.74201099, 54.4263748 ,\n",
      "       54.29201104, 54.44077664, 54.48779872, 54.53355878, 54.58557306,\n",
      "       54.58076275, 54.593224  , 54.66900531, 54.43405066, 54.37480788,\n",
      "       53.92371324, 53.89713875, 53.90454583, 54.02355865, 54.12275482,\n",
      "       54.32962139, 54.43146807, 54.31986198, 54.4143743 , 54.5937249 ,\n",
      "       54.6675931 , 54.88652931, 55.08387723, 55.24170034, 55.40908697,\n",
      "       55.58976303, 55.6920435 , 55.79576716, 55.76767879, 55.6900425 ,\n",
      "       55.67571137, 55.61661847, 55.65753919, 55.69466385, 55.67767044,\n",
      "       55.74392741, 55.83093087, 55.97316668, 56.13873023, 56.27601335,\n",
      "       56.32275015, 56.48669543, 56.56435622, 56.63154026, 56.69197443,\n",
      "       56.73231177, 56.75984894, 56.76416104, 56.78226405, 56.93735589,\n",
      "       57.06060583, 57.22521039, 57.32891568, 57.45931155, 57.4712642 ,\n",
      "       57.54845073, 57.7282006 , 57.62385655, 57.44921468, 57.20794761,\n",
      "       57.17268925, 56.99080833, 56.8656804 , 56.8635033 , 56.93095186,\n",
      "       56.94605636, 56.88736343, 56.76282536, 56.5807706 , 56.4992238 ,\n",
      "       56.2922234 , 56.12650281, 56.13301627, 56.28773455, 56.39792598,\n",
      "       56.46804226, 56.52723216, 56.55197654, 56.71614631, 56.73569181,\n",
      "       56.8846771 , 57.03207992, 57.18183137, 57.38998067, 57.50198636,\n",
      "       57.58816196, 57.65320385, 57.57707049, 57.52935378, 57.47027319,\n",
      "       57.44926164, 57.45939746, 57.32012267, 57.1533377 , 56.78368343,\n",
      "       56.60876714, 56.28529285, 56.12629848, 56.13649247, 56.32519397,\n",
      "       56.6198664 , 56.85913999, 57.22069533, 57.56570283, 57.95182607,\n",
      "       58.19304984, 58.55073538, 58.90532954, 59.18269915, 59.30943762,\n",
      "       59.4386378 , 59.53706027, 59.65038028, 59.83783153, 59.98026989,\n",
      "       60.10591986, 60.25244776, 60.23205392, 60.33560801, 60.42033408,\n",
      "       60.48054661, 60.50977107, 60.50817692, 60.57610175, 60.58795254,\n",
      "       60.5138453 , 60.45867752, 60.36070738, 60.36435335, 60.42927877,\n",
      "       60.53705447, 60.63616544, 60.68992912, 60.76488807, 60.82439609,\n",
      "       60.86397566, 60.99291587, 61.03282667, 61.06001553, 61.03125014,\n",
      "       61.00953616, 61.07921761, 61.25100493, 61.48993645, 61.65081132,\n",
      "       61.74600031, 61.83481304, 61.84189227, 61.82582199, 61.87097186,\n",
      "       61.94252791, 62.04844122, 62.13691891, 62.24210297, 62.35731179,\n",
      "       62.40420611, 62.24946035, 62.26130912, 62.0177701 , 62.02437693,\n",
      "       62.12269536, 62.20860314, 62.38455774, 62.5376294 , 62.73574305,\n",
      "       62.8777957 , 62.97944637, 63.09176425, 63.25653389, 63.3949888 ,\n",
      "       63.49916128, 63.52245096, 63.47774244, 63.38104242, 63.30192422,\n",
      "       63.23901319, 63.04179412, 62.88772053, 62.9292684 , 62.88492349,\n",
      "       62.74661895, 62.50775462, 62.4908591 , 62.46610465, 62.54969539,\n",
      "       62.65270238, 62.75519912, 62.80626688, 62.86262451, 62.91237867,\n",
      "       62.96766155, 62.97099097, 62.971893  , 63.03639473, 63.03269263,\n",
      "       62.98047416, 63.02337603, 63.14956838, 63.30747156, 63.43302169,\n",
      "       63.48473301, 63.62359919, 63.90118099, 64.12282795, 64.37340458,\n",
      "       64.59117541, 64.78574779, 64.96498372, 65.14077975, 65.249999  ,\n",
      "       65.46324353, 65.67233159, 65.81243245, 65.88151434, 65.9161742 ,\n",
      "       65.89352074, 65.96972098, 65.97376835, 65.97343714, 65.90757972,\n",
      "       65.85369637, 65.72762869, 65.67549253, 65.5344581 , 65.45732424,\n",
      "       65.36688761, 65.39491566, 65.26481453, 65.04177158, 64.6734555 ,\n",
      "       64.52149508, 64.53562277, 64.46884317, 64.38141279, 64.28801716,\n",
      "       64.28083168, 64.30227975, 64.38541461, 64.51537502, 64.58527104,\n",
      "       64.68253799, 64.70017768, 64.77655251, 64.82993151, 64.89364558,\n",
      "       65.01318305, 65.12556136, 65.25940927, 65.33430594, 65.40651587,\n",
      "       65.54393535, 65.68187523, 65.82935038, 65.95001187, 66.11431996,\n",
      "       66.16677254, 66.26252115, 66.36636529, 66.39667448, 66.44697866,\n",
      "       66.49906747, 66.57812218, 66.6919921 , 66.77422756, 66.89616671,\n",
      "       66.98500426, 67.15242442, 67.37138586, 67.46491074, 67.63434464,\n",
      "       67.82398251, 67.98642891, 68.15213213, 68.27313258, 68.30108247,\n",
      "       68.25289871, 68.33189493, 68.38377463, 68.446262  , 68.61216325,\n",
      "       68.7460779 , 68.82467464, 68.8762275 , 68.90747626, 68.88021057,\n",
      "       69.01093544, 69.1014959 , 69.16465997, 69.28739014, 69.40966881,\n",
      "       69.47145565, 69.54751429, 69.65529018, 69.76533213, 69.89544714,\n",
      "       69.97457638, 70.00470461, 70.15323832, 70.34035234, 70.44061276,\n",
      "       70.49167284, 70.55166687, 70.61897189, 70.71229758, 70.79412038,\n",
      "       70.88110665, 71.01057552, 71.06549307, 71.1140697 , 71.24672774,\n",
      "       71.32429497, 71.34585704, 71.29244687, 71.27243206, 71.22872921,\n",
      "       71.22576485, 71.25248791, 71.20330177, 70.98998505, 70.91018807,\n",
      "       70.85400914, 70.84448115, 70.81482385, 70.73043776, 70.45917264,\n",
      "       70.34107145, 70.01489414, 69.84639937, 69.4808123 , 69.29647083,\n",
      "       69.16750767, 69.14033098, 69.01242978, 68.7966522 , 68.66565162,\n",
      "       68.66049236, 68.77651179, 68.89329847, 69.04897083, 69.20002354,\n",
      "       69.34911788, 69.482035  , 69.68187618, 69.85995752, 69.92367774,\n",
      "       70.068726  , 70.21837303, 70.38635761, 70.58027509, 70.78994636,\n",
      "       71.11999418, 71.39185465, 71.62886085, 71.780873  , 71.8378388 ,\n",
      "       72.00104513, 72.18194503, 72.31902319, 72.49129769, 72.64864581,\n",
      "       72.79378144, 72.90888608, 73.0067053 , 73.07216429, 73.11296946,\n",
      "       73.13178059, 72.96316716, 72.93452052, 72.74529701, 72.48845473,\n",
      "       72.4440978 , 72.28027696, 72.27741321, 72.42446063, 72.58120876,\n",
      "       72.69852638, 72.86009858, 72.96861098, 73.00638234, 73.21035969,\n",
      "       73.26247502, 73.26139147, 73.19674123, 73.33149261, 73.47089358,\n",
      "       73.67603973, 73.85857801, 74.14444791, 74.1563663 , 74.0352084 ,\n",
      "       74.09971586, 73.99613093, 73.84047065, 73.59674872, 73.39006696,\n",
      "       73.21914514, 73.09748295, 72.8415774 , 72.68492757, 72.59675837,\n",
      "       72.21552957, 71.81088745, 71.37436312, 70.86629743, 70.49060754,\n",
      "       70.03776981, 69.67999342, 69.41090316, 69.43073834, 69.54878624,\n",
      "       69.76718875, 70.04406369, 70.01968914, 70.11792703, 70.09103143,\n",
      "       70.19811668, 70.43845849, 70.48419375, 70.31615808, 70.10412962,\n",
      "       70.13065151, 70.15598698, 69.93308032, 69.72615629]), array([18.61948776, 18.62762833, 18.54628754, ..., 51.76584625,\n",
      "       51.39746857, 51.53318787]), array([51.67859268, 51.65921021, 51.52349091, 51.41686249, 50.96124268,\n",
      "       51.21328354, 51.2229805 , 50.88368607, 51.07756424, 50.45715714,\n",
      "       49.83673859, 50.26327133, 50.80613708, 50.76736069, 49.94337463,\n",
      "       50.43776703, 50.61225891, 51.03878784, 51.39746857, 51.32961273,\n",
      "       51.24236298, 51.0484848 , 51.19390106, 51.09696198, 51.16481781,\n",
      "       51.26175308, 51.38777924, 51.62042999, 51.73676682, 52.17299271,\n",
      "       51.93064117, 52.43472672, 52.70615768, 52.71585083, 52.75462723,\n",
      "       52.89034271, 53.1617775 , 53.0842247 , 53.21993637, 53.22962952,\n",
      "       53.22962952, 53.5010643 , 53.43320465, 53.70463562, 53.56892776,\n",
      "       53.41381836, 53.56892776, 53.98575974, 53.99545288, 54.19902802,\n",
      "       54.1117897 , 53.93729401, 53.64647675, 53.21993637, 53.29748917,\n",
      "       53.24902344, 54.04393005, 53.69493866, 53.71433258, 53.68525314,\n",
      "       54.12147903, 54.27658081, 54.53832245, 54.47045898, 54.20872498,\n",
      "       54.4122963 , 54.77097321, 54.77097321, 54.77097321, 54.76128006,\n",
      "       54.34258652, 54.23497391, 54.63606644, 54.28388214, 54.28388214,\n",
      "       54.3523674 , 54.70454025, 55.14476395, 55.02736664, 55.22302246,\n",
      "       55.25237274, 55.24258804, 55.60454559, 55.88824081, 55.76106644,\n",
      "       55.75128555, 56.05454636, 55.99585342, 55.68280792, 54.84149933,\n",
      "       55.34041214, 55.43823624, 55.51649857, 54.63606644, 55.28171539,\n",
      "       56.03498459, 56.66106796, 56.90563202, 56.54367828, 56.89585495,\n",
      "       57.02302933, 57.16976547, 57.05237961, 57.00346375, 56.79802704,\n",
      "       56.96432877, 56.8371582 , 56.15237045, 54.50888443, 53.11975098,\n",
      "       53.07084274, 52.55235672, 51.1143074 , 52.44475174, 51.42735672,\n",
      "       53.49149323, 52.00453186, 51.04583359, 48.00342941, 50.37082672,\n",
      "       47.88603973, 43.53276443, 46.69255447, 42.1338501 , 45.44037628,\n",
      "       43.21971512, 44.07081223, 42.16319656, 41.45884323, 45.14690018,\n",
      "       45.1077652 , 46.97625351, 45.39146423, 47.1816864 , 46.38929367,\n",
      "       44.79472351, 45.66538239, 44.73603058, 47.58277512, 47.1034317 ,\n",
      "       48.54147339, 49.12843323, 48.26756287, 49.65670013, 49.00125885,\n",
      "       49.33386993, 50.31213379, 49.89148331, 48.7469101 , 49.71539307,\n",
      "       49.275177  , 49.97952271, 50.52734756, 50.31213379, 51.2317009 ,\n",
      "       50.68387985, 49.88169479, 50.1067009 , 50.34148026, 50.34148026,\n",
      "       50.41974258, 50.99692154, 51.37844086, 50.68387985, 50.01865387,\n",
      "       49.9893074 , 50.41974258, 50.92844009, 51.70127106, 51.42735672,\n",
      "       51.59366226, 52.01431274, 51.76974869, 52.38605499, 52.55235672,\n",
      "       52.65018845, 52.36648941, 52.44475174, 53.49149323, 53.2958374 ,\n",
      "       54.15671158, 54.61649704, 54.27410889, 53.97084045, 51.75018311,\n",
      "       52.41540527, 53.80454254, 53.4034462 , 53.44258118, 53.52083969,\n",
      "       53.26649094, 53.35453796, 53.70671082, 52.5447464 , 53.26480865,\n",
      "       51.0848999 , 52.93929672, 53.09712601, 53.70868301, 53.71854782,\n",
      "       54.39915085, 54.03418732, 52.97875595, 53.9848671 , 54.5372467 ,\n",
      "       54.14268875, 55.00084686, 55.0994873 , 55.07976151, 55.28690338,\n",
      "       55.52363586, 55.27703857, 55.38553619, 54.77397919, 54.47806168,\n",
      "       54.74438477, 54.4879303 , 54.97125244, 54.99098587, 54.73451996,\n",
      "       55.16853333, 55.34608459, 55.73077393, 55.99709702, 56.00695801,\n",
      "       55.6518631 , 56.33246613, 56.02669144, 56.04641724, 56.07600784,\n",
      "       56.02669144, 55.99709702, 55.89845657, 55.9773674 , 56.73688126,\n",
      "       56.71716309, 57.06239319, 56.89470673, 57.14130402, 56.62838364,\n",
      "       56.99334335, 57.62463379, 56.2634201 , 55.78009415, 55.24744415,\n",
      "       56.12532806, 55.29676437, 55.42499161, 55.96750259, 56.34233093,\n",
      "       56.12532806, 55.74063492, 55.32635498, 54.89234543, 55.25730515,\n",
      "       54.49779129, 54.5175209 , 55.28690338, 56.09573746, 56.00695801,\n",
      "       55.89845657, 55.90832138, 55.78009415, 56.55933762, 55.93791199,\n",
      "       56.65797424, 56.7960701 , 56.95389175, 57.41749191, 57.1018486 ,\n",
      "       57.072258  , 57.04266739, 56.34233093, 56.42124176, 56.31274414,\n",
      "       56.46070099, 56.60865402, 55.80968475, 55.52363586, 54.26105881,\n",
      "       54.95153046, 53.9750061 , 54.54711151, 55.30662918, 56.28315353,\n",
      "       57.04266739, 57.03280258, 57.93041229, 58.1967392 , 58.75897598,\n",
      "       58.35455704, 59.22257614, 59.55794907, 59.48890305, 58.94638824,\n",
      "       59.0844841 , 59.04502869, 59.22257614, 59.73549652, 59.67631531,\n",
      "       59.72563553, 59.96236801, 59.20285034, 59.85386276, 59.85386276,\n",
      "       59.80454254, 59.69604111, 59.55794907, 59.93277359, 59.69604111,\n",
      "       59.24230957, 59.27190018, 58.98584747, 59.43957901, 59.77495193,\n",
      "       60.07087326, 60.13005447, 59.98209381, 60.14977646, 60.13991165,\n",
      "       60.09059525, 60.61338043, 60.45109558, 60.42140961, 60.1443367 ,\n",
      "       60.15423203, 60.62921143, 61.25262451, 61.78697205, 61.59896088,\n",
      "       61.40105438, 61.46043015, 61.10419464, 60.98544312, 61.30210114,\n",
      "       61.49011612, 61.74739456, 61.75728607, 61.93540573, 62.09373474,\n",
      "       61.83645248, 60.78753662, 61.53958893, 60.16412735, 61.28231049,\n",
      "       61.78697205, 61.81665802, 62.39059448, 62.44007111, 62.83588791,\n",
      "       62.72703934, 62.64787674, 62.80620193, 63.20202255, 63.22180939,\n",
      "       63.17233276, 62.83588791, 62.48955154, 62.16300201, 62.16300201,\n",
      "       62.17289734, 61.38126373, 61.42084503, 62.33122635, 61.90572357,\n",
      "       61.35157776, 60.66879272, 61.63854599, 61.57917023, 62.14321136,\n",
      "       62.33122635, 62.4301796 , 62.25205994, 62.33122635, 62.35101318,\n",
      "       62.4301796 , 62.20258331, 62.19268799, 62.53902435, 62.23226929,\n",
      "       61.96509171, 62.4301796 , 62.92494965, 63.22180939, 63.20202255,\n",
      "       62.92494965, 63.44940567, 64.33999634, 64.31030273, 64.68632507,\n",
      "       64.7556076 , 64.8446579 , 64.95350647, 65.11183167, 64.92382812,\n",
      "       65.59671021, 65.78472137, 65.61650085, 65.36911011, 65.25036621,\n",
      "       64.97329712, 65.48786163, 65.17121124, 65.15142059, 64.79518127,\n",
      "       64.79518127, 64.34989166, 64.62696075, 64.09261322, 64.30041504,\n",
      "       64.15198517, 64.70612335, 63.87491226, 63.24160385, 62.23226929,\n",
      "       63.04368973, 63.79574203, 63.37023926, 63.19212341, 63.07338333,\n",
      "       63.44940567, 63.59783554, 63.95407104, 64.29051208, 64.09261322,\n",
      "       64.31030273, 63.97386169, 64.31030273, 64.26082611, 64.36967468,\n",
      "       64.73580933, 64.81497955, 65.04257202, 64.85454559, 64.91392517,\n",
      "       65.33943176, 65.47795868, 65.66597748, 65.66597748, 66.0222168 ,\n",
      "       65.57691956, 65.8638916 , 66.00242615, 65.70555878, 66.22608948,\n",
      "       66.28581238, 66.48486328, 66.75359344, 66.69387054, 66.99246216,\n",
      "       66.93274689, 67.45029449, 67.89816284, 67.43038177, 67.93798065,\n",
      "       68.21665192, 68.25646973, 68.43562317, 68.35599518, 67.9678421 ,\n",
      "       67.57967377, 68.22661591, 68.15693665, 68.26641846, 68.89344788,\n",
      "       68.88349152, 68.71430206, 68.64463043, 68.58490753, 68.29627991,\n",
      "       69.13231659, 69.04273987, 68.9830246 , 69.37117767, 69.49062347,\n",
      "       69.28160858, 69.42094421, 69.66976929, 69.78919983, 70.00817108,\n",
      "       69.85887146, 69.66976929, 70.34655762, 70.7048645 , 70.41622925,\n",
      "       70.24703217, 70.34655762, 70.4460907 , 70.65509796, 70.68495941,\n",
      "       70.79444122, 71.1129303 , 70.83424377, 70.85415649, 71.36174774,\n",
      "       71.19255066, 70.96363831, 70.57546997, 70.7048645 , 70.55557251,\n",
      "       70.73471832, 70.89396667, 70.50580597, 69.56028748, 70.07783508,\n",
      "       70.12760162, 70.32666016, 70.20722198, 69.87877655, 68.77401733,\n",
      "       69.34132385, 68.08727264, 68.62471771, 67.38061523, 68.00764465,\n",
      "       68.12708282, 68.55505371, 67.97779083, 67.3706665 , 67.61948395,\n",
      "       68.17684937, 68.8337326 , 68.95316315, 69.28160858, 69.41099548,\n",
      "       69.55033875, 69.61005402, 70.10769653, 70.18731689, 69.73943329,\n",
      "       70.24703217, 70.41622925, 70.66505432, 70.97358704, 71.25226593,\n",
      "       72.11816406, 72.12811279, 72.20774078, 71.9788208 , 71.61056519,\n",
      "       72.24755096, 72.50632477, 72.4466095 , 72.7750473 , 72.86462402,\n",
      "       72.95420074, 72.93429565, 72.95420074, 72.87457275, 72.80490875,\n",
      "       72.72528076, 71.720047  , 72.3172226 , 71.41151428, 70.85415649,\n",
      "       71.75986481, 71.06316376, 71.77976227, 72.59590149, 72.79496002,\n",
      "       72.73524475, 73.09353638, 72.9641571 , 72.68547821, 73.6309967 ,\n",
      "       73.00396729, 72.76509857, 72.41675568, 73.4418869 , 73.60113525,\n",
      "       74.09877777, 74.179039  , 74.92485809, 74.20999908, 73.48999786,\n",
      "       74.38999939, 73.52999878, 73.13999939, 72.5       , 72.45999908,\n",
      "       72.44999695, 72.55000305, 71.69000244, 71.98000336, 72.19999695,\n",
      "       70.5       , 69.98999786, 69.41000366, 68.58000183, 68.80000305,\n",
      "       68.        , 68.06999969, 68.19999695, 69.51999664, 70.08000183,\n",
      "       70.75      , 71.29000092, 69.91000366, 70.55999756, 69.97000122,\n",
      "       70.68000031, 71.51999664, 70.69000244, 69.55999756, 69.15000153,\n",
      "       70.25      , 70.26999664, 68.93000031, 68.79499817]))\n"
     ]
    }
   ],
   "source": [
    "X_train, X_test, y_train, y_test = split_data(X = msci[\"EMA_10\"], y = msci[\"Adj Close\"], size = 0.8)\n",
    "print(split_data(X = msci[\"EMA_10\"], y = msci[\"Adj Close\"], size = 0.8))"
   ]
  },
  {
   "cell_type": "markdown",
   "id": "28cbdc22",
   "metadata": {},
   "source": [
    "### 3.3.2. Train the model using scikit-learn"
   ]
  },
  {
   "cell_type": "code",
   "execution_count": 22,
   "id": "150e04f0",
   "metadata": {},
   "outputs": [
    {
     "data": {
      "text/plain": [
       "LinearRegression()"
      ]
     },
     "execution_count": 22,
     "metadata": {},
     "output_type": "execute_result"
    }
   ],
   "source": [
    "lr = LinearRegression(fit_intercept=True)\n",
    "lr.fit(X_train.reshape(-1, 1), y_train)"
   ]
  },
  {
   "cell_type": "markdown",
   "id": "e81ece9b",
   "metadata": {},
   "source": [
    "### 3.3.3. Retrieve and present statistical measures and key numbers i.e. $R^{2}$, intercept and coefficient."
   ]
  },
  {
   "cell_type": "code",
   "execution_count": 23,
   "id": "53cf4d8d",
   "metadata": {},
   "outputs": [
    {
     "data": {
      "text/plain": [
       "array([1.04451766])"
      ]
     },
     "execution_count": 23,
     "metadata": {},
     "output_type": "execute_result"
    }
   ],
   "source": [
    "lr.coef_"
   ]
  },
  {
   "cell_type": "markdown",
   "id": "efd3b16f",
   "metadata": {},
   "source": [
    "The coefficient(estimated slope) of our simple linear regression model is 1.17302994."
   ]
  },
  {
   "cell_type": "code",
   "execution_count": 24,
   "id": "b2e70401",
   "metadata": {},
   "outputs": [
    {
     "data": {
      "text/plain": [
       "-5.096331731718404"
      ]
     },
     "execution_count": 24,
     "metadata": {},
     "output_type": "execute_result"
    }
   ],
   "source": [
    "lr.intercept_"
   ]
  },
  {
   "cell_type": "markdown",
   "id": "80d2c076",
   "metadata": {},
   "source": [
    "The estimated intercept of our simple linear regression model is -10.923472656011356.\n",
    "\n",
    "Hence, our fitted model is:\n",
    "\n",
    "$$\n",
    "\\hat{Y} = 1.17302994 X - 10.923472656011356\n",
    "$$"
   ]
  },
  {
   "cell_type": "code",
   "execution_count": 25,
   "id": "7d45e068",
   "metadata": {},
   "outputs": [
    {
     "data": {
      "text/plain": [
       "0.9965251152084127"
      ]
     },
     "execution_count": 25,
     "metadata": {},
     "output_type": "execute_result"
    }
   ],
   "source": [
    "r2_score(y_train, lr.predict(X_train.reshape(-1, 1)))"
   ]
  },
  {
   "cell_type": "markdown",
   "id": "546e4559",
   "metadata": {},
   "source": [
    "The $R^{2}$ of our simple linear regression model is 0.9845781871086455."
   ]
  },
  {
   "cell_type": "code",
   "execution_count": 26,
   "id": "fdd90ade",
   "metadata": {},
   "outputs": [
    {
     "data": {
      "text/plain": [
       "0.4198452240366453"
      ]
     },
     "execution_count": 26,
     "metadata": {},
     "output_type": "execute_result"
    }
   ],
   "source": [
    "mean_squared_error(y_train, lr.predict(X_train.reshape(-1, 1)))"
   ]
  },
  {
   "cell_type": "markdown",
   "id": "af624c90",
   "metadata": {},
   "source": [
    "The $MSE = \\frac{SSE}{n-2} = \\frac{\\Vert Y-\\hat{Y} \\Vert^{2}}{n-2}$ (Mean Squared Error) of our simple linear regression model is 0.5708204284208702."
   ]
  },
  {
   "cell_type": "markdown",
   "id": "73a505a7",
   "metadata": {},
   "source": [
    "## 3.4. Visualize the results in one plot using Matplotlib.Pyplot\n",
    "\n",
    "Create a combined plot that shows\n",
    "1. the actual output\n",
    "2. the predicted output\n",
    "3. the training data\n",
    "\n",
    "Make sure to add a legend and labels to each line and that every series is at the \"correct\" x coordinates."
   ]
  },
  {
   "cell_type": "code",
   "execution_count": 27,
   "id": "699196a9",
   "metadata": {},
   "outputs": [],
   "source": [
    "y_predict = lr.predict(X_test.reshape(-1, 1))"
   ]
  },
  {
   "cell_type": "code",
   "execution_count": 28,
   "id": "f3049435",
   "metadata": {},
   "outputs": [
    {
     "data": {
      "image/png": "[encoded data removed]",
      "text/plain": [
       "<Figure size 432x288 with 1 Axes>"
      ]
     },
     "metadata": {
      "needs_background": "light"
     },
     "output_type": "display_data"
    }
   ],
   "source": [
    "plt.figure()\n",
    "\n",
    "plt.subplots_adjust(top = 2, right = 2)\n",
    "plt.xlim(round(min(msci[\"EMA_10\"]) - 3), round(max(msci[\"EMA_10\"]) + 3))\n",
    "plt.ylim(round(min(msci[\"Adj Close\"]) - 3), round(max(msci[\"Adj Close\"]) + 3))\n",
    "\n",
    "plt.scatter(X_test, y_test, label = \"The Actual Output\")\n",
    "plt.plot(X_test, y_predict, label = \"The Predicted Output\", color = \"red\", \n",
    "         marker=\".\", linewidth=1.8, markersize=10)\n",
    "plt.scatter(X_train, y_train, label = \"The Training Data\", color = \"green\")\n",
    "plt.xlabel(\"Data of EMA_10\", fontsize = 20)\n",
    "plt.ylabel(\"Data of Adj Close\", fontsize = 20)\n",
    "plt.title(\"Combined Plot for Actural, Predicted and Training Data Set\", fontsize=25)\n",
    "\n",
    "plt.legend(fontsize = 15)\n",
    "plt.show()"
   ]
  },
  {
   "cell_type": "markdown",
   "id": "8c5625ea",
   "metadata": {},
   "source": [
    "Also create subplots for each data set."
   ]
  },
  {
   "cell_type": "code",
   "execution_count": 29,
   "id": "9573b32f",
   "metadata": {},
   "outputs": [
    {
     "data": {
      "text/plain": [
       "[Text(0.5, 0, 'Train Data of EMA_10'), Text(0, 0.5, 'Train Data of Adj Close')]"
      ]
     },
     "execution_count": 29,
     "metadata": {},
     "output_type": "execute_result"
    },
    {
     "data": {
      "image/png": "[encoded data removed]",
      "text/plain": [
       "<Figure size 432x288 with 3 Axes>"
      ]
     },
     "metadata": {
      "needs_background": "light"
     },
     "output_type": "display_data"
    }
   ],
   "source": [
    "fig, axs = plt.subplots(3)\n",
    "plt.subplots_adjust(top = 3, right=1, hspace = 0.3)\n",
    "\n",
    "axs[0].scatter(X_test, y_test)\n",
    "axs[0].set_title(\"The Actual Output\")\n",
    "axs.flat[0].set(xlabel = \"Test Data of EMA_10\", \n",
    "                ylabel = \"Test Data of Adj Close\")\n",
    "\n",
    "axs[1].scatter(X_test, y_predict)\n",
    "axs[1].set_title(\"The Predicted Output\")\n",
    "axs.flat[1].set(xlabel = \"Test Data of EMA_10\", \n",
    "                ylabel = \"Predicted Data of Adj Close\")\n",
    "\n",
    "\n",
    "axs[2].scatter(X_train, y_train)\n",
    "axs[2].set_title(\"The Training Data\")\n",
    "axs.flat[2].set(xlabel = \"Train Data of EMA_10\", \n",
    "                ylabel = \"Train Data of Adj Close\")"
   ]
  },
  {
   "cell_type": "markdown",
   "id": "5c7b333b",
   "metadata": {},
   "source": [
    "# 4 Optional: Basic Data Structures in Python"
   ]
  },
  {
   "cell_type": "markdown",
   "id": "f3e469a4",
   "metadata": {},
   "source": [
    "## 4.1. Create an empty dictionary"
   ]
  },
  {
   "cell_type": "code",
   "execution_count": 30,
   "id": "383286b1",
   "metadata": {},
   "outputs": [],
   "source": [
    "dic = {}"
   ]
  },
  {
   "cell_type": "markdown",
   "id": "604c5f98",
   "metadata": {},
   "source": [
    "## 4.2. Update the new dictionary with any key values"
   ]
  },
  {
   "cell_type": "code",
   "execution_count": 31,
   "id": "578ab382",
   "metadata": {},
   "outputs": [
    {
     "data": {
      "text/plain": [
       "{'x': 1}"
      ]
     },
     "execution_count": 31,
     "metadata": {},
     "output_type": "execute_result"
    }
   ],
   "source": [
    "dic[\"x\"] = 1\n",
    "dic"
   ]
  },
  {
   "cell_type": "markdown",
   "id": "69cb2ff4",
   "metadata": {},
   "source": [
    "## 4.3. List comprehension: iterate through the following dictionaries values and return all values as string\n",
    "\n",
    "new_dict = {0: 1, 1 : \"a\", 2: 0.34, 3 : True}"
   ]
  },
  {
   "cell_type": "code",
   "execution_count": 32,
   "id": "50e90053",
   "metadata": {},
   "outputs": [
    {
     "name": "stdout",
     "output_type": "stream",
     "text": [
      "1 <class 'str'>\n",
      "a <class 'str'>\n",
      "0.34 <class 'str'>\n",
      "True <class 'str'>\n"
     ]
    }
   ],
   "source": [
    "new_dict = {0: 1, 1 : \"a\", 2: 0.34, 3 : True}\n",
    "for value in new_dict.values():\n",
    "    print(str(value), type(str(value)))"
   ]
  },
  {
   "cell_type": "markdown",
   "id": "381cdd5e",
   "metadata": {},
   "source": [
    "## 4.4. Convert the two lists to sets and then return the union of the two\n",
    "L1 = [\"A\", \"B\", \"C\", \"D\"]\n",
    "\n",
    "L2 = [\"B\", \"D\", \"E\", \"F\"]"
   ]
  },
  {
   "cell_type": "code",
   "execution_count": 33,
   "id": "954adc02",
   "metadata": {},
   "outputs": [
    {
     "data": {
      "text/plain": [
       "{'A', 'B', 'C', 'D', 'E', 'F'}"
      ]
     },
     "execution_count": 33,
     "metadata": {},
     "output_type": "execute_result"
    }
   ],
   "source": [
    "L1, L2 = [\"A\", \"B\", \"C\", \"D\"], [\"B\", \"D\", \"E\", \"F\"]\n",
    "set(L1) | set(L2)"
   ]
  },
  {
   "cell_type": "markdown",
   "id": "1bf652d5",
   "metadata": {},
   "source": [
    "Or alternatively:"
   ]
  },
  {
   "cell_type": "code",
   "execution_count": 34,
   "id": "ae39a60f",
   "metadata": {},
   "outputs": [
    {
     "data": {
      "text/plain": [
       "{'A', 'B', 'C', 'D', 'E', 'F'}"
      ]
     },
     "execution_count": 34,
     "metadata": {},
     "output_type": "execute_result"
    }
   ],
   "source": [
    "set(L1 + L2)"
   ]
  },
  {
   "cell_type": "markdown",
   "id": "8e70aa49",
   "metadata": {},
   "source": [
    "## 4.5. Iterate through the first list and check if it is in the second by element-wise comparison"
   ]
  },
  {
   "cell_type": "code",
   "execution_count": 35,
   "id": "460cec0c",
   "metadata": {},
   "outputs": [
    {
     "name": "stdout",
     "output_type": "stream",
     "text": [
      "Element A is NOT in L2!\n",
      "Element B is ALSO in L2!\n",
      "Element C is NOT in L2!\n",
      "Element D is ALSO in L2!\n"
     ]
    }
   ],
   "source": [
    "for i in L1:\n",
    "    for j in L2:\n",
    "        if i == j:\n",
    "            print(f\"Element {i} is ALSO in L2!\")\n",
    "            break\n",
    "    else: print(f\"Element {i} is NOT in L2!\")"
   ]
  },
  {
   "cell_type": "code",
   "execution_count": null,
   "id": "bd884495",
   "metadata": {},
   "outputs": [],
   "source": []
  }
 ],
 "metadata": {
  "kernelspec": {
   "display_name": "Python 3 (ipykernel)",
   "language": "python",
   "name": "python3"
  },
  "language_info": {
   "codemirror_mode": {
    "name": "ipython",
    "version": 3
   },
   "file_extension": ".py",
   "mimetype": "text/x-python",
   "name": "python",
   "nbconvert_exporter": "python",
   "pygments_lexer": "ipython3",
   "version": "3.9.12"
  },
  "toc": {
   "base_numbering": 1,
   "nav_menu": {},
   "number_sections": false,
   "sideBar": true,
   "skip_h1_title": false,
   "title_cell": "Table of Contents",
   "title_sidebar": "Contents",
   "toc_cell": false,
   "toc_position": {},
   "toc_section_display": true,
   "toc_window_display": false
  },
  "varInspector": {
   "cols": {
    "lenName": 16,
    "lenType": 16,
    "lenVar": 40
   },
   "kernels_config": {
    "python": {
     "delete_cmd_postfix": "",
     "delete_cmd_prefix": "del ",
     "library": "var_list.py",
     "varRefreshCmd": "print(var_dic_list())"
    },
    "r": {
     "delete_cmd_postfix": ") ",
     "delete_cmd_prefix": "rm(",
     "library": "var_list.r",
     "varRefreshCmd": "cat(var_dic_list()) "
    }
   },
   "types_to_exclude": [
    "module",
    "function",
    "builtin_function_or_method",
    "instance",
    "_Feature"
   ],
   "window_display": false
  }
 },
 "nbformat": 4,
 "nbformat_minor": 5
}
