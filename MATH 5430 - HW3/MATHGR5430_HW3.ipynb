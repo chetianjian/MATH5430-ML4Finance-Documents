{
 "cells": [
  {
   "cell_type": "markdown",
   "metadata": {
    "id": "IPTUOyEyipqI"
   },
   "source": [
    "# Machine Learning for Finance Homework 3"
   ]
  },
  {
   "cell_type": "markdown",
   "metadata": {
    "id": "uLMzGr3PiqQv"
   },
   "source": [
    "In this homework, we will focus on \n",
    "\n",
    "1.   Sentiment Analysis using NLP\n",
    "2.   Clustering with KMeans++, Inertia, PCA and short EDA\n",
    "3.   Individual project proposal\n"
   ]
  },
  {
   "cell_type": "markdown",
   "metadata": {
    "id": "XJvBs8KRi8NT"
   },
   "source": [
    "## 1. Pre-trained model: FinBERT"
   ]
  },
  {
   "cell_type": "markdown",
   "metadata": {
    "id": "qmccr1qR5dVR"
   },
   "source": [
    "Your hedge fund manager wakes up every morning at 4am and wants a concise summary of the news relevant to his portfolio. He/She wants a quick summary showing the headlines of the news as well as classified sentiment scores.\n",
    "\n",
    "Furthermore, he/she asks you to aggregate this information per stock and summarize the overall tone for this stock"
   ]
  },
  {
   "cell_type": "markdown",
   "metadata": {
    "id": "my7vpEpGGxe0"
   },
   "source": [
    "1.1 Install the transformers package"
   ]
  },
  {
   "cell_type": "code",
   "execution_count": 1,
   "metadata": {
    "ExecuteTime": {
     "end_time": "2022-06-06T03:59:39.763869Z",
     "start_time": "2022-06-06T03:59:37.411573Z"
    },
    "id": "JgKRptChQqia"
   },
   "outputs": [
    {
     "name": "stdout",
     "output_type": "stream",
     "text": [
      "Requirement already satisfied: transformers in c:\\users\\tianj\\anaconda3\\lib\\site-packages (4.17.0)\n",
      "Requirement already satisfied: huggingface-hub<1.0,>=0.1.0 in c:\\users\\tianj\\anaconda3\\lib\\site-packages (from transformers) (0.4.0)\n",
      "Requirement already satisfied: requests in c:\\users\\tianj\\anaconda3\\lib\\site-packages (from transformers) (2.27.1)\n",
      "Requirement already satisfied: tqdm>=4.27 in c:\\users\\tianj\\anaconda3\\lib\\site-packages (from transformers) (4.64.0)\n",
      "Requirement already satisfied: numpy>=1.17 in c:\\users\\tianj\\anaconda3\\lib\\site-packages (from transformers) (1.22.3)\n",
      "Requirement already satisfied: packaging>=20.0 in c:\\users\\tianj\\anaconda3\\lib\\site-packages (from transformers) (21.3)\n",
      "Requirement already satisfied: tokenizers!=0.11.3,>=0.11.1 in c:\\users\\tianj\\anaconda3\\lib\\site-packages (from transformers) (0.11.6)\n",
      "Requirement already satisfied: regex!=2019.12.17 in c:\\users\\tianj\\anaconda3\\lib\\site-packages (from transformers) (2022.3.15)\n",
      "Requirement already satisfied: sacremoses in c:\\users\\tianj\\anaconda3\\lib\\site-packages (from transformers) (0.0.49)\n",
      "Requirement already satisfied: filelock in c:\\users\\tianj\\anaconda3\\lib\\site-packages (from transformers) (3.6.0)\n",
      "Requirement already satisfied: pyyaml>=5.1 in c:\\users\\tianj\\anaconda3\\lib\\site-packages (from transformers) (6.0)\n",
      "Requirement already satisfied: typing-extensions>=3.7.4.3 in c:\\users\\tianj\\anaconda3\\lib\\site-packages (from huggingface-hub<1.0,>=0.1.0->transformers) (4.1.1)\n",
      "Requirement already satisfied: pyparsing!=3.0.5,>=2.0.2 in c:\\users\\tianj\\anaconda3\\lib\\site-packages (from packaging>=20.0->transformers) (3.0.4)\n",
      "Requirement already satisfied: colorama in c:\\users\\tianj\\anaconda3\\lib\\site-packages (from tqdm>=4.27->transformers) (0.4.4)\n",
      "Requirement already satisfied: certifi>=2017.4.17 in c:\\users\\tianj\\anaconda3\\lib\\site-packages (from requests->transformers) (2021.10.8)\n",
      "Requirement already satisfied: urllib3<1.27,>=1.21.1 in c:\\users\\tianj\\anaconda3\\lib\\site-packages (from requests->transformers) (1.26.9)\n",
      "Requirement already satisfied: idna<4,>=2.5 in c:\\users\\tianj\\anaconda3\\lib\\site-packages (from requests->transformers) (3.3)\n",
      "Requirement already satisfied: charset-normalizer~=2.0.0 in c:\\users\\tianj\\anaconda3\\lib\\site-packages (from requests->transformers) (2.0.4)\n",
      "Requirement already satisfied: six in c:\\users\\tianj\\anaconda3\\lib\\site-packages (from sacremoses->transformers) (1.16.0)\n",
      "Requirement already satisfied: click in c:\\users\\tianj\\anaconda3\\lib\\site-packages (from sacremoses->transformers) (8.0.4)\n",
      "Requirement already satisfied: joblib in c:\\users\\tianj\\anaconda3\\lib\\site-packages (from sacremoses->transformers) (1.1.0)\n",
      "Note: you may need to restart the kernel to use updated packages.\n"
     ]
    }
   ],
   "source": [
    "pip install transformers"
   ]
  },
  {
   "cell_type": "markdown",
   "metadata": {
    "id": "Blt_iC8CGuHC"
   },
   "source": [
    "1.2 import the requests package and other libraries you might need"
   ]
  },
  {
   "cell_type": "code",
   "execution_count": 2,
   "metadata": {
    "ExecuteTime": {
     "end_time": "2022-06-06T03:59:42.815384Z",
     "start_time": "2022-06-06T03:59:42.357524Z"
    },
    "id": "ol17162mosH6"
   },
   "outputs": [],
   "source": [
    "import pandas as pd\n",
    "import requests"
   ]
  },
  {
   "cell_type": "markdown",
   "metadata": {
    "id": "9TjSYXmiHlRk"
   },
   "source": [
    "The following dictionary represents our portfolio of stocks using the following logic (key, value) = (holding-name, branch), where $$branch ∈ \\{\"business\", \"entertainment\", \"general\", \"health\", \"science\", \"sports\", \"tech\n",
    "nology\"\\}$$\n",
    "following the NewsAPI documentation.\n",
    "\n",
    "To save you some time, a typical request is built similar to:\n",
    "\"https://newsapi.org/v2/top-headlines?country=us&q=*KEYWORD*&category=*CATEGORY*&sortBy=top&apiKey=*YOURKEYHERE*\".\n",
    "\n",
    "For example: \n",
    "\n",
    "https://newsapi.org/v2/top-headlines?country=us&q=apple&category=technology&sortBy=top&apiKey=123ab45c687d...\n",
    "\n",
    "\n",
    "\n",
    "\n",
    "\n",
    "Please see:\n",
    "\n",
    "\n",
    "1.   https://newsapi.org/docs (To construct your HTTP GET-requests)\n",
    "2.   https://newsapi.org/register (To obtain your API key)\n",
    "\n",
    "\n"
   ]
  },
  {
   "cell_type": "code",
   "execution_count": 3,
   "metadata": {
    "ExecuteTime": {
     "end_time": "2022-06-06T03:59:43.969777Z",
     "start_time": "2022-06-06T03:59:43.962276Z"
    },
    "id": "pEDZ7HMGw_vO"
   },
   "outputs": [],
   "source": [
    "portfolio = dict({\"apple\": 'technology', \"tesla\": 'business', \"amazon\": 'technology', \"s&p500\": 'business'})\n",
    "\n",
    "# we are going to use the S&P500 to get a general idea of the sentiment of news in the US market"
   ]
  },
  {
   "cell_type": "markdown",
   "metadata": {
    "id": "unGk5HE8KCNZ"
   },
   "source": [
    "1.3 Write the function fetch_news() that returns a dictionary that stores the name of the holding as key (analogous to our stock portfolio) and as value an array that holds the strings of news"
   ]
  },
  {
   "cell_type": "code",
   "execution_count": 4,
   "metadata": {
    "ExecuteTime": {
     "end_time": "2022-06-06T03:59:45.679338Z",
     "start_time": "2022-06-06T03:59:45.671337Z"
    },
    "id": "ohgxARP0wf7W"
   },
   "outputs": [],
   "source": [
    "# This is my api_key\n",
    "api_key = \"1fa2671224264342a6af4a9cc19c8eb8\"\n",
    "\n",
    "def fetch_news():\n",
    "    result = {}\n",
    "    for keyword in portfolio.keys():\n",
    "        request_str = \"https://newsapi.org/v2/top-headlines?country=us&q=\" + \\\n",
    "                        keyword + \"&category=\" + portfolio.get(keyword) + \\\n",
    "                        \"&sortBy=top&apiKey=\" + api_key\n",
    "        result[keyword] = [dic.get(\"title\") for dic in requests.get(request_str).json().get(\"articles\")]\n",
    "    return result"
   ]
  },
  {
   "cell_type": "code",
   "execution_count": 5,
   "metadata": {
    "ExecuteTime": {
     "end_time": "2022-06-06T03:59:48.840638Z",
     "start_time": "2022-06-06T03:59:48.387561Z"
    },
    "colab": {
     "base_uri": "https://localhost:8080/"
    },
    "id": "qOZASp8esuca",
    "outputId": "161226de-ce0b-4dbd-c71e-12f203b4b18b",
    "scrolled": false
   },
   "outputs": [
    {
     "data": {
      "text/plain": [
       "{'apple': ['M2 MacBook Air and MacBook Pro coming at WWDC? - 9to5Mac',\n",
       "  'Apple Sees Virtual-Reality Headset as Its Next Big Thing - The New York Times',\n",
       "  \"All the news coming out of Apple's Worldwide Developers Conference - The Verge\",\n",
       "  'Apple Prepares to Challenge Facebook - TheStreet',\n",
       "  'The new MacBook Air might come with a long wait time - The Verge',\n",
       "  'Apple iPad Air M1 long-term review: Still the only tablet you should buy - Android Central',\n",
       "  'Apple’s Coming iOS 16: A Wish List - The Wall Street Journal',\n",
       "  'iPhone Emoji Are the Worst (and Here’s Proof) - How-To Geek',\n",
       "  'Shockingly similar iPhone 14 Pro and Pixel 7 Pro designs not a coincidence: Is Google copying Apple? - PhoneArena',\n",
       "  'How to enable Audio Hints for Fitness+ on Apple iPhone - MobiGyaan',\n",
       "  'Big vote on Tuesday in Europe could determine the future of the Lightning port on iPhone - PhoneArena'],\n",
       " 'tesla': ['Elon Musk feud with Bill Gates boils over to Twitter - Fox Business',\n",
       "  'Elon Musk’s Bot Problem on Twitter Is Extraordinary - The Wall Street Journal',\n",
       "  'Elon Musk Opens Door To A Tesla Talent Exodus, Despite Golden Handcuffs - NDTV Profit',\n",
       "  'Benzinga Bulls And Bears Of The Week: Amazon, Tesla, Palantir, Coinbase, And A Company Betting Big On Bit - Benzinga'],\n",
       " 'amazon': ['Daily Deals: PlayStation 5 Invitation Still Live on Amazon - IGN - IGN',\n",
       "  'Amazon Games Announces New Multiplayer Action Game - ComicBook.com'],\n",
       " 's&p500': ['Oil jumps after Saudi Arabia hikes crude prices - Yahoo Finance',\n",
       "  'Here’s How Bitcoin Could Perform in Coming Weeks As BTC Impersonates June 2021 Price Action: Top Analyst - The Daily Hodl',\n",
       "  'Stock Market Today: Dow, S&P Live Updates for June 6, 2022 - Bloomberg',\n",
       "  'The Office Monsters Are Trying to Claw Their Way Back to 2019 - The New York Times',\n",
       "  'Coinbase freezes hiring and rescinds accepted job offers - The Verge',\n",
       "  'Easyjet cancels 80 flights as travel disruption continues - BBC',\n",
       "  'Top 5 cryptocurrencies to watch this week: BTC, ADA, XLM, XMR, MANA - Cointelegraph',\n",
       "  'Inflation, Fed blackout, CEO doom and gloom: What to know this week - Yahoo Finance',\n",
       "  'New Terra Fails to Provide Massive Gains to Holders Post-Launch: Details - U.Today',\n",
       "  'The arrest heard ’round the crypto world - TechCrunch',\n",
       "  'Frontier Offers Spirit $250 Million Break-Up Fee If Deal Fails - Jalopnik',\n",
       "  'AI Mayflower Reaches Right Continent, Wrong Country - Newser',\n",
       "  'Automotive giant Stellantis pleads guilty to diesel emissions fraud - Engadget',\n",
       "  'Starbucks workers claim their store is closing due to union activism - CNN',\n",
       "  'US Unemployment drops to lowest level since 1969 - AS USA',\n",
       "  \"At 17, she was her family's breadwinner on a McDonald's salary. Now she's gone into space - CNN\",\n",
       "  'Is carbon removal a realistic climate solution? - Yahoo! Voices',\n",
       "  \"A paradigm shift has begun in markets, says Morgan Stanley's Ted Pick. Here's what to expect - CNBC\",\n",
       "  \"Novavax's protein-based coronavirus vaccine would be the fourth to gain authorization in the United States - The Washington Post\",\n",
       "  'This 23-year-old spent $45,000 to become a wedding photographer—now she makes $177,000 per year - CNBC']}"
      ]
     },
     "execution_count": 5,
     "metadata": {},
     "output_type": "execute_result"
    }
   ],
   "source": [
    "fetch_news()"
   ]
  },
  {
   "cell_type": "markdown",
   "metadata": {
    "id": "T8YUtRDvKo9I"
   },
   "source": [
    "1.4 Following the lecture notes, using the pre-trained Finbert Classifier, classify the news fetched in 1.3 into neutral, positive or negative by modifying the below code:"
   ]
  },
  {
   "cell_type": "markdown",
   "metadata": {
    "id": "9w_JY0czL6x6"
   },
   "source": [
    "1.5 Last but not least, find the total tone for each element in our portfolio, where:\n",
    "\n",
    "\n",
    "*   neutral=0\n",
    "*   positive=+1\n",
    "*   negative=-1"
   ]
  },
  {
   "cell_type": "code",
   "execution_count": 6,
   "metadata": {
    "ExecuteTime": {
     "end_time": "2022-06-06T04:03:31.894459Z",
     "start_time": "2022-06-06T03:59:51.356579Z"
    },
    "colab": {
     "base_uri": "https://localhost:8080/",
     "height": 218,
     "referenced_widgets": [
      "82271596fc294563bcadbca5c39ac580",
      "d9d127402e004e3392641ba5c2e24b61",
      "e35d7c9bd596447697a756a3e6e04b25",
      "79635e63ce864d4697c51c1393ffc74f",
      "d2ffdbac8978469da31e6c8359302799",
      "e852e60cacf74ca39cc397965f350a5a",
      "741cbb167fb149079193b8f25cd5aa70",
      "4fde5202886842769dc238479b6c0777",
      "cd739feae99e406f85644be6525ab5f3",
      "82a303c2c1c74bd7b04944e2e800f15e",
      "ac1bf459aa0345b582ae0247e1777153",
      "c433ff3fbbe14ea5b76d1f96aee2b558",
      "44a42c89761741caa8fc6501ccb40492",
      "f5424454414f467e8ca72d75d8e2330c",
      "d10c79f9167a4737aeeb5c1b650a946b",
      "51f35ed64a704aa29e30c323f69cfdb2",
      "cc52192a5fca480ea9a45fe17522b6d5",
      "995f0f24e5734d988cf5f1faafbc2570",
      "0d5a16f7d96e4a3eaaab91f4c1ab98a8",
      "9f95ed79c2304214b9472e98ca52f694",
      "b35f148b5f5144fc914948fd4cb2da99",
      "34af2df6560949ae93e1daad7bc56265",
      "0e83615c11024fb982aa68212da7dfc5",
      "c7a0eba1fd0e46e2836d0f7392196e41",
      "ae2774dd7b844858ad61145acd7fb59b",
      "aa54a8141ae84954aacc2d85bee650a4",
      "f1c0ae40275f45df805bcf858165c077",
      "ac8a16ba368c4bcabac74b42e418ab69",
      "9eb45d49d40f46fa9ec91de659378712",
      "8c42299ed25b4ac1b27df316da7fe0bd",
      "f613f5eadfba45d3855a2913d9475a10",
      "6af7c9007e454c369388e1c51bea136a",
      "96608a291cef46c9ac61e5638c08954f"
     ]
    },
    "id": "0_M89j0ELHT0",
    "outputId": "a9e5ac34-4cf4-477e-cc9c-06f8e7a2c841",
    "scrolled": false
   },
   "outputs": [
    {
     "data": {
      "application/vnd.jupyter.widget-view+json": {
       "model_id": "b45aacdd15c54cc6a5b293123cf52974",
       "version_major": 2,
       "version_minor": 0
      },
      "text/plain": [
       "Downloading:   0%|          | 0.00/533 [00:00<?, ?B/s]"
      ]
     },
     "metadata": {},
     "output_type": "display_data"
    },
    {
     "data": {
      "application/vnd.jupyter.widget-view+json": {
       "model_id": "2f146a2c648742308266261402fd126d",
       "version_major": 2,
       "version_minor": 0
      },
      "text/plain": [
       "Downloading:   0%|          | 0.00/419M [00:00<?, ?B/s]"
      ]
     },
     "metadata": {},
     "output_type": "display_data"
    },
    {
     "data": {
      "application/vnd.jupyter.widget-view+json": {
       "model_id": "a505a3e3a11943498bbbbb1bf4685642",
       "version_major": 2,
       "version_minor": 0
      },
      "text/plain": [
       "Downloading:   0%|          | 0.00/221k [00:00<?, ?B/s]"
      ]
     },
     "metadata": {},
     "output_type": "display_data"
    },
    {
     "name": "stdout",
     "output_type": "stream",
     "text": [
      "there is a shortage of capital, and we need extra financing ---- negative\n",
      "growth is strong and we have plenty of liquidity ---- positive\n",
      "there are doubts about our finances ---- negative\n",
      "profits are flat ---- neutral\n"
     ]
    },
    {
     "data": {
      "text/plain": [
       "'\\nthere is a shortage of capital, and we need extra financing ---- negative\\ngrowth is strong and we have plenty of liquidity ---- positive\\nthere are doubts about our finances ---- negative\\nprofits are flat ---- neutral\\n'"
      ]
     },
     "execution_count": 6,
     "metadata": {},
     "output_type": "execute_result"
    }
   ],
   "source": [
    "# BUILD YOUR CODE ON TOP OF THIS EXAMPLE CODE IN THE CELL BELOW\n",
    "from transformers import BertTokenizer, BertForSequenceClassification\n",
    "import numpy as np\n",
    "\n",
    "finbert = BertForSequenceClassification.from_pretrained('yiyanghkust/finbert-tone',num_labels=3)\n",
    "tokenizer = BertTokenizer.from_pretrained('yiyanghkust/finbert-tone')\n",
    "\n",
    "sentences = [\"there is a shortage of capital, and we need extra financing\", \n",
    "             \"growth is strong and we have plenty of liquidity\", \n",
    "             \"there are doubts about our finances\", \n",
    "             \"profits are flat\"]\n",
    "\n",
    "inputs = tokenizer(sentences, return_tensors=\"pt\", padding=True)\n",
    "outputs = finbert(**inputs)[0]\n",
    "\n",
    "labels = {0:'neutral', 1:'positive',2:'negative'}\n",
    "for idx, sent in enumerate(sentences):\n",
    "    print(sent, '----', labels[np.argmax(outputs.detach().numpy()[idx])])\n",
    "    \n",
    "'''\n",
    "there is a shortage of capital, and we need extra financing ---- negative\n",
    "growth is strong and we have plenty of liquidity ---- positive\n",
    "there are doubts about our finances ---- negative\n",
    "profits are flat ---- neutral\n",
    "'''"
   ]
  },
  {
   "cell_type": "code",
   "execution_count": 7,
   "metadata": {
    "ExecuteTime": {
     "end_time": "2022-06-06T04:10:09.081754Z",
     "start_time": "2022-06-06T04:10:04.960155Z"
    },
    "colab": {
     "base_uri": "https://localhost:8080/"
    },
    "id": "ZZ186LY2jAGM",
    "outputId": "b51f8ac0-2d63-4f97-8cfc-5bbb18230887"
   },
   "outputs": [
    {
     "data": {
      "text/plain": [
       "{'apple': ['M2 MacBook Air and MacBook Pro coming at WWDC?----neutral',\n",
       "  'Apple Sees Virtual-Reality Headset as Its Next Big Thing----positive',\n",
       "  \"All the news coming out of Apple's Worldwide Developers Conference----neutral\",\n",
       "  'Apple Prepares to Challenge Facebook----negative',\n",
       "  'The new MacBook Air might come with a long wait time----neutral',\n",
       "  'Apple iPad Air M1 long-term review: Still the only tablet you should buy----neutral',\n",
       "  'Apple’s Coming iOS 16: A Wish List----neutral',\n",
       "  'iPhone Emoji Are the Worst (and Here’s Proof)----negative',\n",
       "  'Shockingly similar iPhone 14 Pro and Pixel 7 Pro designs not a coincidence: Is Google copying Apple?----negative',\n",
       "  'How to enable Audio Hints for Fitness+ on Apple iPhone----positive',\n",
       "  'Big vote on Tuesday in Europe could determine the future of the Lightning port on iPhone----neutral'],\n",
       " 'tesla': ['Elon Musk feud with Bill Gates boils over to Twitter----neutral',\n",
       "  'Elon Musk’s Bot Problem on Twitter Is Extraordinary----negative',\n",
       "  'Elon Musk Opens Door To A Tesla Talent Exodus, Despite Golden Handcuffs----neutral',\n",
       "  'Benzinga Bulls And Bears Of The Week: Amazon, Tesla, Palantir, Coinbase, And A Company Betting Big On Bit----neutral'],\n",
       " 'amazon': ['Daily Deals: PlayStation 5 Invitation Still Live on Amazon----neutral',\n",
       "  'Amazon Games Announces New Multiplayer Action Game----positive'],\n",
       " 's&p500': ['Oil jumps after Saudi Arabia hikes crude prices----positive',\n",
       "  'Here’s How Bitcoin Could Perform in Coming Weeks As BTC Impersonates June 2021 Price Action: Top Analyst----neutral',\n",
       "  'Stock Market Today: Dow, S&P Live Updates for June 6, 2022----neutral',\n",
       "  'The Office Monsters Are Trying to Claw Their Way Back to 2019----neutral',\n",
       "  'Coinbase freezes hiring and rescinds accepted job offers----negative',\n",
       "  'Easyjet cancels 80 flights as travel disruption continues----negative',\n",
       "  'Top 5 cryptocurrencies to watch this week: BTC, ADA, XLM, XMR, MANA----neutral',\n",
       "  'Inflation, Fed blackout, CEO doom and gloom: What to know this week----neutral',\n",
       "  'New Terra Fails to Provide Massive Gains to Holders Post-Launch: Details----negative',\n",
       "  'The arrest heard ’round the crypto world----neutral',\n",
       "  'Frontier Offers Spirit $250 Million Break-Up Fee If Deal Fails----neutral',\n",
       "  'AI Mayflower Reaches Right Continent, Wrong Country----neutral',\n",
       "  'Automotive giant Stellantis pleads guilty to diesel emissions fraud----negative',\n",
       "  'Starbucks workers claim their store is closing due to union activism----negative',\n",
       "  'US Unemployment drops to lowest level since 1969----negative',\n",
       "  \"At 17, she was her family's breadwinner on a McDonald's salary. Now she's gone into space----neutral\",\n",
       "  'Is carbon removal a realistic climate solution?----neutral',\n",
       "  \"A paradigm shift has begun in markets, says Morgan Stanley's Ted Pick. Here's what to expect----neutral\",\n",
       "  \"Novavax's protein-based coronavirus vaccine would be the fourth to gain authorization in the United States----positive\",\n",
       "  'This 23-year-old spent $45,000 to become a wedding photographer—now she makes $177,000 per year----neutral']}"
      ]
     },
     "execution_count": 7,
     "metadata": {},
     "output_type": "execute_result"
    }
   ],
   "source": [
    "# Your code here\n",
    "import re\n",
    "\n",
    "# Define a function to remove the author name at the end of each title.\n",
    "def parseSentence(sen: str) -> str:\n",
    "    return re.split(\"[\\s]-[\\s]\", sen)[0]\n",
    "\n",
    "classified_news = {}\n",
    "finbert = BertForSequenceClassification.from_pretrained('yiyanghkust/finbert-tone', \n",
    "                                                        num_labels=3)\n",
    "tokenizer = BertTokenizer.from_pretrained('yiyanghkust/finbert-tone')\n",
    "labels = {0:'neutral', 1:'positive', 2:'negative'}\n",
    "\n",
    "for company in fetch_news().keys():\n",
    "    classified_news[company] = []\n",
    "    sentences = list(map(parseSentence, fetch_news().get(company)))\n",
    "    if not sentences:\n",
    "        continue\n",
    "    else:\n",
    "        inputs = tokenizer(sentences, return_tensors=\"pt\", padding=True)\n",
    "        outputs = finbert(**inputs)[0]\n",
    "        for idx, sent in enumerate(sentences):\n",
    "            classified_news[company].append(sent + '----' + \\\n",
    "                            labels[np.argmax(outputs.detach().numpy()[idx])])\n",
    "classified_news"
   ]
  },
  {
   "cell_type": "code",
   "execution_count": 8,
   "metadata": {
    "ExecuteTime": {
     "end_time": "2022-06-06T04:10:09.097257Z",
     "start_time": "2022-06-06T04:10:09.083756Z"
    },
    "colab": {
     "base_uri": "https://localhost:8080/",
     "height": 173
    },
    "id": "DGky3pfYmnVt",
    "outputId": "fce30128-53c9-4eb5-ea6d-2e218623f442"
   },
   "outputs": [
    {
     "data": {
      "text/plain": [
       "-5"
      ]
     },
     "execution_count": 8,
     "metadata": {},
     "output_type": "execute_result"
    }
   ],
   "source": [
    "# Your code here\n",
    "tone_dic = {\"neutral\": 0, \"positive\": 1, \"negative\": -1}\n",
    "total_tone = 0\n",
    "for company in classified_news.keys():\n",
    "    for sentence in classified_news.get(company):\n",
    "        total_tone += tone_dic.get(re.split(\"----\", sentence)[1])\n",
    "total_tone"
   ]
  },
  {
   "cell_type": "markdown",
   "metadata": {
    "id": "TPlJUhxMH1kL"
   },
   "source": [
    "## 2. K-Means++ Clustering with PCA\n",
    "\n",
    "---\n",
    "\n",
    "To make it easier for you, for the analysis important EDA has already been performed. However, it is your task to interpret\n"
   ]
  },
  {
   "cell_type": "markdown",
   "metadata": {
    "id": "0ZgFIlhOL9qu"
   },
   "source": [
    "2.1 Import necessary libraries..."
   ]
  },
  {
   "cell_type": "code",
   "execution_count": 9,
   "metadata": {
    "ExecuteTime": {
     "end_time": "2022-03-24T03:58:08.678325Z",
     "start_time": "2022-03-24T03:58:07.377595Z"
    },
    "id": "ftaeHod50100"
   },
   "outputs": [],
   "source": [
    "import pandas as pd\n",
    "import numpy as np\n",
    "from sklearn.decomposition import PCA\n",
    "from sklearn.preprocessing import StandardScaler\n",
    "\n",
    "from sklearn.cluster import KMeans\n",
    "import seaborn as sns\n",
    "\n",
    "import matplotlib.pyplot as plt\n",
    "from matplotlib.pyplot import figure"
   ]
  },
  {
   "cell_type": "markdown",
   "metadata": {
    "id": "8VOziZKYMLa9"
   },
   "source": [
    "2.2 Read the credit card data into a dataframe"
   ]
  },
  {
   "cell_type": "code",
   "execution_count": 10,
   "metadata": {
    "ExecuteTime": {
     "end_time": "2022-03-24T03:58:08.709331Z",
     "start_time": "2022-03-24T03:58:08.680826Z"
    },
    "id": "oSvwgYPoDj5p"
   },
   "outputs": [],
   "source": [
    "cc_holders = pd.read_csv(\"credit_card.csv\")"
   ]
  },
  {
   "cell_type": "markdown",
   "metadata": {
    "id": "lTGwAXmMMT0I"
   },
   "source": [
    "2.3 Show a snippet of the dataframe"
   ]
  },
  {
   "cell_type": "code",
   "execution_count": 11,
   "metadata": {
    "ExecuteTime": {
     "end_time": "2022-03-24T03:58:08.740337Z",
     "start_time": "2022-03-24T03:58:08.710830Z"
    },
    "colab": {
     "base_uri": "https://localhost:8080/",
     "height": 483
    },
    "id": "NJ-djlzsDmXD",
    "outputId": "2e6f93e5-95e8-4df6-fe31-3b80b7080455"
   },
   "outputs": [
    {
     "data": {
      "text/html": [
       "<div>\n",
       "<style scoped>\n",
       "    .dataframe tbody tr th:only-of-type {\n",
       "        vertical-align: middle;\n",
       "    }\n",
       "\n",
       "    .dataframe tbody tr th {\n",
       "        vertical-align: top;\n",
       "    }\n",
       "\n",
       "    .dataframe thead th {\n",
       "        text-align: right;\n",
       "    }\n",
       "</style>\n",
       "<table border=\"1\" class=\"dataframe\">\n",
       "  <thead>\n",
       "    <tr style=\"text-align: right;\">\n",
       "      <th></th>\n",
       "      <th>CUST_ID</th>\n",
       "      <th>BALANCE</th>\n",
       "      <th>BALANCE_FREQUENCY</th>\n",
       "      <th>PURCHASES</th>\n",
       "      <th>ONEOFF_PURCHASES</th>\n",
       "      <th>INSTALLMENTS_PURCHASES</th>\n",
       "      <th>CASH_ADVANCE</th>\n",
       "      <th>PURCHASES_FREQUENCY</th>\n",
       "      <th>ONEOFF_PURCHASES_FREQUENCY</th>\n",
       "      <th>PURCHASES_INSTALLMENTS_FREQUENCY</th>\n",
       "      <th>CASH_ADVANCE_FREQUENCY</th>\n",
       "      <th>CASH_ADVANCE_TRX</th>\n",
       "      <th>PURCHASES_TRX</th>\n",
       "      <th>CREDIT_LIMIT</th>\n",
       "      <th>PAYMENTS</th>\n",
       "      <th>MINIMUM_PAYMENTS</th>\n",
       "      <th>PRC_FULL_PAYMENT</th>\n",
       "      <th>TENURE</th>\n",
       "    </tr>\n",
       "  </thead>\n",
       "  <tbody>\n",
       "    <tr>\n",
       "      <th>0</th>\n",
       "      <td>C10001</td>\n",
       "      <td>40.900749</td>\n",
       "      <td>0.818182</td>\n",
       "      <td>95.40</td>\n",
       "      <td>0.00</td>\n",
       "      <td>95.40</td>\n",
       "      <td>0.000000</td>\n",
       "      <td>0.166667</td>\n",
       "      <td>0.000000</td>\n",
       "      <td>0.083333</td>\n",
       "      <td>0.000000</td>\n",
       "      <td>0</td>\n",
       "      <td>2</td>\n",
       "      <td>1000.0</td>\n",
       "      <td>201.802084</td>\n",
       "      <td>139.509787</td>\n",
       "      <td>0.000000</td>\n",
       "      <td>12</td>\n",
       "    </tr>\n",
       "    <tr>\n",
       "      <th>1</th>\n",
       "      <td>C10002</td>\n",
       "      <td>3202.467416</td>\n",
       "      <td>0.909091</td>\n",
       "      <td>0.00</td>\n",
       "      <td>0.00</td>\n",
       "      <td>0.00</td>\n",
       "      <td>6442.945483</td>\n",
       "      <td>0.000000</td>\n",
       "      <td>0.000000</td>\n",
       "      <td>0.000000</td>\n",
       "      <td>0.250000</td>\n",
       "      <td>4</td>\n",
       "      <td>0</td>\n",
       "      <td>7000.0</td>\n",
       "      <td>4103.032597</td>\n",
       "      <td>1072.340217</td>\n",
       "      <td>0.222222</td>\n",
       "      <td>12</td>\n",
       "    </tr>\n",
       "    <tr>\n",
       "      <th>2</th>\n",
       "      <td>C10003</td>\n",
       "      <td>2495.148862</td>\n",
       "      <td>1.000000</td>\n",
       "      <td>773.17</td>\n",
       "      <td>773.17</td>\n",
       "      <td>0.00</td>\n",
       "      <td>0.000000</td>\n",
       "      <td>1.000000</td>\n",
       "      <td>1.000000</td>\n",
       "      <td>0.000000</td>\n",
       "      <td>0.000000</td>\n",
       "      <td>0</td>\n",
       "      <td>12</td>\n",
       "      <td>7500.0</td>\n",
       "      <td>622.066742</td>\n",
       "      <td>627.284787</td>\n",
       "      <td>0.000000</td>\n",
       "      <td>12</td>\n",
       "    </tr>\n",
       "    <tr>\n",
       "      <th>3</th>\n",
       "      <td>C10004</td>\n",
       "      <td>1666.670542</td>\n",
       "      <td>0.636364</td>\n",
       "      <td>1499.00</td>\n",
       "      <td>1499.00</td>\n",
       "      <td>0.00</td>\n",
       "      <td>205.788017</td>\n",
       "      <td>0.083333</td>\n",
       "      <td>0.083333</td>\n",
       "      <td>0.000000</td>\n",
       "      <td>0.083333</td>\n",
       "      <td>1</td>\n",
       "      <td>1</td>\n",
       "      <td>7500.0</td>\n",
       "      <td>0.000000</td>\n",
       "      <td>NaN</td>\n",
       "      <td>0.000000</td>\n",
       "      <td>12</td>\n",
       "    </tr>\n",
       "    <tr>\n",
       "      <th>4</th>\n",
       "      <td>C10005</td>\n",
       "      <td>817.714335</td>\n",
       "      <td>1.000000</td>\n",
       "      <td>16.00</td>\n",
       "      <td>16.00</td>\n",
       "      <td>0.00</td>\n",
       "      <td>0.000000</td>\n",
       "      <td>0.083333</td>\n",
       "      <td>0.083333</td>\n",
       "      <td>0.000000</td>\n",
       "      <td>0.000000</td>\n",
       "      <td>0</td>\n",
       "      <td>1</td>\n",
       "      <td>1200.0</td>\n",
       "      <td>678.334763</td>\n",
       "      <td>244.791237</td>\n",
       "      <td>0.000000</td>\n",
       "      <td>12</td>\n",
       "    </tr>\n",
       "    <tr>\n",
       "      <th>...</th>\n",
       "      <td>...</td>\n",
       "      <td>...</td>\n",
       "      <td>...</td>\n",
       "      <td>...</td>\n",
       "      <td>...</td>\n",
       "      <td>...</td>\n",
       "      <td>...</td>\n",
       "      <td>...</td>\n",
       "      <td>...</td>\n",
       "      <td>...</td>\n",
       "      <td>...</td>\n",
       "      <td>...</td>\n",
       "      <td>...</td>\n",
       "      <td>...</td>\n",
       "      <td>...</td>\n",
       "      <td>...</td>\n",
       "      <td>...</td>\n",
       "      <td>...</td>\n",
       "    </tr>\n",
       "    <tr>\n",
       "      <th>8945</th>\n",
       "      <td>C19186</td>\n",
       "      <td>28.493517</td>\n",
       "      <td>1.000000</td>\n",
       "      <td>291.12</td>\n",
       "      <td>0.00</td>\n",
       "      <td>291.12</td>\n",
       "      <td>0.000000</td>\n",
       "      <td>1.000000</td>\n",
       "      <td>0.000000</td>\n",
       "      <td>0.833333</td>\n",
       "      <td>0.000000</td>\n",
       "      <td>0</td>\n",
       "      <td>6</td>\n",
       "      <td>1000.0</td>\n",
       "      <td>325.594462</td>\n",
       "      <td>48.886365</td>\n",
       "      <td>0.500000</td>\n",
       "      <td>6</td>\n",
       "    </tr>\n",
       "    <tr>\n",
       "      <th>8946</th>\n",
       "      <td>C19187</td>\n",
       "      <td>19.183215</td>\n",
       "      <td>1.000000</td>\n",
       "      <td>300.00</td>\n",
       "      <td>0.00</td>\n",
       "      <td>300.00</td>\n",
       "      <td>0.000000</td>\n",
       "      <td>1.000000</td>\n",
       "      <td>0.000000</td>\n",
       "      <td>0.833333</td>\n",
       "      <td>0.000000</td>\n",
       "      <td>0</td>\n",
       "      <td>6</td>\n",
       "      <td>1000.0</td>\n",
       "      <td>275.861322</td>\n",
       "      <td>NaN</td>\n",
       "      <td>0.000000</td>\n",
       "      <td>6</td>\n",
       "    </tr>\n",
       "    <tr>\n",
       "      <th>8947</th>\n",
       "      <td>C19188</td>\n",
       "      <td>23.398673</td>\n",
       "      <td>0.833333</td>\n",
       "      <td>144.40</td>\n",
       "      <td>0.00</td>\n",
       "      <td>144.40</td>\n",
       "      <td>0.000000</td>\n",
       "      <td>0.833333</td>\n",
       "      <td>0.000000</td>\n",
       "      <td>0.666667</td>\n",
       "      <td>0.000000</td>\n",
       "      <td>0</td>\n",
       "      <td>5</td>\n",
       "      <td>1000.0</td>\n",
       "      <td>81.270775</td>\n",
       "      <td>82.418369</td>\n",
       "      <td>0.250000</td>\n",
       "      <td>6</td>\n",
       "    </tr>\n",
       "    <tr>\n",
       "      <th>8948</th>\n",
       "      <td>C19189</td>\n",
       "      <td>13.457564</td>\n",
       "      <td>0.833333</td>\n",
       "      <td>0.00</td>\n",
       "      <td>0.00</td>\n",
       "      <td>0.00</td>\n",
       "      <td>36.558778</td>\n",
       "      <td>0.000000</td>\n",
       "      <td>0.000000</td>\n",
       "      <td>0.000000</td>\n",
       "      <td>0.166667</td>\n",
       "      <td>2</td>\n",
       "      <td>0</td>\n",
       "      <td>500.0</td>\n",
       "      <td>52.549959</td>\n",
       "      <td>55.755628</td>\n",
       "      <td>0.250000</td>\n",
       "      <td>6</td>\n",
       "    </tr>\n",
       "    <tr>\n",
       "      <th>8949</th>\n",
       "      <td>C19190</td>\n",
       "      <td>372.708075</td>\n",
       "      <td>0.666667</td>\n",
       "      <td>1093.25</td>\n",
       "      <td>1093.25</td>\n",
       "      <td>0.00</td>\n",
       "      <td>127.040008</td>\n",
       "      <td>0.666667</td>\n",
       "      <td>0.666667</td>\n",
       "      <td>0.000000</td>\n",
       "      <td>0.333333</td>\n",
       "      <td>2</td>\n",
       "      <td>23</td>\n",
       "      <td>1200.0</td>\n",
       "      <td>63.165404</td>\n",
       "      <td>88.288956</td>\n",
       "      <td>0.000000</td>\n",
       "      <td>6</td>\n",
       "    </tr>\n",
       "  </tbody>\n",
       "</table>\n",
       "<p>8950 rows × 18 columns</p>\n",
       "</div>"
      ],
      "text/plain": [
       "     CUST_ID      BALANCE  BALANCE_FREQUENCY  PURCHASES  ONEOFF_PURCHASES  \\\n",
       "0     C10001    40.900749           0.818182      95.40              0.00   \n",
       "1     C10002  3202.467416           0.909091       0.00              0.00   \n",
       "2     C10003  2495.148862           1.000000     773.17            773.17   \n",
       "3     C10004  1666.670542           0.636364    1499.00           1499.00   \n",
       "4     C10005   817.714335           1.000000      16.00             16.00   \n",
       "...      ...          ...                ...        ...               ...   \n",
       "8945  C19186    28.493517           1.000000     291.12              0.00   \n",
       "8946  C19187    19.183215           1.000000     300.00              0.00   \n",
       "8947  C19188    23.398673           0.833333     144.40              0.00   \n",
       "8948  C19189    13.457564           0.833333       0.00              0.00   \n",
       "8949  C19190   372.708075           0.666667    1093.25           1093.25   \n",
       "\n",
       "      INSTALLMENTS_PURCHASES  CASH_ADVANCE  PURCHASES_FREQUENCY  \\\n",
       "0                      95.40      0.000000             0.166667   \n",
       "1                       0.00   6442.945483             0.000000   \n",
       "2                       0.00      0.000000             1.000000   \n",
       "3                       0.00    205.788017             0.083333   \n",
       "4                       0.00      0.000000             0.083333   \n",
       "...                      ...           ...                  ...   \n",
       "8945                  291.12      0.000000             1.000000   \n",
       "8946                  300.00      0.000000             1.000000   \n",
       "8947                  144.40      0.000000             0.833333   \n",
       "8948                    0.00     36.558778             0.000000   \n",
       "8949                    0.00    127.040008             0.666667   \n",
       "\n",
       "      ONEOFF_PURCHASES_FREQUENCY  PURCHASES_INSTALLMENTS_FREQUENCY  \\\n",
       "0                       0.000000                          0.083333   \n",
       "1                       0.000000                          0.000000   \n",
       "2                       1.000000                          0.000000   \n",
       "3                       0.083333                          0.000000   \n",
       "4                       0.083333                          0.000000   \n",
       "...                          ...                               ...   \n",
       "8945                    0.000000                          0.833333   \n",
       "8946                    0.000000                          0.833333   \n",
       "8947                    0.000000                          0.666667   \n",
       "8948                    0.000000                          0.000000   \n",
       "8949                    0.666667                          0.000000   \n",
       "\n",
       "      CASH_ADVANCE_FREQUENCY  CASH_ADVANCE_TRX  PURCHASES_TRX  CREDIT_LIMIT  \\\n",
       "0                   0.000000                 0              2        1000.0   \n",
       "1                   0.250000                 4              0        7000.0   \n",
       "2                   0.000000                 0             12        7500.0   \n",
       "3                   0.083333                 1              1        7500.0   \n",
       "4                   0.000000                 0              1        1200.0   \n",
       "...                      ...               ...            ...           ...   \n",
       "8945                0.000000                 0              6        1000.0   \n",
       "8946                0.000000                 0              6        1000.0   \n",
       "8947                0.000000                 0              5        1000.0   \n",
       "8948                0.166667                 2              0         500.0   \n",
       "8949                0.333333                 2             23        1200.0   \n",
       "\n",
       "         PAYMENTS  MINIMUM_PAYMENTS  PRC_FULL_PAYMENT  TENURE  \n",
       "0      201.802084        139.509787          0.000000      12  \n",
       "1     4103.032597       1072.340217          0.222222      12  \n",
       "2      622.066742        627.284787          0.000000      12  \n",
       "3        0.000000               NaN          0.000000      12  \n",
       "4      678.334763        244.791237          0.000000      12  \n",
       "...           ...               ...               ...     ...  \n",
       "8945   325.594462         48.886365          0.500000       6  \n",
       "8946   275.861322               NaN          0.000000       6  \n",
       "8947    81.270775         82.418369          0.250000       6  \n",
       "8948    52.549959         55.755628          0.250000       6  \n",
       "8949    63.165404         88.288956          0.000000       6  \n",
       "\n",
       "[8950 rows x 18 columns]"
      ]
     },
     "execution_count": 11,
     "metadata": {},
     "output_type": "execute_result"
    }
   ],
   "source": [
    "cc_holders"
   ]
  },
  {
   "cell_type": "markdown",
   "metadata": {
    "id": "2KpSbKqOMZW7"
   },
   "source": [
    "2.4 Gather information about missing data, data type and the dimensions of the dataset"
   ]
  },
  {
   "cell_type": "code",
   "execution_count": 12,
   "metadata": {
    "ExecuteTime": {
     "end_time": "2022-03-24T03:58:08.755839Z",
     "start_time": "2022-03-24T03:58:08.742337Z"
    },
    "colab": {
     "base_uri": "https://localhost:8080/"
    },
    "id": "LgJVJS9CBCtb",
    "outputId": "b43caf30-75f1-4d73-b0ab-23245b3e1184"
   },
   "outputs": [
    {
     "name": "stdout",
     "output_type": "stream",
     "text": [
      "<class 'pandas.core.frame.DataFrame'>\n",
      "RangeIndex: 8950 entries, 0 to 8949\n",
      "Data columns (total 18 columns):\n",
      " #   Column                            Non-Null Count  Dtype  \n",
      "---  ------                            --------------  -----  \n",
      " 0   CUST_ID                           8950 non-null   object \n",
      " 1   BALANCE                           8950 non-null   float64\n",
      " 2   BALANCE_FREQUENCY                 8950 non-null   float64\n",
      " 3   PURCHASES                         8950 non-null   float64\n",
      " 4   ONEOFF_PURCHASES                  8950 non-null   float64\n",
      " 5   INSTALLMENTS_PURCHASES            8950 non-null   float64\n",
      " 6   CASH_ADVANCE                      8950 non-null   float64\n",
      " 7   PURCHASES_FREQUENCY               8950 non-null   float64\n",
      " 8   ONEOFF_PURCHASES_FREQUENCY        8950 non-null   float64\n",
      " 9   PURCHASES_INSTALLMENTS_FREQUENCY  8950 non-null   float64\n",
      " 10  CASH_ADVANCE_FREQUENCY            8950 non-null   float64\n",
      " 11  CASH_ADVANCE_TRX                  8950 non-null   int64  \n",
      " 12  PURCHASES_TRX                     8950 non-null   int64  \n",
      " 13  CREDIT_LIMIT                      8949 non-null   float64\n",
      " 14  PAYMENTS                          8950 non-null   float64\n",
      " 15  MINIMUM_PAYMENTS                  8637 non-null   float64\n",
      " 16  PRC_FULL_PAYMENT                  8950 non-null   float64\n",
      " 17  TENURE                            8950 non-null   int64  \n",
      "dtypes: float64(14), int64(3), object(1)\n",
      "memory usage: 1.2+ MB\n"
     ]
    }
   ],
   "source": [
    "cc_holders.info()"
   ]
  },
  {
   "cell_type": "markdown",
   "metadata": {
    "id": "hJot7lNMMtyq"
   },
   "source": [
    "2.5 Gather statistical measures about each column"
   ]
  },
  {
   "cell_type": "code",
   "execution_count": 13,
   "metadata": {
    "ExecuteTime": {
     "end_time": "2022-03-24T03:58:08.833352Z",
     "start_time": "2022-03-24T03:58:08.757839Z"
    },
    "colab": {
     "base_uri": "https://localhost:8080/",
     "height": 317
    },
    "id": "uuN12WY4BIhI",
    "outputId": "230fc5d2-4373-4db3-b4e7-365ba1b76ad4"
   },
   "outputs": [
    {
     "data": {
      "text/html": [
       "<style type=\"text/css\">\n",
       "#T_20161_row0_col0 {\n",
       "  background-color: #381145;\n",
       "  color: #f1f1f1;\n",
       "}\n",
       "#T_20161_row0_col1, #T_20161_row0_col6, #T_20161_row0_col7, #T_20161_row0_col8, #T_20161_row0_col9, #T_20161_row0_col10, #T_20161_row0_col11, #T_20161_row0_col15, #T_20161_row0_col16, #T_20161_row1_col1, #T_20161_row1_col6, #T_20161_row1_col7, #T_20161_row1_col8, #T_20161_row1_col9, #T_20161_row1_col10, #T_20161_row1_col11, #T_20161_row1_col15, #T_20161_row1_col16, #T_20161_row2_col1, #T_20161_row2_col6, #T_20161_row2_col7, #T_20161_row2_col8, #T_20161_row2_col9, #T_20161_row2_col10, #T_20161_row2_col15, #T_20161_row2_col16, #T_20161_row3_col0, #T_20161_row3_col1, #T_20161_row3_col2, #T_20161_row3_col3, #T_20161_row3_col4, #T_20161_row3_col5, #T_20161_row3_col6, #T_20161_row3_col7, #T_20161_row3_col8, #T_20161_row3_col9, #T_20161_row3_col10, #T_20161_row3_col11, #T_20161_row3_col12, #T_20161_row3_col13, #T_20161_row3_col14, #T_20161_row3_col15, #T_20161_row3_col16, #T_20161_row4_col1, #T_20161_row4_col2, #T_20161_row4_col3, #T_20161_row4_col4, #T_20161_row4_col5, #T_20161_row4_col6, #T_20161_row4_col7, #T_20161_row4_col8, #T_20161_row4_col9, #T_20161_row4_col10, #T_20161_row4_col11, #T_20161_row4_col15, #T_20161_row4_col16, #T_20161_row5_col1, #T_20161_row5_col3, #T_20161_row5_col5, #T_20161_row5_col6, #T_20161_row5_col7, #T_20161_row5_col8, #T_20161_row5_col9, #T_20161_row5_col10, #T_20161_row5_col11, #T_20161_row5_col15, #T_20161_row5_col16, #T_20161_row6_col1, #T_20161_row6_col6, #T_20161_row6_col7, #T_20161_row6_col8, #T_20161_row6_col9, #T_20161_row6_col10, #T_20161_row6_col11, #T_20161_row6_col15, #T_20161_row6_col16, #T_20161_row7_col0, #T_20161_row7_col1, #T_20161_row7_col2, #T_20161_row7_col3, #T_20161_row7_col4, #T_20161_row7_col5, #T_20161_row7_col6, #T_20161_row7_col7, #T_20161_row7_col8, #T_20161_row7_col9, #T_20161_row7_col12, #T_20161_row7_col13, #T_20161_row7_col14, #T_20161_row7_col15, #T_20161_row7_col16 {\n",
       "  background-color: #e2d9e2;\n",
       "  color: #000000;\n",
       "}\n",
       "#T_20161_row0_col2 {\n",
       "  background-color: #7499c1;\n",
       "  color: #f1f1f1;\n",
       "}\n",
       "#T_20161_row0_col3 {\n",
       "  background-color: #6887be;\n",
       "  color: #f1f1f1;\n",
       "}\n",
       "#T_20161_row0_col4 {\n",
       "  background-color: #551f7f;\n",
       "  color: #f1f1f1;\n",
       "}\n",
       "#T_20161_row0_col5 {\n",
       "  background-color: #7196c1;\n",
       "  color: #f1f1f1;\n",
       "}\n",
       "#T_20161_row0_col12 {\n",
       "  background-color: #5f5ab1;\n",
       "  color: #f1f1f1;\n",
       "}\n",
       "#T_20161_row0_col13 {\n",
       "  background-color: #779dc2;\n",
       "  color: #f1f1f1;\n",
       "}\n",
       "#T_20161_row0_col14 {\n",
       "  background-color: #9dbac8;\n",
       "  color: #000000;\n",
       "}\n",
       "#T_20161_row1_col0 {\n",
       "  background-color: #b5c7cf;\n",
       "  color: #000000;\n",
       "}\n",
       "#T_20161_row1_col2, #T_20161_row1_col5, #T_20161_row6_col4 {\n",
       "  background-color: #dcd9df;\n",
       "  color: #000000;\n",
       "}\n",
       "#T_20161_row1_col3, #T_20161_row6_col3, #T_20161_row7_col10 {\n",
       "  background-color: #ded9e1;\n",
       "  color: #000000;\n",
       "}\n",
       "#T_20161_row1_col4 {\n",
       "  background-color: #dcd9e0;\n",
       "  color: #000000;\n",
       "}\n",
       "#T_20161_row1_col12 {\n",
       "  background-color: #86aac4;\n",
       "  color: #f1f1f1;\n",
       "}\n",
       "#T_20161_row1_col13 {\n",
       "  background-color: #d5d6dc;\n",
       "  color: #000000;\n",
       "}\n",
       "#T_20161_row1_col14, #T_20161_row6_col14 {\n",
       "  background-color: #dfd9e1;\n",
       "  color: #000000;\n",
       "}\n",
       "#T_20161_row2_col0, #T_20161_row6_col0 {\n",
       "  background-color: #a0bcc9;\n",
       "  color: #000000;\n",
       "}\n",
       "#T_20161_row2_col2, #T_20161_row2_col5 {\n",
       "  background-color: #d0d4d9;\n",
       "  color: #000000;\n",
       "}\n",
       "#T_20161_row2_col3, #T_20161_row2_col4, #T_20161_row7_col11 {\n",
       "  background-color: #d2d5db;\n",
       "  color: #000000;\n",
       "}\n",
       "#T_20161_row2_col11, #T_20161_row4_col14, #T_20161_row5_col4, #T_20161_row5_col14 {\n",
       "  background-color: #e1d9e2;\n",
       "  color: #000000;\n",
       "}\n",
       "#T_20161_row2_col12 {\n",
       "  background-color: #97b7c7;\n",
       "  color: #000000;\n",
       "}\n",
       "#T_20161_row2_col13 {\n",
       "  background-color: #c7d0d5;\n",
       "  color: #000000;\n",
       "}\n",
       "#T_20161_row2_col14 {\n",
       "  background-color: #d7d7dd;\n",
       "  color: #000000;\n",
       "}\n",
       "#T_20161_row4_col0, #T_20161_row4_col13, #T_20161_row5_col2 {\n",
       "  background-color: #e0d9e2;\n",
       "  color: #000000;\n",
       "}\n",
       "#T_20161_row4_col12 {\n",
       "  background-color: #cbd2d7;\n",
       "  color: #000000;\n",
       "}\n",
       "#T_20161_row5_col0 {\n",
       "  background-color: #ced3d9;\n",
       "  color: #000000;\n",
       "}\n",
       "#T_20161_row5_col12 {\n",
       "  background-color: #a7c0cb;\n",
       "  color: #000000;\n",
       "}\n",
       "#T_20161_row5_col13 {\n",
       "  background-color: #ddd9e0;\n",
       "  color: #000000;\n",
       "}\n",
       "#T_20161_row6_col2 {\n",
       "  background-color: #dbd8df;\n",
       "  color: #000000;\n",
       "}\n",
       "#T_20161_row6_col5 {\n",
       "  background-color: #dad8df;\n",
       "  color: #000000;\n",
       "}\n",
       "#T_20161_row6_col12 {\n",
       "  background-color: #6989be;\n",
       "  color: #f1f1f1;\n",
       "}\n",
       "#T_20161_row6_col13 {\n",
       "  background-color: #d3d6db;\n",
       "  color: #000000;\n",
       "}\n",
       "</style>\n",
       "<table id=\"T_20161\">\n",
       "  <thead>\n",
       "    <tr>\n",
       "      <th class=\"blank level0\" >&nbsp;</th>\n",
       "      <th id=\"T_20161_level0_col0\" class=\"col_heading level0 col0\" >BALANCE</th>\n",
       "      <th id=\"T_20161_level0_col1\" class=\"col_heading level0 col1\" >BALANCE_FREQUENCY</th>\n",
       "      <th id=\"T_20161_level0_col2\" class=\"col_heading level0 col2\" >PURCHASES</th>\n",
       "      <th id=\"T_20161_level0_col3\" class=\"col_heading level0 col3\" >ONEOFF_PURCHASES</th>\n",
       "      <th id=\"T_20161_level0_col4\" class=\"col_heading level0 col4\" >INSTALLMENTS_PURCHASES</th>\n",
       "      <th id=\"T_20161_level0_col5\" class=\"col_heading level0 col5\" >CASH_ADVANCE</th>\n",
       "      <th id=\"T_20161_level0_col6\" class=\"col_heading level0 col6\" >PURCHASES_FREQUENCY</th>\n",
       "      <th id=\"T_20161_level0_col7\" class=\"col_heading level0 col7\" >ONEOFF_PURCHASES_FREQUENCY</th>\n",
       "      <th id=\"T_20161_level0_col8\" class=\"col_heading level0 col8\" >PURCHASES_INSTALLMENTS_FREQUENCY</th>\n",
       "      <th id=\"T_20161_level0_col9\" class=\"col_heading level0 col9\" >CASH_ADVANCE_FREQUENCY</th>\n",
       "      <th id=\"T_20161_level0_col10\" class=\"col_heading level0 col10\" >CASH_ADVANCE_TRX</th>\n",
       "      <th id=\"T_20161_level0_col11\" class=\"col_heading level0 col11\" >PURCHASES_TRX</th>\n",
       "      <th id=\"T_20161_level0_col12\" class=\"col_heading level0 col12\" >CREDIT_LIMIT</th>\n",
       "      <th id=\"T_20161_level0_col13\" class=\"col_heading level0 col13\" >PAYMENTS</th>\n",
       "      <th id=\"T_20161_level0_col14\" class=\"col_heading level0 col14\" >MINIMUM_PAYMENTS</th>\n",
       "      <th id=\"T_20161_level0_col15\" class=\"col_heading level0 col15\" >PRC_FULL_PAYMENT</th>\n",
       "      <th id=\"T_20161_level0_col16\" class=\"col_heading level0 col16\" >TENURE</th>\n",
       "    </tr>\n",
       "  </thead>\n",
       "  <tbody>\n",
       "    <tr>\n",
       "      <th id=\"T_20161_level0_row0\" class=\"row_heading level0 row0\" >count</th>\n",
       "      <td id=\"T_20161_row0_col0\" class=\"data row0 col0\" >8950.000000</td>\n",
       "      <td id=\"T_20161_row0_col1\" class=\"data row0 col1\" >8950.000000</td>\n",
       "      <td id=\"T_20161_row0_col2\" class=\"data row0 col2\" >8950.000000</td>\n",
       "      <td id=\"T_20161_row0_col3\" class=\"data row0 col3\" >8950.000000</td>\n",
       "      <td id=\"T_20161_row0_col4\" class=\"data row0 col4\" >8950.000000</td>\n",
       "      <td id=\"T_20161_row0_col5\" class=\"data row0 col5\" >8950.000000</td>\n",
       "      <td id=\"T_20161_row0_col6\" class=\"data row0 col6\" >8950.000000</td>\n",
       "      <td id=\"T_20161_row0_col7\" class=\"data row0 col7\" >8950.000000</td>\n",
       "      <td id=\"T_20161_row0_col8\" class=\"data row0 col8\" >8950.000000</td>\n",
       "      <td id=\"T_20161_row0_col9\" class=\"data row0 col9\" >8950.000000</td>\n",
       "      <td id=\"T_20161_row0_col10\" class=\"data row0 col10\" >8950.000000</td>\n",
       "      <td id=\"T_20161_row0_col11\" class=\"data row0 col11\" >8950.000000</td>\n",
       "      <td id=\"T_20161_row0_col12\" class=\"data row0 col12\" >8949.000000</td>\n",
       "      <td id=\"T_20161_row0_col13\" class=\"data row0 col13\" >8950.000000</td>\n",
       "      <td id=\"T_20161_row0_col14\" class=\"data row0 col14\" >8637.000000</td>\n",
       "      <td id=\"T_20161_row0_col15\" class=\"data row0 col15\" >8950.000000</td>\n",
       "      <td id=\"T_20161_row0_col16\" class=\"data row0 col16\" >8950.000000</td>\n",
       "    </tr>\n",
       "    <tr>\n",
       "      <th id=\"T_20161_level0_row1\" class=\"row_heading level0 row1\" >mean</th>\n",
       "      <td id=\"T_20161_row1_col0\" class=\"data row1 col0\" >1564.474828</td>\n",
       "      <td id=\"T_20161_row1_col1\" class=\"data row1 col1\" >0.877271</td>\n",
       "      <td id=\"T_20161_row1_col2\" class=\"data row1 col2\" >1003.204834</td>\n",
       "      <td id=\"T_20161_row1_col3\" class=\"data row1 col3\" >592.437371</td>\n",
       "      <td id=\"T_20161_row1_col4\" class=\"data row1 col4\" >411.067645</td>\n",
       "      <td id=\"T_20161_row1_col5\" class=\"data row1 col5\" >978.871112</td>\n",
       "      <td id=\"T_20161_row1_col6\" class=\"data row1 col6\" >0.490351</td>\n",
       "      <td id=\"T_20161_row1_col7\" class=\"data row1 col7\" >0.202458</td>\n",
       "      <td id=\"T_20161_row1_col8\" class=\"data row1 col8\" >0.364437</td>\n",
       "      <td id=\"T_20161_row1_col9\" class=\"data row1 col9\" >0.135144</td>\n",
       "      <td id=\"T_20161_row1_col10\" class=\"data row1 col10\" >3.248827</td>\n",
       "      <td id=\"T_20161_row1_col11\" class=\"data row1 col11\" >14.709832</td>\n",
       "      <td id=\"T_20161_row1_col12\" class=\"data row1 col12\" >4494.449450</td>\n",
       "      <td id=\"T_20161_row1_col13\" class=\"data row1 col13\" >1733.143852</td>\n",
       "      <td id=\"T_20161_row1_col14\" class=\"data row1 col14\" >864.206542</td>\n",
       "      <td id=\"T_20161_row1_col15\" class=\"data row1 col15\" >0.153715</td>\n",
       "      <td id=\"T_20161_row1_col16\" class=\"data row1 col16\" >11.517318</td>\n",
       "    </tr>\n",
       "    <tr>\n",
       "      <th id=\"T_20161_level0_row2\" class=\"row_heading level0 row2\" >std</th>\n",
       "      <td id=\"T_20161_row2_col0\" class=\"data row2 col0\" >2081.531879</td>\n",
       "      <td id=\"T_20161_row2_col1\" class=\"data row2 col1\" >0.236904</td>\n",
       "      <td id=\"T_20161_row2_col2\" class=\"data row2 col2\" >2136.634782</td>\n",
       "      <td id=\"T_20161_row2_col3\" class=\"data row2 col3\" >1659.887917</td>\n",
       "      <td id=\"T_20161_row2_col4\" class=\"data row2 col4\" >904.338115</td>\n",
       "      <td id=\"T_20161_row2_col5\" class=\"data row2 col5\" >2097.163877</td>\n",
       "      <td id=\"T_20161_row2_col6\" class=\"data row2 col6\" >0.401371</td>\n",
       "      <td id=\"T_20161_row2_col7\" class=\"data row2 col7\" >0.298336</td>\n",
       "      <td id=\"T_20161_row2_col8\" class=\"data row2 col8\" >0.397448</td>\n",
       "      <td id=\"T_20161_row2_col9\" class=\"data row2 col9\" >0.200121</td>\n",
       "      <td id=\"T_20161_row2_col10\" class=\"data row2 col10\" >6.824647</td>\n",
       "      <td id=\"T_20161_row2_col11\" class=\"data row2 col11\" >24.857649</td>\n",
       "      <td id=\"T_20161_row2_col12\" class=\"data row2 col12\" >3638.815725</td>\n",
       "      <td id=\"T_20161_row2_col13\" class=\"data row2 col13\" >2895.063757</td>\n",
       "      <td id=\"T_20161_row2_col14\" class=\"data row2 col14\" >2372.446607</td>\n",
       "      <td id=\"T_20161_row2_col15\" class=\"data row2 col15\" >0.292499</td>\n",
       "      <td id=\"T_20161_row2_col16\" class=\"data row2 col16\" >1.338331</td>\n",
       "    </tr>\n",
       "    <tr>\n",
       "      <th id=\"T_20161_level0_row3\" class=\"row_heading level0 row3\" >min</th>\n",
       "      <td id=\"T_20161_row3_col0\" class=\"data row3 col0\" >0.000000</td>\n",
       "      <td id=\"T_20161_row3_col1\" class=\"data row3 col1\" >0.000000</td>\n",
       "      <td id=\"T_20161_row3_col2\" class=\"data row3 col2\" >0.000000</td>\n",
       "      <td id=\"T_20161_row3_col3\" class=\"data row3 col3\" >0.000000</td>\n",
       "      <td id=\"T_20161_row3_col4\" class=\"data row3 col4\" >0.000000</td>\n",
       "      <td id=\"T_20161_row3_col5\" class=\"data row3 col5\" >0.000000</td>\n",
       "      <td id=\"T_20161_row3_col6\" class=\"data row3 col6\" >0.000000</td>\n",
       "      <td id=\"T_20161_row3_col7\" class=\"data row3 col7\" >0.000000</td>\n",
       "      <td id=\"T_20161_row3_col8\" class=\"data row3 col8\" >0.000000</td>\n",
       "      <td id=\"T_20161_row3_col9\" class=\"data row3 col9\" >0.000000</td>\n",
       "      <td id=\"T_20161_row3_col10\" class=\"data row3 col10\" >0.000000</td>\n",
       "      <td id=\"T_20161_row3_col11\" class=\"data row3 col11\" >0.000000</td>\n",
       "      <td id=\"T_20161_row3_col12\" class=\"data row3 col12\" >50.000000</td>\n",
       "      <td id=\"T_20161_row3_col13\" class=\"data row3 col13\" >0.000000</td>\n",
       "      <td id=\"T_20161_row3_col14\" class=\"data row3 col14\" >0.019163</td>\n",
       "      <td id=\"T_20161_row3_col15\" class=\"data row3 col15\" >0.000000</td>\n",
       "      <td id=\"T_20161_row3_col16\" class=\"data row3 col16\" >6.000000</td>\n",
       "    </tr>\n",
       "    <tr>\n",
       "      <th id=\"T_20161_level0_row4\" class=\"row_heading level0 row4\" >25%</th>\n",
       "      <td id=\"T_20161_row4_col0\" class=\"data row4 col0\" >128.281915</td>\n",
       "      <td id=\"T_20161_row4_col1\" class=\"data row4 col1\" >0.888889</td>\n",
       "      <td id=\"T_20161_row4_col2\" class=\"data row4 col2\" >39.635000</td>\n",
       "      <td id=\"T_20161_row4_col3\" class=\"data row4 col3\" >0.000000</td>\n",
       "      <td id=\"T_20161_row4_col4\" class=\"data row4 col4\" >0.000000</td>\n",
       "      <td id=\"T_20161_row4_col5\" class=\"data row4 col5\" >0.000000</td>\n",
       "      <td id=\"T_20161_row4_col6\" class=\"data row4 col6\" >0.083333</td>\n",
       "      <td id=\"T_20161_row4_col7\" class=\"data row4 col7\" >0.000000</td>\n",
       "      <td id=\"T_20161_row4_col8\" class=\"data row4 col8\" >0.000000</td>\n",
       "      <td id=\"T_20161_row4_col9\" class=\"data row4 col9\" >0.000000</td>\n",
       "      <td id=\"T_20161_row4_col10\" class=\"data row4 col10\" >0.000000</td>\n",
       "      <td id=\"T_20161_row4_col11\" class=\"data row4 col11\" >1.000000</td>\n",
       "      <td id=\"T_20161_row4_col12\" class=\"data row4 col12\" >1600.000000</td>\n",
       "      <td id=\"T_20161_row4_col13\" class=\"data row4 col13\" >383.276166</td>\n",
       "      <td id=\"T_20161_row4_col14\" class=\"data row4 col14\" >169.123707</td>\n",
       "      <td id=\"T_20161_row4_col15\" class=\"data row4 col15\" >0.000000</td>\n",
       "      <td id=\"T_20161_row4_col16\" class=\"data row4 col16\" >12.000000</td>\n",
       "    </tr>\n",
       "    <tr>\n",
       "      <th id=\"T_20161_level0_row5\" class=\"row_heading level0 row5\" >50%</th>\n",
       "      <td id=\"T_20161_row5_col0\" class=\"data row5 col0\" >873.385231</td>\n",
       "      <td id=\"T_20161_row5_col1\" class=\"data row5 col1\" >1.000000</td>\n",
       "      <td id=\"T_20161_row5_col2\" class=\"data row5 col2\" >361.280000</td>\n",
       "      <td id=\"T_20161_row5_col3\" class=\"data row5 col3\" >38.000000</td>\n",
       "      <td id=\"T_20161_row5_col4\" class=\"data row5 col4\" >89.000000</td>\n",
       "      <td id=\"T_20161_row5_col5\" class=\"data row5 col5\" >0.000000</td>\n",
       "      <td id=\"T_20161_row5_col6\" class=\"data row5 col6\" >0.500000</td>\n",
       "      <td id=\"T_20161_row5_col7\" class=\"data row5 col7\" >0.083333</td>\n",
       "      <td id=\"T_20161_row5_col8\" class=\"data row5 col8\" >0.166667</td>\n",
       "      <td id=\"T_20161_row5_col9\" class=\"data row5 col9\" >0.000000</td>\n",
       "      <td id=\"T_20161_row5_col10\" class=\"data row5 col10\" >0.000000</td>\n",
       "      <td id=\"T_20161_row5_col11\" class=\"data row5 col11\" >7.000000</td>\n",
       "      <td id=\"T_20161_row5_col12\" class=\"data row5 col12\" >3000.000000</td>\n",
       "      <td id=\"T_20161_row5_col13\" class=\"data row5 col13\" >856.901546</td>\n",
       "      <td id=\"T_20161_row5_col14\" class=\"data row5 col14\" >312.343947</td>\n",
       "      <td id=\"T_20161_row5_col15\" class=\"data row5 col15\" >0.000000</td>\n",
       "      <td id=\"T_20161_row5_col16\" class=\"data row5 col16\" >12.000000</td>\n",
       "    </tr>\n",
       "    <tr>\n",
       "      <th id=\"T_20161_level0_row6\" class=\"row_heading level0 row6\" >75%</th>\n",
       "      <td id=\"T_20161_row6_col0\" class=\"data row6 col0\" >2054.140036</td>\n",
       "      <td id=\"T_20161_row6_col1\" class=\"data row6 col1\" >1.000000</td>\n",
       "      <td id=\"T_20161_row6_col2\" class=\"data row6 col2\" >1110.130000</td>\n",
       "      <td id=\"T_20161_row6_col3\" class=\"data row6 col3\" >577.405000</td>\n",
       "      <td id=\"T_20161_row6_col4\" class=\"data row6 col4\" >468.637500</td>\n",
       "      <td id=\"T_20161_row6_col5\" class=\"data row6 col5\" >1113.821139</td>\n",
       "      <td id=\"T_20161_row6_col6\" class=\"data row6 col6\" >0.916667</td>\n",
       "      <td id=\"T_20161_row6_col7\" class=\"data row6 col7\" >0.300000</td>\n",
       "      <td id=\"T_20161_row6_col8\" class=\"data row6 col8\" >0.750000</td>\n",
       "      <td id=\"T_20161_row6_col9\" class=\"data row6 col9\" >0.222222</td>\n",
       "      <td id=\"T_20161_row6_col10\" class=\"data row6 col10\" >4.000000</td>\n",
       "      <td id=\"T_20161_row6_col11\" class=\"data row6 col11\" >17.000000</td>\n",
       "      <td id=\"T_20161_row6_col12\" class=\"data row6 col12\" >6500.000000</td>\n",
       "      <td id=\"T_20161_row6_col13\" class=\"data row6 col13\" >1901.134317</td>\n",
       "      <td id=\"T_20161_row6_col14\" class=\"data row6 col14\" >825.485459</td>\n",
       "      <td id=\"T_20161_row6_col15\" class=\"data row6 col15\" >0.142857</td>\n",
       "      <td id=\"T_20161_row6_col16\" class=\"data row6 col16\" >12.000000</td>\n",
       "    </tr>\n",
       "    <tr>\n",
       "      <th id=\"T_20161_level0_row7\" class=\"row_heading level0 row7\" >max</th>\n",
       "      <td id=\"T_20161_row7_col0\" class=\"data row7 col0\" >19043.138560</td>\n",
       "      <td id=\"T_20161_row7_col1\" class=\"data row7 col1\" >1.000000</td>\n",
       "      <td id=\"T_20161_row7_col2\" class=\"data row7 col2\" >49039.570000</td>\n",
       "      <td id=\"T_20161_row7_col3\" class=\"data row7 col3\" >40761.250000</td>\n",
       "      <td id=\"T_20161_row7_col4\" class=\"data row7 col4\" >22500.000000</td>\n",
       "      <td id=\"T_20161_row7_col5\" class=\"data row7 col5\" >47137.211760</td>\n",
       "      <td id=\"T_20161_row7_col6\" class=\"data row7 col6\" >1.000000</td>\n",
       "      <td id=\"T_20161_row7_col7\" class=\"data row7 col7\" >1.000000</td>\n",
       "      <td id=\"T_20161_row7_col8\" class=\"data row7 col8\" >1.000000</td>\n",
       "      <td id=\"T_20161_row7_col9\" class=\"data row7 col9\" >1.500000</td>\n",
       "      <td id=\"T_20161_row7_col10\" class=\"data row7 col10\" >123.000000</td>\n",
       "      <td id=\"T_20161_row7_col11\" class=\"data row7 col11\" >358.000000</td>\n",
       "      <td id=\"T_20161_row7_col12\" class=\"data row7 col12\" >30000.000000</td>\n",
       "      <td id=\"T_20161_row7_col13\" class=\"data row7 col13\" >50721.483360</td>\n",
       "      <td id=\"T_20161_row7_col14\" class=\"data row7 col14\" >76406.207520</td>\n",
       "      <td id=\"T_20161_row7_col15\" class=\"data row7 col15\" >1.000000</td>\n",
       "      <td id=\"T_20161_row7_col16\" class=\"data row7 col16\" >12.000000</td>\n",
       "    </tr>\n",
       "  </tbody>\n",
       "</table>\n"
      ],
      "text/plain": [
       "<pandas.io.formats.style.Styler at 0x1f9f3352250>"
      ]
     },
     "execution_count": 13,
     "metadata": {},
     "output_type": "execute_result"
    }
   ],
   "source": [
    "cc_holders.describe().style.background_gradient(cmap = 'twilight')"
   ]
  },
  {
   "cell_type": "markdown",
   "metadata": {
    "id": "sNiXz-BzMxPw"
   },
   "source": [
    "2.6 Examine the correlation value for each column with each other column"
   ]
  },
  {
   "cell_type": "code",
   "execution_count": 14,
   "metadata": {
    "ExecuteTime": {
     "end_time": "2022-03-24T03:58:08.864358Z",
     "start_time": "2022-03-24T03:58:08.834852Z"
    },
    "colab": {
     "base_uri": "https://localhost:8080/",
     "height": 596
    },
    "id": "1UJSUwNtBTtr",
    "outputId": "4171502a-f17f-42d4-c202-8e564b57552d"
   },
   "outputs": [
    {
     "data": {
      "text/html": [
       "<style type=\"text/css\">\n",
       "#T_4f0eb_row0_col0, #T_4f0eb_row1_col1, #T_4f0eb_row2_col2, #T_4f0eb_row3_col3, #T_4f0eb_row4_col4, #T_4f0eb_row5_col5, #T_4f0eb_row6_col6, #T_4f0eb_row7_col7, #T_4f0eb_row8_col8, #T_4f0eb_row9_col9, #T_4f0eb_row10_col10, #T_4f0eb_row11_col11, #T_4f0eb_row12_col12, #T_4f0eb_row13_col13, #T_4f0eb_row14_col14, #T_4f0eb_row15_col15, #T_4f0eb_row16_col16 {\n",
       "  background-color: #006837;\n",
       "  color: #f1f1f1;\n",
       "}\n",
       "#T_4f0eb_row0_col1, #T_4f0eb_row1_col9, #T_4f0eb_row2_col0, #T_4f0eb_row4_col3, #T_4f0eb_row4_col15, #T_4f0eb_row12_col13, #T_4f0eb_row13_col10 {\n",
       "  background-color: #fed683;\n",
       "  color: #000000;\n",
       "}\n",
       "#T_4f0eb_row0_col2, #T_4f0eb_row15_col2, #T_4f0eb_row16_col8 {\n",
       "  background-color: #fa9857;\n",
       "  color: #000000;\n",
       "}\n",
       "#T_4f0eb_row0_col3, #T_4f0eb_row0_col4, #T_4f0eb_row1_col2, #T_4f0eb_row1_col4, #T_4f0eb_row8_col7, #T_4f0eb_row11_col12, #T_4f0eb_row16_col15 {\n",
       "  background-color: #f67f4b;\n",
       "  color: #f1f1f1;\n",
       "}\n",
       "#T_4f0eb_row0_col5, #T_4f0eb_row8_col11, #T_4f0eb_row9_col0 {\n",
       "  background-color: #dff293;\n",
       "  color: #000000;\n",
       "}\n",
       "#T_4f0eb_row0_col6, #T_4f0eb_row5_col1 {\n",
       "  background-color: #ed5f3c;\n",
       "  color: #f1f1f1;\n",
       "}\n",
       "#T_4f0eb_row0_col7, #T_4f0eb_row3_col14 {\n",
       "  background-color: #ea5739;\n",
       "  color: #f1f1f1;\n",
       "}\n",
       "#T_4f0eb_row0_col8 {\n",
       "  background-color: #e75337;\n",
       "  color: #f1f1f1;\n",
       "}\n",
       "#T_4f0eb_row0_col9, #T_4f0eb_row11_col3 {\n",
       "  background-color: #e0f295;\n",
       "  color: #000000;\n",
       "}\n",
       "#T_4f0eb_row0_col10 {\n",
       "  background-color: #fffcba;\n",
       "  color: #000000;\n",
       "}\n",
       "#T_4f0eb_row0_col11, #T_4f0eb_row7_col12 {\n",
       "  background-color: #f98e52;\n",
       "  color: #f1f1f1;\n",
       "}\n",
       "#T_4f0eb_row0_col12 {\n",
       "  background-color: #feffbe;\n",
       "  color: #000000;\n",
       "}\n",
       "#T_4f0eb_row0_col13, #T_4f0eb_row13_col8 {\n",
       "  background-color: #fb9d59;\n",
       "  color: #000000;\n",
       "}\n",
       "#T_4f0eb_row0_col14, #T_4f0eb_row6_col15 {\n",
       "  background-color: #fff7b2;\n",
       "  color: #000000;\n",
       "}\n",
       "#T_4f0eb_row0_col15, #T_4f0eb_row1_col13, #T_4f0eb_row6_col5, #T_4f0eb_row6_col9, #T_4f0eb_row6_col10, #T_4f0eb_row9_col2, #T_4f0eb_row9_col3, #T_4f0eb_row9_col4, #T_4f0eb_row9_col6, #T_4f0eb_row9_col7, #T_4f0eb_row9_col8, #T_4f0eb_row9_col11, #T_4f0eb_row9_col16, #T_4f0eb_row15_col0, #T_4f0eb_row15_col1, #T_4f0eb_row15_col12, #T_4f0eb_row15_col14 {\n",
       "  background-color: #a50026;\n",
       "  color: #f1f1f1;\n",
       "}\n",
       "#T_4f0eb_row0_col16, #T_4f0eb_row3_col1, #T_4f0eb_row6_col0, #T_4f0eb_row8_col16 {\n",
       "  background-color: #ee613e;\n",
       "  color: #f1f1f1;\n",
       "}\n",
       "#T_4f0eb_row1_col0, #T_4f0eb_row13_col0 {\n",
       "  background-color: #fffbb8;\n",
       "  color: #000000;\n",
       "}\n",
       "#T_4f0eb_row1_col3, #T_4f0eb_row3_col9, #T_4f0eb_row3_col16, #T_4f0eb_row6_col16, #T_4f0eb_row12_col1, #T_4f0eb_row16_col7, #T_4f0eb_row16_col14 {\n",
       "  background-color: #ec5c3b;\n",
       "  color: #f1f1f1;\n",
       "}\n",
       "#T_4f0eb_row1_col5, #T_4f0eb_row11_col1, #T_4f0eb_row14_col10, #T_4f0eb_row15_col11 {\n",
       "  background-color: #f99355;\n",
       "  color: #000000;\n",
       "}\n",
       "#T_4f0eb_row1_col6 {\n",
       "  background-color: #fee491;\n",
       "  color: #000000;\n",
       "}\n",
       "#T_4f0eb_row1_col7, #T_4f0eb_row1_col11, #T_4f0eb_row12_col15, #T_4f0eb_row16_col6 {\n",
       "  background-color: #fba35c;\n",
       "  color: #000000;\n",
       "}\n",
       "#T_4f0eb_row1_col8 {\n",
       "  background-color: #fdc574;\n",
       "  color: #000000;\n",
       "}\n",
       "#T_4f0eb_row1_col10 {\n",
       "  background-color: #fca55d;\n",
       "  color: #000000;\n",
       "}\n",
       "#T_4f0eb_row1_col12, #T_4f0eb_row6_col13 {\n",
       "  background-color: #b91326;\n",
       "  color: #f1f1f1;\n",
       "}\n",
       "#T_4f0eb_row1_col14, #T_4f0eb_row4_col14, #T_4f0eb_row12_col16 {\n",
       "  background-color: #f8864f;\n",
       "  color: #f1f1f1;\n",
       "}\n",
       "#T_4f0eb_row1_col15, #T_4f0eb_row14_col16 {\n",
       "  background-color: #eb5a3a;\n",
       "  color: #f1f1f1;\n",
       "}\n",
       "#T_4f0eb_row1_col16, #T_4f0eb_row11_col16, #T_4f0eb_row16_col11 {\n",
       "  background-color: #f67c4a;\n",
       "  color: #f1f1f1;\n",
       "}\n",
       "#T_4f0eb_row2_col1, #T_4f0eb_row9_col14, #T_4f0eb_row11_col14, #T_4f0eb_row14_col1 {\n",
       "  background-color: #f57245;\n",
       "  color: #f1f1f1;\n",
       "}\n",
       "#T_4f0eb_row2_col3, #T_4f0eb_row3_col2 {\n",
       "  background-color: #138c4a;\n",
       "  color: #f1f1f1;\n",
       "}\n",
       "#T_4f0eb_row2_col4, #T_4f0eb_row5_col9, #T_4f0eb_row10_col5 {\n",
       "  background-color: #9bd469;\n",
       "  color: #000000;\n",
       "}\n",
       "#T_4f0eb_row2_col5, #T_4f0eb_row4_col9, #T_4f0eb_row11_col9, #T_4f0eb_row14_col15, #T_4f0eb_row16_col3, #T_4f0eb_row16_col9, #T_4f0eb_row16_col10 {\n",
       "  background-color: #e14430;\n",
       "  color: #f1f1f1;\n",
       "}\n",
       "#T_4f0eb_row2_col6, #T_4f0eb_row3_col13 {\n",
       "  background-color: #f1f9ac;\n",
       "  color: #000000;\n",
       "}\n",
       "#T_4f0eb_row2_col7, #T_4f0eb_row13_col5 {\n",
       "  background-color: #ecf7a6;\n",
       "  color: #000000;\n",
       "}\n",
       "#T_4f0eb_row2_col8, #T_4f0eb_row6_col2 {\n",
       "  background-color: #fff2aa;\n",
       "  color: #000000;\n",
       "}\n",
       "#T_4f0eb_row2_col9 {\n",
       "  background-color: #e34933;\n",
       "  color: #f1f1f1;\n",
       "}\n",
       "#T_4f0eb_row2_col10, #T_4f0eb_row7_col10, #T_4f0eb_row10_col15 {\n",
       "  background-color: #da362a;\n",
       "  color: #f1f1f1;\n",
       "}\n",
       "#T_4f0eb_row2_col11, #T_4f0eb_row11_col2 {\n",
       "  background-color: #96d268;\n",
       "  color: #000000;\n",
       "}\n",
       "#T_4f0eb_row2_col12, #T_4f0eb_row13_col7 {\n",
       "  background-color: #fdb768;\n",
       "  color: #000000;\n",
       "}\n",
       "#T_4f0eb_row2_col13 {\n",
       "  background-color: #e2f397;\n",
       "  color: #000000;\n",
       "}\n",
       "#T_4f0eb_row2_col14, #T_4f0eb_row10_col13 {\n",
       "  background-color: #f47044;\n",
       "  color: #f1f1f1;\n",
       "}\n",
       "#T_4f0eb_row2_col15, #T_4f0eb_row13_col9 {\n",
       "  background-color: #fed481;\n",
       "  color: #000000;\n",
       "}\n",
       "#T_4f0eb_row2_col16, #T_4f0eb_row4_col16, #T_4f0eb_row8_col0, #T_4f0eb_row8_col3, #T_4f0eb_row16_col4 {\n",
       "  background-color: #f26841;\n",
       "  color: #f1f1f1;\n",
       "}\n",
       "#T_4f0eb_row3_col0, #T_4f0eb_row11_col15, #T_4f0eb_row12_col7 {\n",
       "  background-color: #fece7c;\n",
       "  color: #000000;\n",
       "}\n",
       "#T_4f0eb_row3_col4 {\n",
       "  background-color: #fee28f;\n",
       "  color: #000000;\n",
       "}\n",
       "#T_4f0eb_row3_col5, #T_4f0eb_row7_col9, #T_4f0eb_row8_col14 {\n",
       "  background-color: #e54e35;\n",
       "  color: #f1f1f1;\n",
       "}\n",
       "#T_4f0eb_row3_col6 {\n",
       "  background-color: #feec9f;\n",
       "  color: #000000;\n",
       "}\n",
       "#T_4f0eb_row3_col7, #T_4f0eb_row4_col6 {\n",
       "  background-color: #e3f399;\n",
       "  color: #000000;\n",
       "}\n",
       "#T_4f0eb_row3_col8, #T_4f0eb_row14_col9 {\n",
       "  background-color: #fdb365;\n",
       "  color: #000000;\n",
       "}\n",
       "#T_4f0eb_row3_col10 {\n",
       "  background-color: #e0422f;\n",
       "  color: #f1f1f1;\n",
       "}\n",
       "#T_4f0eb_row3_col11, #T_4f0eb_row13_col3 {\n",
       "  background-color: #d9ef8b;\n",
       "  color: #000000;\n",
       "}\n",
       "#T_4f0eb_row3_col12, #T_4f0eb_row15_col4 {\n",
       "  background-color: #fba05b;\n",
       "  color: #000000;\n",
       "}\n",
       "#T_4f0eb_row3_col15, #T_4f0eb_row4_col13, #T_4f0eb_row12_col4 {\n",
       "  background-color: #fdc372;\n",
       "  color: #000000;\n",
       "}\n",
       "#T_4f0eb_row4_col0, #T_4f0eb_row12_col9 {\n",
       "  background-color: #fdc171;\n",
       "  color: #000000;\n",
       "}\n",
       "#T_4f0eb_row4_col1, #T_4f0eb_row14_col11 {\n",
       "  background-color: #f46d43;\n",
       "  color: #f1f1f1;\n",
       "}\n",
       "#T_4f0eb_row4_col2, #T_4f0eb_row5_col10 {\n",
       "  background-color: #9dd569;\n",
       "  color: #000000;\n",
       "}\n",
       "#T_4f0eb_row4_col5, #T_4f0eb_row14_col3, #T_4f0eb_row16_col5 {\n",
       "  background-color: #dd3d2d;\n",
       "  color: #f1f1f1;\n",
       "}\n",
       "#T_4f0eb_row4_col7, #T_4f0eb_row6_col1, #T_4f0eb_row12_col10 {\n",
       "  background-color: #fcaa5f;\n",
       "  color: #000000;\n",
       "}\n",
       "#T_4f0eb_row4_col8 {\n",
       "  background-color: #d3ec87;\n",
       "  color: #000000;\n",
       "}\n",
       "#T_4f0eb_row4_col10, #T_4f0eb_row7_col5 {\n",
       "  background-color: #d93429;\n",
       "  color: #f1f1f1;\n",
       "}\n",
       "#T_4f0eb_row4_col11, #T_4f0eb_row11_col4, #T_4f0eb_row11_col6 {\n",
       "  background-color: #b5df74;\n",
       "  color: #000000;\n",
       "}\n",
       "#T_4f0eb_row4_col12, #T_4f0eb_row13_col16 {\n",
       "  background-color: #f57547;\n",
       "  color: #f1f1f1;\n",
       "}\n",
       "#T_4f0eb_row5_col0, #T_4f0eb_row6_col11, #T_4f0eb_row7_col6 {\n",
       "  background-color: #cfeb85;\n",
       "  color: #000000;\n",
       "}\n",
       "#T_4f0eb_row5_col2, #T_4f0eb_row5_col4 {\n",
       "  background-color: #c21c27;\n",
       "  color: #f1f1f1;\n",
       "}\n",
       "#T_4f0eb_row5_col3, #T_4f0eb_row5_col11, #T_4f0eb_row10_col2, #T_4f0eb_row15_col13 {\n",
       "  background-color: #bd1726;\n",
       "  color: #f1f1f1;\n",
       "}\n",
       "#T_4f0eb_row5_col6, #T_4f0eb_row14_col7 {\n",
       "  background-color: #c82227;\n",
       "  color: #f1f1f1;\n",
       "}\n",
       "#T_4f0eb_row5_col7, #T_4f0eb_row8_col13 {\n",
       "  background-color: #af0926;\n",
       "  color: #f1f1f1;\n",
       "}\n",
       "#T_4f0eb_row5_col8, #T_4f0eb_row6_col12 {\n",
       "  background-color: #c62027;\n",
       "  color: #f1f1f1;\n",
       "}\n",
       "#T_4f0eb_row5_col12, #T_4f0eb_row9_col1 {\n",
       "  background-color: #fa9656;\n",
       "  color: #000000;\n",
       "}\n",
       "#T_4f0eb_row5_col13 {\n",
       "  background-color: #fee593;\n",
       "  color: #000000;\n",
       "}\n",
       "#T_4f0eb_row5_col14, #T_4f0eb_row15_col7 {\n",
       "  background-color: #f88950;\n",
       "  color: #f1f1f1;\n",
       "}\n",
       "#T_4f0eb_row5_col15, #T_4f0eb_row6_col14, #T_4f0eb_row9_col13 {\n",
       "  background-color: #de402e;\n",
       "  color: #f1f1f1;\n",
       "}\n",
       "#T_4f0eb_row5_col16, #T_4f0eb_row10_col11 {\n",
       "  background-color: #c01a27;\n",
       "  color: #f1f1f1;\n",
       "}\n",
       "#T_4f0eb_row6_col3, #T_4f0eb_row7_col8 {\n",
       "  background-color: #fdb96a;\n",
       "  color: #000000;\n",
       "}\n",
       "#T_4f0eb_row6_col4 {\n",
       "  background-color: #fdfebc;\n",
       "  color: #000000;\n",
       "}\n",
       "#T_4f0eb_row6_col7, #T_4f0eb_row7_col2 {\n",
       "  background-color: #ebf7a3;\n",
       "  color: #000000;\n",
       "}\n",
       "#T_4f0eb_row6_col8 {\n",
       "  background-color: #1e9a51;\n",
       "  color: #f1f1f1;\n",
       "}\n",
       "#T_4f0eb_row7_col0, #T_4f0eb_row16_col0 {\n",
       "  background-color: #fdad60;\n",
       "  color: #000000;\n",
       "}\n",
       "#T_4f0eb_row7_col1 {\n",
       "  background-color: #fa9b58;\n",
       "  color: #000000;\n",
       "}\n",
       "#T_4f0eb_row7_col3 {\n",
       "  background-color: #e8f59f;\n",
       "  color: #000000;\n",
       "}\n",
       "#T_4f0eb_row7_col4 {\n",
       "  background-color: #fdb163;\n",
       "  color: #000000;\n",
       "}\n",
       "#T_4f0eb_row7_col11 {\n",
       "  background-color: #daf08d;\n",
       "  color: #000000;\n",
       "}\n",
       "#T_4f0eb_row7_col13, #T_4f0eb_row7_col16, #T_4f0eb_row14_col2 {\n",
       "  background-color: #f16640;\n",
       "  color: #f1f1f1;\n",
       "}\n",
       "#T_4f0eb_row7_col14 {\n",
       "  background-color: #d42d27;\n",
       "  color: #f1f1f1;\n",
       "}\n",
       "#T_4f0eb_row7_col15 {\n",
       "  background-color: #fecc7b;\n",
       "  color: #000000;\n",
       "}\n",
       "#T_4f0eb_row8_col1 {\n",
       "  background-color: #f88c51;\n",
       "  color: #f1f1f1;\n",
       "}\n",
       "#T_4f0eb_row8_col2, #T_4f0eb_row13_col12 {\n",
       "  background-color: #feda86;\n",
       "  color: #000000;\n",
       "}\n",
       "#T_4f0eb_row8_col4 {\n",
       "  background-color: #e5f49b;\n",
       "  color: #000000;\n",
       "}\n",
       "#T_4f0eb_row8_col5, #T_4f0eb_row8_col9, #T_4f0eb_row10_col3 {\n",
       "  background-color: #b50f26;\n",
       "  color: #f1f1f1;\n",
       "}\n",
       "#T_4f0eb_row8_col6 {\n",
       "  background-color: #1b9950;\n",
       "  color: #f1f1f1;\n",
       "}\n",
       "#T_4f0eb_row8_col10, #T_4f0eb_row15_col10 {\n",
       "  background-color: #b30d26;\n",
       "  color: #f1f1f1;\n",
       "}\n",
       "#T_4f0eb_row8_col12 {\n",
       "  background-color: #a70226;\n",
       "  color: #f1f1f1;\n",
       "}\n",
       "#T_4f0eb_row8_col15 {\n",
       "  background-color: #feea9b;\n",
       "  color: #000000;\n",
       "}\n",
       "#T_4f0eb_row9_col5 {\n",
       "  background-color: #a9da6c;\n",
       "  color: #000000;\n",
       "}\n",
       "#T_4f0eb_row9_col10 {\n",
       "  background-color: #4bb05c;\n",
       "  color: #f1f1f1;\n",
       "}\n",
       "#T_4f0eb_row9_col12, #T_4f0eb_row10_col6, #T_4f0eb_row10_col16 {\n",
       "  background-color: #cc2627;\n",
       "  color: #f1f1f1;\n",
       "}\n",
       "#T_4f0eb_row9_col15, #T_4f0eb_row10_col4, #T_4f0eb_row15_col5 {\n",
       "  background-color: #be1827;\n",
       "  color: #f1f1f1;\n",
       "}\n",
       "#T_4f0eb_row10_col0 {\n",
       "  background-color: #f2faae;\n",
       "  color: #000000;\n",
       "}\n",
       "#T_4f0eb_row10_col1 {\n",
       "  background-color: #f57748;\n",
       "  color: #f1f1f1;\n",
       "}\n",
       "#T_4f0eb_row10_col7 {\n",
       "  background-color: #b71126;\n",
       "  color: #f1f1f1;\n",
       "}\n",
       "#T_4f0eb_row10_col8, #T_4f0eb_row14_col12 {\n",
       "  background-color: #ca2427;\n",
       "  color: #f1f1f1;\n",
       "}\n",
       "#T_4f0eb_row10_col9 {\n",
       "  background-color: #42ac5a;\n",
       "  color: #f1f1f1;\n",
       "}\n",
       "#T_4f0eb_row10_col12 {\n",
       "  background-color: #d62f27;\n",
       "  color: #f1f1f1;\n",
       "}\n",
       "#T_4f0eb_row10_col14 {\n",
       "  background-color: #f67a49;\n",
       "  color: #f1f1f1;\n",
       "}\n",
       "#T_4f0eb_row11_col0, #T_4f0eb_row12_col11 {\n",
       "  background-color: #feca79;\n",
       "  color: #000000;\n",
       "}\n",
       "#T_4f0eb_row11_col5, #T_4f0eb_row11_col10 {\n",
       "  background-color: #db382b;\n",
       "  color: #f1f1f1;\n",
       "}\n",
       "#T_4f0eb_row11_col7 {\n",
       "  background-color: #dcf08f;\n",
       "  color: #000000;\n",
       "}\n",
       "#T_4f0eb_row11_col8 {\n",
       "  background-color: #cbe982;\n",
       "  color: #000000;\n",
       "}\n",
       "#T_4f0eb_row11_col13, #T_4f0eb_row12_col6, #T_4f0eb_row13_col15 {\n",
       "  background-color: #fdbb6c;\n",
       "  color: #000000;\n",
       "}\n",
       "#T_4f0eb_row12_col0, #T_4f0eb_row13_col2 {\n",
       "  background-color: #c1e57b;\n",
       "  color: #000000;\n",
       "}\n",
       "#T_4f0eb_row12_col2, #T_4f0eb_row12_col5 {\n",
       "  background-color: #fee999;\n",
       "  color: #000000;\n",
       "}\n",
       "#T_4f0eb_row12_col3 {\n",
       "  background-color: #fed27f;\n",
       "  color: #000000;\n",
       "}\n",
       "#T_4f0eb_row12_col8 {\n",
       "  background-color: #f99153;\n",
       "  color: #000000;\n",
       "}\n",
       "#T_4f0eb_row12_col14, #T_4f0eb_row13_col14, #T_4f0eb_row14_col4, #T_4f0eb_row14_col8 {\n",
       "  background-color: #f7814c;\n",
       "  color: #f1f1f1;\n",
       "}\n",
       "#T_4f0eb_row13_col1 {\n",
       "  background-color: #e44c34;\n",
       "  color: #f1f1f1;\n",
       "}\n",
       "#T_4f0eb_row13_col4 {\n",
       "  background-color: #fff1a8;\n",
       "  color: #000000;\n",
       "}\n",
       "#T_4f0eb_row13_col6 {\n",
       "  background-color: #fdb567;\n",
       "  color: #000000;\n",
       "}\n",
       "#T_4f0eb_row13_col11 {\n",
       "  background-color: #feeda1;\n",
       "  color: #000000;\n",
       "}\n",
       "#T_4f0eb_row14_col0 {\n",
       "  background-color: #eef8a8;\n",
       "  color: #000000;\n",
       "}\n",
       "#T_4f0eb_row14_col5 {\n",
       "  background-color: #fca85e;\n",
       "  color: #000000;\n",
       "}\n",
       "#T_4f0eb_row14_col6 {\n",
       "  background-color: #f7844e;\n",
       "  color: #f1f1f1;\n",
       "}\n",
       "#T_4f0eb_row14_col13 {\n",
       "  background-color: #c41e27;\n",
       "  color: #f1f1f1;\n",
       "}\n",
       "#T_4f0eb_row15_col3, #T_4f0eb_row16_col1 {\n",
       "  background-color: #f36b42;\n",
       "  color: #f1f1f1;\n",
       "}\n",
       "#T_4f0eb_row15_col6 {\n",
       "  background-color: #fff6b0;\n",
       "  color: #000000;\n",
       "}\n",
       "#T_4f0eb_row15_col8 {\n",
       "  background-color: #fee18d;\n",
       "  color: #000000;\n",
       "}\n",
       "#T_4f0eb_row15_col9, #T_4f0eb_row16_col13 {\n",
       "  background-color: #bb1526;\n",
       "  color: #f1f1f1;\n",
       "}\n",
       "#T_4f0eb_row15_col16 {\n",
       "  background-color: #d83128;\n",
       "  color: #f1f1f1;\n",
       "}\n",
       "#T_4f0eb_row16_col2 {\n",
       "  background-color: #ef633f;\n",
       "  color: #f1f1f1;\n",
       "}\n",
       "#T_4f0eb_row16_col12 {\n",
       "  background-color: #d02927;\n",
       "  color: #f1f1f1;\n",
       "}\n",
       "</style>\n",
       "<table id=\"T_4f0eb\">\n",
       "  <thead>\n",
       "    <tr>\n",
       "      <th class=\"blank level0\" >&nbsp;</th>\n",
       "      <th id=\"T_4f0eb_level0_col0\" class=\"col_heading level0 col0\" >BALANCE</th>\n",
       "      <th id=\"T_4f0eb_level0_col1\" class=\"col_heading level0 col1\" >BALANCE_FREQUENCY</th>\n",
       "      <th id=\"T_4f0eb_level0_col2\" class=\"col_heading level0 col2\" >PURCHASES</th>\n",
       "      <th id=\"T_4f0eb_level0_col3\" class=\"col_heading level0 col3\" >ONEOFF_PURCHASES</th>\n",
       "      <th id=\"T_4f0eb_level0_col4\" class=\"col_heading level0 col4\" >INSTALLMENTS_PURCHASES</th>\n",
       "      <th id=\"T_4f0eb_level0_col5\" class=\"col_heading level0 col5\" >CASH_ADVANCE</th>\n",
       "      <th id=\"T_4f0eb_level0_col6\" class=\"col_heading level0 col6\" >PURCHASES_FREQUENCY</th>\n",
       "      <th id=\"T_4f0eb_level0_col7\" class=\"col_heading level0 col7\" >ONEOFF_PURCHASES_FREQUENCY</th>\n",
       "      <th id=\"T_4f0eb_level0_col8\" class=\"col_heading level0 col8\" >PURCHASES_INSTALLMENTS_FREQUENCY</th>\n",
       "      <th id=\"T_4f0eb_level0_col9\" class=\"col_heading level0 col9\" >CASH_ADVANCE_FREQUENCY</th>\n",
       "      <th id=\"T_4f0eb_level0_col10\" class=\"col_heading level0 col10\" >CASH_ADVANCE_TRX</th>\n",
       "      <th id=\"T_4f0eb_level0_col11\" class=\"col_heading level0 col11\" >PURCHASES_TRX</th>\n",
       "      <th id=\"T_4f0eb_level0_col12\" class=\"col_heading level0 col12\" >CREDIT_LIMIT</th>\n",
       "      <th id=\"T_4f0eb_level0_col13\" class=\"col_heading level0 col13\" >PAYMENTS</th>\n",
       "      <th id=\"T_4f0eb_level0_col14\" class=\"col_heading level0 col14\" >MINIMUM_PAYMENTS</th>\n",
       "      <th id=\"T_4f0eb_level0_col15\" class=\"col_heading level0 col15\" >PRC_FULL_PAYMENT</th>\n",
       "      <th id=\"T_4f0eb_level0_col16\" class=\"col_heading level0 col16\" >TENURE</th>\n",
       "    </tr>\n",
       "  </thead>\n",
       "  <tbody>\n",
       "    <tr>\n",
       "      <th id=\"T_4f0eb_level0_row0\" class=\"row_heading level0 row0\" >BALANCE</th>\n",
       "      <td id=\"T_4f0eb_row0_col0\" class=\"data row0 col0\" >1.000000</td>\n",
       "      <td id=\"T_4f0eb_row0_col1\" class=\"data row0 col1\" >0.322412</td>\n",
       "      <td id=\"T_4f0eb_row0_col2\" class=\"data row0 col2\" >0.181261</td>\n",
       "      <td id=\"T_4f0eb_row0_col3\" class=\"data row0 col3\" >0.164350</td>\n",
       "      <td id=\"T_4f0eb_row0_col4\" class=\"data row0 col4\" >0.126469</td>\n",
       "      <td id=\"T_4f0eb_row0_col5\" class=\"data row0 col5\" >0.496692</td>\n",
       "      <td id=\"T_4f0eb_row0_col6\" class=\"data row0 col6\" >-0.077944</td>\n",
       "      <td id=\"T_4f0eb_row0_col7\" class=\"data row0 col7\" >0.073166</td>\n",
       "      <td id=\"T_4f0eb_row0_col8\" class=\"data row0 col8\" >-0.063186</td>\n",
       "      <td id=\"T_4f0eb_row0_col9\" class=\"data row0 col9\" >0.449218</td>\n",
       "      <td id=\"T_4f0eb_row0_col10\" class=\"data row0 col10\" >0.385152</td>\n",
       "      <td id=\"T_4f0eb_row0_col11\" class=\"data row0 col11\" >0.154338</td>\n",
       "      <td id=\"T_4f0eb_row0_col12\" class=\"data row0 col12\" >0.531283</td>\n",
       "      <td id=\"T_4f0eb_row0_col13\" class=\"data row0 col13\" >0.322802</td>\n",
       "      <td id=\"T_4f0eb_row0_col14\" class=\"data row0 col14\" >0.398684</td>\n",
       "      <td id=\"T_4f0eb_row0_col15\" class=\"data row0 col15\" >-0.318959</td>\n",
       "      <td id=\"T_4f0eb_row0_col16\" class=\"data row0 col16\" >0.072692</td>\n",
       "    </tr>\n",
       "    <tr>\n",
       "      <th id=\"T_4f0eb_level0_row1\" class=\"row_heading level0 row1\" >BALANCE_FREQUENCY</th>\n",
       "      <td id=\"T_4f0eb_row1_col0\" class=\"data row1 col0\" >0.322412</td>\n",
       "      <td id=\"T_4f0eb_row1_col1\" class=\"data row1 col1\" >1.000000</td>\n",
       "      <td id=\"T_4f0eb_row1_col2\" class=\"data row1 col2\" >0.133674</td>\n",
       "      <td id=\"T_4f0eb_row1_col3\" class=\"data row1 col3\" >0.104323</td>\n",
       "      <td id=\"T_4f0eb_row1_col4\" class=\"data row1 col4\" >0.124292</td>\n",
       "      <td id=\"T_4f0eb_row1_col5\" class=\"data row1 col5\" >0.099388</td>\n",
       "      <td id=\"T_4f0eb_row1_col6\" class=\"data row1 col6\" >0.229715</td>\n",
       "      <td id=\"T_4f0eb_row1_col7\" class=\"data row1 col7\" >0.202415</td>\n",
       "      <td id=\"T_4f0eb_row1_col8\" class=\"data row1 col8\" >0.176079</td>\n",
       "      <td id=\"T_4f0eb_row1_col9\" class=\"data row1 col9\" >0.191873</td>\n",
       "      <td id=\"T_4f0eb_row1_col10\" class=\"data row1 col10\" >0.141555</td>\n",
       "      <td id=\"T_4f0eb_row1_col11\" class=\"data row1 col11\" >0.189626</td>\n",
       "      <td id=\"T_4f0eb_row1_col12\" class=\"data row1 col12\" >0.095843</td>\n",
       "      <td id=\"T_4f0eb_row1_col13\" class=\"data row1 col13\" >0.065008</td>\n",
       "      <td id=\"T_4f0eb_row1_col14\" class=\"data row1 col14\" >0.132569</td>\n",
       "      <td id=\"T_4f0eb_row1_col15\" class=\"data row1 col15\" >-0.095082</td>\n",
       "      <td id=\"T_4f0eb_row1_col16\" class=\"data row1 col16\" >0.119776</td>\n",
       "    </tr>\n",
       "    <tr>\n",
       "      <th id=\"T_4f0eb_level0_row2\" class=\"row_heading level0 row2\" >PURCHASES</th>\n",
       "      <td id=\"T_4f0eb_row2_col0\" class=\"data row2 col0\" >0.181261</td>\n",
       "      <td id=\"T_4f0eb_row2_col1\" class=\"data row2 col1\" >0.133674</td>\n",
       "      <td id=\"T_4f0eb_row2_col2\" class=\"data row2 col2\" >1.000000</td>\n",
       "      <td id=\"T_4f0eb_row2_col3\" class=\"data row2 col3\" >0.916845</td>\n",
       "      <td id=\"T_4f0eb_row2_col4\" class=\"data row2 col4\" >0.679896</td>\n",
       "      <td id=\"T_4f0eb_row2_col5\" class=\"data row2 col5\" >-0.051474</td>\n",
       "      <td id=\"T_4f0eb_row2_col6\" class=\"data row2 col6\" >0.393017</td>\n",
       "      <td id=\"T_4f0eb_row2_col7\" class=\"data row2 col7\" >0.498430</td>\n",
       "      <td id=\"T_4f0eb_row2_col8\" class=\"data row2 col8\" >0.315567</td>\n",
       "      <td id=\"T_4f0eb_row2_col9\" class=\"data row2 col9\" >-0.120143</td>\n",
       "      <td id=\"T_4f0eb_row2_col10\" class=\"data row2 col10\" >-0.067175</td>\n",
       "      <td id=\"T_4f0eb_row2_col11\" class=\"data row2 col11\" >0.689561</td>\n",
       "      <td id=\"T_4f0eb_row2_col12\" class=\"data row2 col12\" >0.356963</td>\n",
       "      <td id=\"T_4f0eb_row2_col13\" class=\"data row2 col13\" >0.603264</td>\n",
       "      <td id=\"T_4f0eb_row2_col14\" class=\"data row2 col14\" >0.093860</td>\n",
       "      <td id=\"T_4f0eb_row2_col15\" class=\"data row2 col15\" >0.180379</td>\n",
       "      <td id=\"T_4f0eb_row2_col16\" class=\"data row2 col16\" >0.086288</td>\n",
       "    </tr>\n",
       "    <tr>\n",
       "      <th id=\"T_4f0eb_level0_row3\" class=\"row_heading level0 row3\" >ONEOFF_PURCHASES</th>\n",
       "      <td id=\"T_4f0eb_row3_col0\" class=\"data row3 col0\" >0.164350</td>\n",
       "      <td id=\"T_4f0eb_row3_col1\" class=\"data row3 col1\" >0.104323</td>\n",
       "      <td id=\"T_4f0eb_row3_col2\" class=\"data row3 col2\" >0.916845</td>\n",
       "      <td id=\"T_4f0eb_row3_col3\" class=\"data row3 col3\" >1.000000</td>\n",
       "      <td id=\"T_4f0eb_row3_col4\" class=\"data row3 col4\" >0.330622</td>\n",
       "      <td id=\"T_4f0eb_row3_col5\" class=\"data row3 col5\" >-0.031326</td>\n",
       "      <td id=\"T_4f0eb_row3_col6\" class=\"data row3 col6\" >0.264937</td>\n",
       "      <td id=\"T_4f0eb_row3_col7\" class=\"data row3 col7\" >0.524891</td>\n",
       "      <td id=\"T_4f0eb_row3_col8\" class=\"data row3 col8\" >0.127729</td>\n",
       "      <td id=\"T_4f0eb_row3_col9\" class=\"data row3 col9\" >-0.082628</td>\n",
       "      <td id=\"T_4f0eb_row3_col10\" class=\"data row3 col10\" >-0.046212</td>\n",
       "      <td id=\"T_4f0eb_row3_col11\" class=\"data row3 col11\" >0.545523</td>\n",
       "      <td id=\"T_4f0eb_row3_col12\" class=\"data row3 col12\" >0.319724</td>\n",
       "      <td id=\"T_4f0eb_row3_col13\" class=\"data row3 col13\" >0.567292</td>\n",
       "      <td id=\"T_4f0eb_row3_col14\" class=\"data row3 col14\" >0.048755</td>\n",
       "      <td id=\"T_4f0eb_row3_col15\" class=\"data row3 col15\" >0.132763</td>\n",
       "      <td id=\"T_4f0eb_row3_col16\" class=\"data row3 col16\" >0.064150</td>\n",
       "    </tr>\n",
       "    <tr>\n",
       "      <th id=\"T_4f0eb_level0_row4\" class=\"row_heading level0 row4\" >INSTALLMENTS_PURCHASES</th>\n",
       "      <td id=\"T_4f0eb_row4_col0\" class=\"data row4 col0\" >0.126469</td>\n",
       "      <td id=\"T_4f0eb_row4_col1\" class=\"data row4 col1\" >0.124292</td>\n",
       "      <td id=\"T_4f0eb_row4_col2\" class=\"data row4 col2\" >0.679896</td>\n",
       "      <td id=\"T_4f0eb_row4_col3\" class=\"data row4 col3\" >0.330622</td>\n",
       "      <td id=\"T_4f0eb_row4_col4\" class=\"data row4 col4\" >1.000000</td>\n",
       "      <td id=\"T_4f0eb_row4_col5\" class=\"data row4 col5\" >-0.064244</td>\n",
       "      <td id=\"T_4f0eb_row4_col6\" class=\"data row4 col6\" >0.442418</td>\n",
       "      <td id=\"T_4f0eb_row4_col7\" class=\"data row4 col7\" >0.214042</td>\n",
       "      <td id=\"T_4f0eb_row4_col8\" class=\"data row4 col8\" >0.511351</td>\n",
       "      <td id=\"T_4f0eb_row4_col9\" class=\"data row4 col9\" >-0.132318</td>\n",
       "      <td id=\"T_4f0eb_row4_col10\" class=\"data row4 col10\" >-0.073999</td>\n",
       "      <td id=\"T_4f0eb_row4_col11\" class=\"data row4 col11\" >0.628108</td>\n",
       "      <td id=\"T_4f0eb_row4_col12\" class=\"data row4 col12\" >0.256499</td>\n",
       "      <td id=\"T_4f0eb_row4_col13\" class=\"data row4 col13\" >0.384084</td>\n",
       "      <td id=\"T_4f0eb_row4_col14\" class=\"data row4 col14\" >0.132172</td>\n",
       "      <td id=\"T_4f0eb_row4_col15\" class=\"data row4 col15\" >0.182569</td>\n",
       "      <td id=\"T_4f0eb_row4_col16\" class=\"data row4 col16\" >0.086143</td>\n",
       "    </tr>\n",
       "    <tr>\n",
       "      <th id=\"T_4f0eb_level0_row5\" class=\"row_heading level0 row5\" >CASH_ADVANCE</th>\n",
       "      <td id=\"T_4f0eb_row5_col0\" class=\"data row5 col0\" >0.496692</td>\n",
       "      <td id=\"T_4f0eb_row5_col1\" class=\"data row5 col1\" >0.099388</td>\n",
       "      <td id=\"T_4f0eb_row5_col2\" class=\"data row5 col2\" >-0.051474</td>\n",
       "      <td id=\"T_4f0eb_row5_col3\" class=\"data row5 col3\" >-0.031326</td>\n",
       "      <td id=\"T_4f0eb_row5_col4\" class=\"data row5 col4\" >-0.064244</td>\n",
       "      <td id=\"T_4f0eb_row5_col5\" class=\"data row5 col5\" >1.000000</td>\n",
       "      <td id=\"T_4f0eb_row5_col6\" class=\"data row5 col6\" >-0.215507</td>\n",
       "      <td id=\"T_4f0eb_row5_col7\" class=\"data row5 col7\" >-0.086754</td>\n",
       "      <td id=\"T_4f0eb_row5_col8\" class=\"data row5 col8\" >-0.177070</td>\n",
       "      <td id=\"T_4f0eb_row5_col9\" class=\"data row5 col9\" >0.628522</td>\n",
       "      <td id=\"T_4f0eb_row5_col10\" class=\"data row5 col10\" >0.656498</td>\n",
       "      <td id=\"T_4f0eb_row5_col11\" class=\"data row5 col11\" >-0.075850</td>\n",
       "      <td id=\"T_4f0eb_row5_col12\" class=\"data row5 col12\" >0.303985</td>\n",
       "      <td id=\"T_4f0eb_row5_col13\" class=\"data row5 col13\" >0.453238</td>\n",
       "      <td id=\"T_4f0eb_row5_col14\" class=\"data row5 col14\" >0.140107</td>\n",
       "      <td id=\"T_4f0eb_row5_col15\" class=\"data row5 col15\" >-0.152935</td>\n",
       "      <td id=\"T_4f0eb_row5_col16\" class=\"data row5 col16\" >-0.068312</td>\n",
       "    </tr>\n",
       "    <tr>\n",
       "      <th id=\"T_4f0eb_level0_row6\" class=\"row_heading level0 row6\" >PURCHASES_FREQUENCY</th>\n",
       "      <td id=\"T_4f0eb_row6_col0\" class=\"data row6 col0\" >-0.077944</td>\n",
       "      <td id=\"T_4f0eb_row6_col1\" class=\"data row6 col1\" >0.229715</td>\n",
       "      <td id=\"T_4f0eb_row6_col2\" class=\"data row6 col2\" >0.393017</td>\n",
       "      <td id=\"T_4f0eb_row6_col3\" class=\"data row6 col3\" >0.264937</td>\n",
       "      <td id=\"T_4f0eb_row6_col4\" class=\"data row6 col4\" >0.442418</td>\n",
       "      <td id=\"T_4f0eb_row6_col5\" class=\"data row6 col5\" >-0.215507</td>\n",
       "      <td id=\"T_4f0eb_row6_col6\" class=\"data row6 col6\" >1.000000</td>\n",
       "      <td id=\"T_4f0eb_row6_col7\" class=\"data row6 col7\" >0.501343</td>\n",
       "      <td id=\"T_4f0eb_row6_col8\" class=\"data row6 col8\" >0.862934</td>\n",
       "      <td id=\"T_4f0eb_row6_col9\" class=\"data row6 col9\" >-0.308478</td>\n",
       "      <td id=\"T_4f0eb_row6_col10\" class=\"data row6 col10\" >-0.203478</td>\n",
       "      <td id=\"T_4f0eb_row6_col11\" class=\"data row6 col11\" >0.568430</td>\n",
       "      <td id=\"T_4f0eb_row6_col12\" class=\"data row6 col12\" >0.119788</td>\n",
       "      <td id=\"T_4f0eb_row6_col13\" class=\"data row6 col13\" >0.103464</td>\n",
       "      <td id=\"T_4f0eb_row6_col14\" class=\"data row6 col14\" >0.003030</td>\n",
       "      <td id=\"T_4f0eb_row6_col15\" class=\"data row6 col15\" >0.305802</td>\n",
       "      <td id=\"T_4f0eb_row6_col16\" class=\"data row6 col16\" >0.061506</td>\n",
       "    </tr>\n",
       "    <tr>\n",
       "      <th id=\"T_4f0eb_level0_row7\" class=\"row_heading level0 row7\" >ONEOFF_PURCHASES_FREQUENCY</th>\n",
       "      <td id=\"T_4f0eb_row7_col0\" class=\"data row7 col0\" >0.073166</td>\n",
       "      <td id=\"T_4f0eb_row7_col1\" class=\"data row7 col1\" >0.202415</td>\n",
       "      <td id=\"T_4f0eb_row7_col2\" class=\"data row7 col2\" >0.498430</td>\n",
       "      <td id=\"T_4f0eb_row7_col3\" class=\"data row7 col3\" >0.524891</td>\n",
       "      <td id=\"T_4f0eb_row7_col4\" class=\"data row7 col4\" >0.214042</td>\n",
       "      <td id=\"T_4f0eb_row7_col5\" class=\"data row7 col5\" >-0.086754</td>\n",
       "      <td id=\"T_4f0eb_row7_col6\" class=\"data row7 col6\" >0.501343</td>\n",
       "      <td id=\"T_4f0eb_row7_col7\" class=\"data row7 col7\" >1.000000</td>\n",
       "      <td id=\"T_4f0eb_row7_col8\" class=\"data row7 col8\" >0.142329</td>\n",
       "      <td id=\"T_4f0eb_row7_col9\" class=\"data row7 col9\" >-0.111716</td>\n",
       "      <td id=\"T_4f0eb_row7_col10\" class=\"data row7 col10\" >-0.069088</td>\n",
       "      <td id=\"T_4f0eb_row7_col11\" class=\"data row7 col11\" >0.544869</td>\n",
       "      <td id=\"T_4f0eb_row7_col12\" class=\"data row7 col12\" >0.295038</td>\n",
       "      <td id=\"T_4f0eb_row7_col13\" class=\"data row7 col13\" >0.243537</td>\n",
       "      <td id=\"T_4f0eb_row7_col14\" class=\"data row7 col14\" >-0.030327</td>\n",
       "      <td id=\"T_4f0eb_row7_col15\" class=\"data row7 col15\" >0.157531</td>\n",
       "      <td id=\"T_4f0eb_row7_col16\" class=\"data row7 col16\" >0.082466</td>\n",
       "    </tr>\n",
       "    <tr>\n",
       "      <th id=\"T_4f0eb_level0_row8\" class=\"row_heading level0 row8\" >PURCHASES_INSTALLMENTS_FREQUENCY</th>\n",
       "      <td id=\"T_4f0eb_row8_col0\" class=\"data row8 col0\" >-0.063186</td>\n",
       "      <td id=\"T_4f0eb_row8_col1\" class=\"data row8 col1\" >0.176079</td>\n",
       "      <td id=\"T_4f0eb_row8_col2\" class=\"data row8 col2\" >0.315567</td>\n",
       "      <td id=\"T_4f0eb_row8_col3\" class=\"data row8 col3\" >0.127729</td>\n",
       "      <td id=\"T_4f0eb_row8_col4\" class=\"data row8 col4\" >0.511351</td>\n",
       "      <td id=\"T_4f0eb_row8_col5\" class=\"data row8 col5\" >-0.177070</td>\n",
       "      <td id=\"T_4f0eb_row8_col6\" class=\"data row8 col6\" >0.862934</td>\n",
       "      <td id=\"T_4f0eb_row8_col7\" class=\"data row8 col7\" >0.142329</td>\n",
       "      <td id=\"T_4f0eb_row8_col8\" class=\"data row8 col8\" >1.000000</td>\n",
       "      <td id=\"T_4f0eb_row8_col9\" class=\"data row8 col9\" >-0.262958</td>\n",
       "      <td id=\"T_4f0eb_row8_col10\" class=\"data row8 col10\" >-0.169207</td>\n",
       "      <td id=\"T_4f0eb_row8_col11\" class=\"data row8 col11\" >0.529975</td>\n",
       "      <td id=\"T_4f0eb_row8_col12\" class=\"data row8 col12\" >0.060755</td>\n",
       "      <td id=\"T_4f0eb_row8_col13\" class=\"data row8 col13\" >0.085551</td>\n",
       "      <td id=\"T_4f0eb_row8_col14\" class=\"data row8 col14\" >0.030073</td>\n",
       "      <td id=\"T_4f0eb_row8_col15\" class=\"data row8 col15\" >0.250087</td>\n",
       "      <td id=\"T_4f0eb_row8_col16\" class=\"data row8 col16\" >0.073275</td>\n",
       "    </tr>\n",
       "    <tr>\n",
       "      <th id=\"T_4f0eb_level0_row9\" class=\"row_heading level0 row9\" >CASH_ADVANCE_FREQUENCY</th>\n",
       "      <td id=\"T_4f0eb_row9_col0\" class=\"data row9 col0\" >0.449218</td>\n",
       "      <td id=\"T_4f0eb_row9_col1\" class=\"data row9 col1\" >0.191873</td>\n",
       "      <td id=\"T_4f0eb_row9_col2\" class=\"data row9 col2\" >-0.120143</td>\n",
       "      <td id=\"T_4f0eb_row9_col3\" class=\"data row9 col3\" >-0.082628</td>\n",
       "      <td id=\"T_4f0eb_row9_col4\" class=\"data row9 col4\" >-0.132318</td>\n",
       "      <td id=\"T_4f0eb_row9_col5\" class=\"data row9 col5\" >0.628522</td>\n",
       "      <td id=\"T_4f0eb_row9_col6\" class=\"data row9 col6\" >-0.308478</td>\n",
       "      <td id=\"T_4f0eb_row9_col7\" class=\"data row9 col7\" >-0.111716</td>\n",
       "      <td id=\"T_4f0eb_row9_col8\" class=\"data row9 col8\" >-0.262958</td>\n",
       "      <td id=\"T_4f0eb_row9_col9\" class=\"data row9 col9\" >1.000000</td>\n",
       "      <td id=\"T_4f0eb_row9_col10\" class=\"data row9 col10\" >0.799561</td>\n",
       "      <td id=\"T_4f0eb_row9_col11\" class=\"data row9 col11\" >-0.131168</td>\n",
       "      <td id=\"T_4f0eb_row9_col12\" class=\"data row9 col12\" >0.132616</td>\n",
       "      <td id=\"T_4f0eb_row9_col13\" class=\"data row9 col13\" >0.183192</td>\n",
       "      <td id=\"T_4f0eb_row9_col14\" class=\"data row9 col14\" >0.098838</td>\n",
       "      <td id=\"T_4f0eb_row9_col15\" class=\"data row9 col15\" >-0.249773</td>\n",
       "      <td id=\"T_4f0eb_row9_col16\" class=\"data row9 col16\" >-0.133372</td>\n",
       "    </tr>\n",
       "    <tr>\n",
       "      <th id=\"T_4f0eb_level0_row10\" class=\"row_heading level0 row10\" >CASH_ADVANCE_TRX</th>\n",
       "      <td id=\"T_4f0eb_row10_col0\" class=\"data row10 col0\" >0.385152</td>\n",
       "      <td id=\"T_4f0eb_row10_col1\" class=\"data row10 col1\" >0.141555</td>\n",
       "      <td id=\"T_4f0eb_row10_col2\" class=\"data row10 col2\" >-0.067175</td>\n",
       "      <td id=\"T_4f0eb_row10_col3\" class=\"data row10 col3\" >-0.046212</td>\n",
       "      <td id=\"T_4f0eb_row10_col4\" class=\"data row10 col4\" >-0.073999</td>\n",
       "      <td id=\"T_4f0eb_row10_col5\" class=\"data row10 col5\" >0.656498</td>\n",
       "      <td id=\"T_4f0eb_row10_col6\" class=\"data row10 col6\" >-0.203478</td>\n",
       "      <td id=\"T_4f0eb_row10_col7\" class=\"data row10 col7\" >-0.069088</td>\n",
       "      <td id=\"T_4f0eb_row10_col8\" class=\"data row10 col8\" >-0.169207</td>\n",
       "      <td id=\"T_4f0eb_row10_col9\" class=\"data row10 col9\" >0.799561</td>\n",
       "      <td id=\"T_4f0eb_row10_col10\" class=\"data row10 col10\" >1.000000</td>\n",
       "      <td id=\"T_4f0eb_row10_col11\" class=\"data row10 col11\" >-0.066157</td>\n",
       "      <td id=\"T_4f0eb_row10_col12\" class=\"data row10 col12\" >0.149700</td>\n",
       "      <td id=\"T_4f0eb_row10_col13\" class=\"data row10 col13\" >0.255278</td>\n",
       "      <td id=\"T_4f0eb_row10_col14\" class=\"data row10 col14\" >0.109739</td>\n",
       "      <td id=\"T_4f0eb_row10_col15\" class=\"data row10 col15\" >-0.169784</td>\n",
       "      <td id=\"T_4f0eb_row10_col16\" class=\"data row10 col16\" >-0.043421</td>\n",
       "    </tr>\n",
       "    <tr>\n",
       "      <th id=\"T_4f0eb_level0_row11\" class=\"row_heading level0 row11\" >PURCHASES_TRX</th>\n",
       "      <td id=\"T_4f0eb_row11_col0\" class=\"data row11 col0\" >0.154338</td>\n",
       "      <td id=\"T_4f0eb_row11_col1\" class=\"data row11 col1\" >0.189626</td>\n",
       "      <td id=\"T_4f0eb_row11_col2\" class=\"data row11 col2\" >0.689561</td>\n",
       "      <td id=\"T_4f0eb_row11_col3\" class=\"data row11 col3\" >0.545523</td>\n",
       "      <td id=\"T_4f0eb_row11_col4\" class=\"data row11 col4\" >0.628108</td>\n",
       "      <td id=\"T_4f0eb_row11_col5\" class=\"data row11 col5\" >-0.075850</td>\n",
       "      <td id=\"T_4f0eb_row11_col6\" class=\"data row11 col6\" >0.568430</td>\n",
       "      <td id=\"T_4f0eb_row11_col7\" class=\"data row11 col7\" >0.544869</td>\n",
       "      <td id=\"T_4f0eb_row11_col8\" class=\"data row11 col8\" >0.529975</td>\n",
       "      <td id=\"T_4f0eb_row11_col9\" class=\"data row11 col9\" >-0.131168</td>\n",
       "      <td id=\"T_4f0eb_row11_col10\" class=\"data row11 col10\" >-0.066157</td>\n",
       "      <td id=\"T_4f0eb_row11_col11\" class=\"data row11 col11\" >1.000000</td>\n",
       "      <td id=\"T_4f0eb_row11_col12\" class=\"data row11 col12\" >0.272882</td>\n",
       "      <td id=\"T_4f0eb_row11_col13\" class=\"data row11 col13\" >0.370832</td>\n",
       "      <td id=\"T_4f0eb_row11_col14\" class=\"data row11 col14\" >0.096333</td>\n",
       "      <td id=\"T_4f0eb_row11_col15\" class=\"data row11 col15\" >0.162066</td>\n",
       "      <td id=\"T_4f0eb_row11_col16\" class=\"data row11 col16\" >0.121874</td>\n",
       "    </tr>\n",
       "    <tr>\n",
       "      <th id=\"T_4f0eb_level0_row12\" class=\"row_heading level0 row12\" >CREDIT_LIMIT</th>\n",
       "      <td id=\"T_4f0eb_row12_col0\" class=\"data row12 col0\" >0.531283</td>\n",
       "      <td id=\"T_4f0eb_row12_col1\" class=\"data row12 col1\" >0.095843</td>\n",
       "      <td id=\"T_4f0eb_row12_col2\" class=\"data row12 col2\" >0.356963</td>\n",
       "      <td id=\"T_4f0eb_row12_col3\" class=\"data row12 col3\" >0.319724</td>\n",
       "      <td id=\"T_4f0eb_row12_col4\" class=\"data row12 col4\" >0.256499</td>\n",
       "      <td id=\"T_4f0eb_row12_col5\" class=\"data row12 col5\" >0.303985</td>\n",
       "      <td id=\"T_4f0eb_row12_col6\" class=\"data row12 col6\" >0.119788</td>\n",
       "      <td id=\"T_4f0eb_row12_col7\" class=\"data row12 col7\" >0.295038</td>\n",
       "      <td id=\"T_4f0eb_row12_col8\" class=\"data row12 col8\" >0.060755</td>\n",
       "      <td id=\"T_4f0eb_row12_col9\" class=\"data row12 col9\" >0.132616</td>\n",
       "      <td id=\"T_4f0eb_row12_col10\" class=\"data row12 col10\" >0.149700</td>\n",
       "      <td id=\"T_4f0eb_row12_col11\" class=\"data row12 col11\" >0.272882</td>\n",
       "      <td id=\"T_4f0eb_row12_col12\" class=\"data row12 col12\" >1.000000</td>\n",
       "      <td id=\"T_4f0eb_row12_col13\" class=\"data row12 col13\" >0.421861</td>\n",
       "      <td id=\"T_4f0eb_row12_col14\" class=\"data row12 col14\" >0.126671</td>\n",
       "      <td id=\"T_4f0eb_row12_col15\" class=\"data row12 col15\" >0.055672</td>\n",
       "      <td id=\"T_4f0eb_row12_col16\" class=\"data row12 col16\" >0.139167</td>\n",
       "    </tr>\n",
       "    <tr>\n",
       "      <th id=\"T_4f0eb_level0_row13\" class=\"row_heading level0 row13\" >PAYMENTS</th>\n",
       "      <td id=\"T_4f0eb_row13_col0\" class=\"data row13 col0\" >0.322802</td>\n",
       "      <td id=\"T_4f0eb_row13_col1\" class=\"data row13 col1\" >0.065008</td>\n",
       "      <td id=\"T_4f0eb_row13_col2\" class=\"data row13 col2\" >0.603264</td>\n",
       "      <td id=\"T_4f0eb_row13_col3\" class=\"data row13 col3\" >0.567292</td>\n",
       "      <td id=\"T_4f0eb_row13_col4\" class=\"data row13 col4\" >0.384084</td>\n",
       "      <td id=\"T_4f0eb_row13_col5\" class=\"data row13 col5\" >0.453238</td>\n",
       "      <td id=\"T_4f0eb_row13_col6\" class=\"data row13 col6\" >0.103464</td>\n",
       "      <td id=\"T_4f0eb_row13_col7\" class=\"data row13 col7\" >0.243537</td>\n",
       "      <td id=\"T_4f0eb_row13_col8\" class=\"data row13 col8\" >0.085551</td>\n",
       "      <td id=\"T_4f0eb_row13_col9\" class=\"data row13 col9\" >0.183192</td>\n",
       "      <td id=\"T_4f0eb_row13_col10\" class=\"data row13 col10\" >0.255278</td>\n",
       "      <td id=\"T_4f0eb_row13_col11\" class=\"data row13 col11\" >0.370832</td>\n",
       "      <td id=\"T_4f0eb_row13_col12\" class=\"data row13 col12\" >0.421861</td>\n",
       "      <td id=\"T_4f0eb_row13_col13\" class=\"data row13 col13\" >1.000000</td>\n",
       "      <td id=\"T_4f0eb_row13_col14\" class=\"data row13 col14\" >0.126651</td>\n",
       "      <td id=\"T_4f0eb_row13_col15\" class=\"data row13 col15\" >0.112138</td>\n",
       "      <td id=\"T_4f0eb_row13_col16\" class=\"data row13 col16\" >0.106136</td>\n",
       "    </tr>\n",
       "    <tr>\n",
       "      <th id=\"T_4f0eb_level0_row14\" class=\"row_heading level0 row14\" >MINIMUM_PAYMENTS</th>\n",
       "      <td id=\"T_4f0eb_row14_col0\" class=\"data row14 col0\" >0.398684</td>\n",
       "      <td id=\"T_4f0eb_row14_col1\" class=\"data row14 col1\" >0.132569</td>\n",
       "      <td id=\"T_4f0eb_row14_col2\" class=\"data row14 col2\" >0.093860</td>\n",
       "      <td id=\"T_4f0eb_row14_col3\" class=\"data row14 col3\" >0.048755</td>\n",
       "      <td id=\"T_4f0eb_row14_col4\" class=\"data row14 col4\" >0.132172</td>\n",
       "      <td id=\"T_4f0eb_row14_col5\" class=\"data row14 col5\" >0.140107</td>\n",
       "      <td id=\"T_4f0eb_row14_col6\" class=\"data row14 col6\" >0.003030</td>\n",
       "      <td id=\"T_4f0eb_row14_col7\" class=\"data row14 col7\" >-0.030327</td>\n",
       "      <td id=\"T_4f0eb_row14_col8\" class=\"data row14 col8\" >0.030073</td>\n",
       "      <td id=\"T_4f0eb_row14_col9\" class=\"data row14 col9\" >0.098838</td>\n",
       "      <td id=\"T_4f0eb_row14_col10\" class=\"data row14 col10\" >0.109739</td>\n",
       "      <td id=\"T_4f0eb_row14_col11\" class=\"data row14 col11\" >0.096333</td>\n",
       "      <td id=\"T_4f0eb_row14_col12\" class=\"data row14 col12\" >0.126671</td>\n",
       "      <td id=\"T_4f0eb_row14_col13\" class=\"data row14 col13\" >0.126651</td>\n",
       "      <td id=\"T_4f0eb_row14_col14\" class=\"data row14 col14\" >1.000000</td>\n",
       "      <td id=\"T_4f0eb_row14_col15\" class=\"data row14 col15\" >-0.140379</td>\n",
       "      <td id=\"T_4f0eb_row14_col16\" class=\"data row14 col16\" >0.059444</td>\n",
       "    </tr>\n",
       "    <tr>\n",
       "      <th id=\"T_4f0eb_level0_row15\" class=\"row_heading level0 row15\" >PRC_FULL_PAYMENT</th>\n",
       "      <td id=\"T_4f0eb_row15_col0\" class=\"data row15 col0\" >-0.318959</td>\n",
       "      <td id=\"T_4f0eb_row15_col1\" class=\"data row15 col1\" >-0.095082</td>\n",
       "      <td id=\"T_4f0eb_row15_col2\" class=\"data row15 col2\" >0.180379</td>\n",
       "      <td id=\"T_4f0eb_row15_col3\" class=\"data row15 col3\" >0.132763</td>\n",
       "      <td id=\"T_4f0eb_row15_col4\" class=\"data row15 col4\" >0.182569</td>\n",
       "      <td id=\"T_4f0eb_row15_col5\" class=\"data row15 col5\" >-0.152935</td>\n",
       "      <td id=\"T_4f0eb_row15_col6\" class=\"data row15 col6\" >0.305802</td>\n",
       "      <td id=\"T_4f0eb_row15_col7\" class=\"data row15 col7\" >0.157531</td>\n",
       "      <td id=\"T_4f0eb_row15_col8\" class=\"data row15 col8\" >0.250087</td>\n",
       "      <td id=\"T_4f0eb_row15_col9\" class=\"data row15 col9\" >-0.249773</td>\n",
       "      <td id=\"T_4f0eb_row15_col10\" class=\"data row15 col10\" >-0.169784</td>\n",
       "      <td id=\"T_4f0eb_row15_col11\" class=\"data row15 col11\" >0.162066</td>\n",
       "      <td id=\"T_4f0eb_row15_col12\" class=\"data row15 col12\" >0.055672</td>\n",
       "      <td id=\"T_4f0eb_row15_col13\" class=\"data row15 col13\" >0.112138</td>\n",
       "      <td id=\"T_4f0eb_row15_col14\" class=\"data row15 col14\" >-0.140379</td>\n",
       "      <td id=\"T_4f0eb_row15_col15\" class=\"data row15 col15\" >1.000000</td>\n",
       "      <td id=\"T_4f0eb_row15_col16\" class=\"data row15 col16\" >-0.016486</td>\n",
       "    </tr>\n",
       "    <tr>\n",
       "      <th id=\"T_4f0eb_level0_row16\" class=\"row_heading level0 row16\" >TENURE</th>\n",
       "      <td id=\"T_4f0eb_row16_col0\" class=\"data row16 col0\" >0.072692</td>\n",
       "      <td id=\"T_4f0eb_row16_col1\" class=\"data row16 col1\" >0.119776</td>\n",
       "      <td id=\"T_4f0eb_row16_col2\" class=\"data row16 col2\" >0.086288</td>\n",
       "      <td id=\"T_4f0eb_row16_col3\" class=\"data row16 col3\" >0.064150</td>\n",
       "      <td id=\"T_4f0eb_row16_col4\" class=\"data row16 col4\" >0.086143</td>\n",
       "      <td id=\"T_4f0eb_row16_col5\" class=\"data row16 col5\" >-0.068312</td>\n",
       "      <td id=\"T_4f0eb_row16_col6\" class=\"data row16 col6\" >0.061506</td>\n",
       "      <td id=\"T_4f0eb_row16_col7\" class=\"data row16 col7\" >0.082466</td>\n",
       "      <td id=\"T_4f0eb_row16_col8\" class=\"data row16 col8\" >0.073275</td>\n",
       "      <td id=\"T_4f0eb_row16_col9\" class=\"data row16 col9\" >-0.133372</td>\n",
       "      <td id=\"T_4f0eb_row16_col10\" class=\"data row16 col10\" >-0.043421</td>\n",
       "      <td id=\"T_4f0eb_row16_col11\" class=\"data row16 col11\" >0.121874</td>\n",
       "      <td id=\"T_4f0eb_row16_col12\" class=\"data row16 col12\" >0.139167</td>\n",
       "      <td id=\"T_4f0eb_row16_col13\" class=\"data row16 col13\" >0.106136</td>\n",
       "      <td id=\"T_4f0eb_row16_col14\" class=\"data row16 col14\" >0.059444</td>\n",
       "      <td id=\"T_4f0eb_row16_col15\" class=\"data row16 col15\" >-0.016486</td>\n",
       "      <td id=\"T_4f0eb_row16_col16\" class=\"data row16 col16\" >1.000000</td>\n",
       "    </tr>\n",
       "  </tbody>\n",
       "</table>\n"
      ],
      "text/plain": [
       "<pandas.io.formats.style.Styler at 0x1f992be4a60>"
      ]
     },
     "execution_count": 14,
     "metadata": {},
     "output_type": "execute_result"
    }
   ],
   "source": [
    "cc_holders.corr().style.background_gradient(cmap = 'RdYlGn')"
   ]
  },
  {
   "cell_type": "markdown",
   "metadata": {
    "id": "txY_wGyWM7BB"
   },
   "source": [
    "2.7 Create a heatmap showing all positive or negative correlations higher \n",
    "than .5"
   ]
  },
  {
   "cell_type": "code",
   "execution_count": 15,
   "metadata": {
    "ExecuteTime": {
     "end_time": "2022-03-24T03:58:09.267429Z",
     "start_time": "2022-03-24T03:58:08.865858Z"
    },
    "colab": {
     "base_uri": "https://localhost:8080/",
     "height": 611
    },
    "id": "UIqbqp5eDEMi",
    "outputId": "117086bf-8526-4e12-c4d8-ccd2f32cc8ba",
    "scrolled": true
   },
   "outputs": [
    {
     "data": {
      "image/png": "[encoded data removed]",
      "text/plain": [
       "<Figure size 2160x720 with 2 Axes>"
      ]
     },
     "metadata": {
      "needs_background": "light"
     },
     "output_type": "display_data"
    }
   ],
   "source": [
    "cc_corr = cc_holders.corr()\n",
    "\n",
    "cc_corr_filt = cc_corr[((cc_corr >= .5) | (cc_corr <= -.5))]\n",
    "plt.figure(figsize=(30,10))\n",
    "sns.heatmap(cc_corr_filt, annot=True, cmap=\"Reds\")\n",
    "plt.show()"
   ]
  },
  {
   "cell_type": "markdown",
   "metadata": {
    "id": "w5p9exdBDqjo"
   },
   "source": [
    "What do you observe? What conclusions can you draw from looking at the correlations, and how would that influence a principal components analysis routine? Why do we do Principal Components Analysis?"
   ]
  },
  {
   "cell_type": "markdown",
   "metadata": {},
   "source": [
    "# Answer\n",
    "The heatmap directly shows us the pairs of variables which have a high correlation (with absolute value over 0.5) with each other. The darker cells means higher correlations, and indeed we should ignore the correlations with value 1 on the diagonal, since they are just correlations with themselves.\n",
    "\n",
    "However, we can also observe some extremely high correlations, for instance, variable **PURCHASES** and **ONEOFF_PURCHASES** have a 0.92 correlation, and variable **PURCHASES_INSTALLMENTS_FREQUENCY** and **PURCHASES_FREQUENCY**. Besides, pairs such as **PURCHASES** and **PURCHASES_TRX**, **CASH_ADVANCE** and **CASH_ADVANCE_TRX** also have relatively high correlation over 0.65. Therefore, one important information we can get is that, for this data set, high correlations were more likely been found between the variables who have similar names, such as **PURCHASES** and **PURCHASES_TRX**. This characteristic may influence the number of components when performing PCA, since some variables are similar to each other hence may be regarded as exactly one component.\n",
    "\n",
    "We do the PCA for reducing the dimensions in our model, or making our model simplier to reduce the possibility of overfitting and hence producing a high test error, since a high correlation represents that same information are covered by multiple variables simultaneously."
   ]
  },
  {
   "cell_type": "markdown",
   "metadata": {
    "id": "6HJaIcJYNLp-"
   },
   "source": [
    "2.8 Examine the discrete distributions of each feature column"
   ]
  },
  {
   "cell_type": "code",
   "execution_count": 16,
   "metadata": {
    "ExecuteTime": {
     "end_time": "2022-03-24T03:58:10.879713Z",
     "start_time": "2022-03-24T03:58:09.269429Z"
    },
    "colab": {
     "base_uri": "https://localhost:8080/",
     "height": 882
    },
    "id": "50OrRQLOFV36",
    "outputId": "c0f4441c-c830-4763-e953-2b68882dfd91"
   },
   "outputs": [
    {
     "data": {
      "image/png": "[encoded data removed]",
      "text/plain": [
       "<Figure size 1440x1080 with 20 Axes>"
      ]
     },
     "metadata": {},
     "output_type": "display_data"
    }
   ],
   "source": [
    "sns.set(rc={'figure.figsize':(20, 15)})\n",
    "dists = cc_holders.hist(bins=20, color='blue')"
   ]
  },
  {
   "cell_type": "markdown",
   "metadata": {
    "id": "40j5i3kVF-c8"
   },
   "source": [
    "What can you conclude about the distributions of the variables in the data set? In 3-4 sentences, describe methods of handling outliers following the lecture notes."
   ]
  },
  {
   "cell_type": "code",
   "execution_count": null,
   "metadata": {},
   "outputs": [],
   "source": []
  },
  {
   "cell_type": "markdown",
   "metadata": {
    "id": "JeqAaZktNXe2"
   },
   "source": [
    "2.9\n",
    "*Your answer here*\n",
    "\n",
    "For most of the variables shown in the tables above, their distributions are not balanced and symmetric, which means that they skew to one side.\n",
    "\n",
    "We can take logarithms on the skewed data which makes the gap smaller. We can also binning or bucketing the data into some groups, that it, tranforming continuous data into categorical. "
   ]
  },
  {
   "cell_type": "markdown",
   "metadata": {
    "id": "wsTjzO_eNd9V"
   },
   "source": [
    "2.10 Examine the data set for missing values"
   ]
  },
  {
   "cell_type": "code",
   "execution_count": 17,
   "metadata": {
    "ExecuteTime": {
     "end_time": "2022-03-24T03:58:10.895216Z",
     "start_time": "2022-03-24T03:58:10.881213Z"
    },
    "colab": {
     "base_uri": "https://localhost:8080/"
    },
    "id": "Pm83RwcGEImt",
    "outputId": "02580183-4744-4b56-c5aa-007f6a6dadeb"
   },
   "outputs": [
    {
     "data": {
      "text/plain": [
       "MINIMUM_PAYMENTS                    313\n",
       "CREDIT_LIMIT                          1\n",
       "CUST_ID                               0\n",
       "BALANCE                               0\n",
       "PRC_FULL_PAYMENT                      0\n",
       "PAYMENTS                              0\n",
       "PURCHASES_TRX                         0\n",
       "CASH_ADVANCE_TRX                      0\n",
       "CASH_ADVANCE_FREQUENCY                0\n",
       "PURCHASES_INSTALLMENTS_FREQUENCY      0\n",
       "ONEOFF_PURCHASES_FREQUENCY            0\n",
       "PURCHASES_FREQUENCY                   0\n",
       "CASH_ADVANCE                          0\n",
       "INSTALLMENTS_PURCHASES                0\n",
       "ONEOFF_PURCHASES                      0\n",
       "PURCHASES                             0\n",
       "BALANCE_FREQUENCY                     0\n",
       "TENURE                                0\n",
       "dtype: int64"
      ]
     },
     "execution_count": 17,
     "metadata": {},
     "output_type": "execute_result"
    }
   ],
   "source": [
    "cc_holders.isna().sum().sort_values(ascending=False)"
   ]
  },
  {
   "cell_type": "markdown",
   "metadata": {
    "id": "B410H-29NhMF"
   },
   "source": [
    "2.11 Is it reasonable to fill missing values with the median? If so, fill the missing values with the median."
   ]
  },
  {
   "cell_type": "code",
   "execution_count": 18,
   "metadata": {
    "ExecuteTime": {
     "end_time": "2022-03-24T03:58:11.081248Z",
     "start_time": "2022-03-24T03:58:10.896716Z"
    },
    "id": "omVPkwQvEKkC"
   },
   "outputs": [
    {
     "name": "stdout",
     "output_type": "stream",
     "text": [
      "0.034972067039106144\n"
     ]
    },
    {
     "data": {
      "text/plain": [
       "(array([8.532e+03, 6.500e+01, 2.100e+01, 1.100e+01, 1.000e+00, 3.000e+00,\n",
       "        1.000e+00, 2.000e+00, 0.000e+00, 1.000e+00]),\n",
       " array([1.91630000e-02, 7.64063800e+03, 1.52812568e+04, 2.29218757e+04,\n",
       "        3.05624945e+04, 3.82031133e+04, 4.58437322e+04, 5.34843510e+04,\n",
       "        6.11249698e+04, 6.87655887e+04, 7.64062075e+04]),\n",
       " <BarContainer object of 10 artists>)"
      ]
     },
     "execution_count": 18,
     "metadata": {},
     "output_type": "execute_result"
    },
    {
     "data": {
      "image/png": "[encoded data removed]",
      "text/plain": [
       "<Figure size 1440x1080 with 1 Axes>"
      ]
     },
     "metadata": {},
     "output_type": "display_data"
    }
   ],
   "source": [
    "# Your code here\n",
    "print(cc_holders[\"MINIMUM_PAYMENTS\"].isna().sum() / len(cc_holders[\"MINIMUM_PAYMENTS\"]))\n",
    "plt.hist(cc_holders[\"MINIMUM_PAYMENTS\"])"
   ]
  },
  {
   "cell_type": "code",
   "execution_count": 19,
   "metadata": {
    "ExecuteTime": {
     "end_time": "2022-03-24T03:58:11.267281Z",
     "start_time": "2022-03-24T03:58:11.083249Z"
    }
   },
   "outputs": [
    {
     "data": {
      "text/plain": [
       "(array([4.583e+03, 2.095e+03, 1.326e+03, 5.780e+02, 2.150e+02, 1.090e+02,\n",
       "        3.300e+01, 6.000e+00, 1.000e+00, 3.000e+00]),\n",
       " array([   50.,  3045.,  6040.,  9035., 12030., 15025., 18020., 21015.,\n",
       "        24010., 27005., 30000.]),\n",
       " <BarContainer object of 10 artists>)"
      ]
     },
     "execution_count": 19,
     "metadata": {},
     "output_type": "execute_result"
    },
    {
     "data": {
      "image/png": "[encoded data removed]",
      "text/plain": [
       "<Figure size 1440x1080 with 1 Axes>"
      ]
     },
     "metadata": {},
     "output_type": "display_data"
    }
   ],
   "source": [
    "plt.hist(cc_holders[\"CREDIT_LIMIT\"])"
   ]
  },
  {
   "cell_type": "markdown",
   "metadata": {},
   "source": [
    "I think it is reasonable to replace the missing values by the medium, since the missing values are only taking a very small component in our sample, and the distribution of data seems to be concentrated as shown in the histogram above."
   ]
  },
  {
   "cell_type": "code",
   "execution_count": 20,
   "metadata": {
    "ExecuteTime": {
     "end_time": "2022-03-24T03:58:11.282784Z",
     "start_time": "2022-03-24T03:58:11.269282Z"
    },
    "id": "W0KrlAgEE0dl"
   },
   "outputs": [],
   "source": [
    "# Your code here\n",
    "cc_holders[\"MINIMUM_PAYMENTS\"].fillna(cc_holders[\"MINIMUM_PAYMENTS\"].median(), inplace=True)\n",
    "cc_holders[\"CREDIT_LIMIT\"].fillna(cc_holders[\"CREDIT_LIMIT\"].median(), inplace=True)"
   ]
  },
  {
   "cell_type": "markdown",
   "metadata": {
    "id": "eaP-n0f2NpTi"
   },
   "source": [
    "2.12 Check if there are any missing values left"
   ]
  },
  {
   "cell_type": "code",
   "execution_count": 21,
   "metadata": {
    "ExecuteTime": {
     "end_time": "2022-03-24T03:58:11.298287Z",
     "start_time": "2022-03-24T03:58:11.283784Z"
    },
    "colab": {
     "base_uri": "https://localhost:8080/"
    },
    "id": "inXBswqzFEUl",
    "outputId": "cedbc9a3-3714-4d37-e4ba-338bcbb5daac"
   },
   "outputs": [
    {
     "data": {
      "text/plain": [
       "0"
      ]
     },
     "execution_count": 21,
     "metadata": {},
     "output_type": "execute_result"
    }
   ],
   "source": [
    "# Your code here\n",
    "cc_holders.isna().sum().sum()"
   ]
  },
  {
   "cell_type": "markdown",
   "metadata": {
    "id": "v5aNPluHNtde"
   },
   "source": [
    "2.13 Drop the CUST_ID column. And why do we do so?\n",
    "\n",
    "*Your answer here*\n",
    "\n",
    "Because the variable **CUST_ID** are full of strings which are irrelavant to our task and purpose."
   ]
  },
  {
   "cell_type": "code",
   "execution_count": 22,
   "metadata": {
    "ExecuteTime": {
     "end_time": "2022-03-24T03:58:11.313789Z",
     "start_time": "2022-03-24T03:58:11.300788Z"
    },
    "id": "GKJbWhlCGsRG"
   },
   "outputs": [],
   "source": [
    "# Your code here\n",
    "del cc_holders[\"CUST_ID\"]"
   ]
  },
  {
   "cell_type": "markdown",
   "metadata": {
    "id": "oBSEQfXDN6O3"
   },
   "source": [
    "2.14 Using the standard scaler, scale the data. Again, why do we do so?\n",
    "\n",
    "*Your answer here*\n",
    "\n",
    "Using the standard scaler to convert the data to a standard range from their natural range. It also helps the model converge faster, and help the model learn appropriate weights for each features."
   ]
  },
  {
   "cell_type": "code",
   "execution_count": 23,
   "metadata": {
    "ExecuteTime": {
     "end_time": "2022-03-24T03:58:11.344795Z",
     "start_time": "2022-03-24T03:58:11.315790Z"
    },
    "id": "1B4IauldGhWP",
    "scrolled": false
   },
   "outputs": [
    {
     "data": {
      "text/html": [
       "<div>\n",
       "<style scoped>\n",
       "    .dataframe tbody tr th:only-of-type {\n",
       "        vertical-align: middle;\n",
       "    }\n",
       "\n",
       "    .dataframe tbody tr th {\n",
       "        vertical-align: top;\n",
       "    }\n",
       "\n",
       "    .dataframe thead th {\n",
       "        text-align: right;\n",
       "    }\n",
       "</style>\n",
       "<table border=\"1\" class=\"dataframe\">\n",
       "  <thead>\n",
       "    <tr style=\"text-align: right;\">\n",
       "      <th></th>\n",
       "      <th>BALANCE</th>\n",
       "      <th>BALANCE_FREQUENCY</th>\n",
       "      <th>PURCHASES</th>\n",
       "      <th>ONEOFF_PURCHASES</th>\n",
       "      <th>INSTALLMENTS_PURCHASES</th>\n",
       "      <th>CASH_ADVANCE</th>\n",
       "      <th>PURCHASES_FREQUENCY</th>\n",
       "      <th>ONEOFF_PURCHASES_FREQUENCY</th>\n",
       "      <th>PURCHASES_INSTALLMENTS_FREQUENCY</th>\n",
       "      <th>CASH_ADVANCE_FREQUENCY</th>\n",
       "      <th>CASH_ADVANCE_TRX</th>\n",
       "      <th>PURCHASES_TRX</th>\n",
       "      <th>CREDIT_LIMIT</th>\n",
       "      <th>PAYMENTS</th>\n",
       "      <th>MINIMUM_PAYMENTS</th>\n",
       "      <th>PRC_FULL_PAYMENT</th>\n",
       "      <th>TENURE</th>\n",
       "    </tr>\n",
       "  </thead>\n",
       "  <tbody>\n",
       "    <tr>\n",
       "      <th>0</th>\n",
       "      <td>-0.731989</td>\n",
       "      <td>-0.249434</td>\n",
       "      <td>-0.424900</td>\n",
       "      <td>-0.356934</td>\n",
       "      <td>-0.349079</td>\n",
       "      <td>-0.466786</td>\n",
       "      <td>-0.806490</td>\n",
       "      <td>-0.678661</td>\n",
       "      <td>-0.707313</td>\n",
       "      <td>-0.675349</td>\n",
       "      <td>-0.476070</td>\n",
       "      <td>-0.511333</td>\n",
       "      <td>-0.960378</td>\n",
       "      <td>-0.528979</td>\n",
       "      <td>-0.302400</td>\n",
       "      <td>-0.525551</td>\n",
       "      <td>0.360680</td>\n",
       "    </tr>\n",
       "    <tr>\n",
       "      <th>1</th>\n",
       "      <td>0.786961</td>\n",
       "      <td>0.134325</td>\n",
       "      <td>-0.469552</td>\n",
       "      <td>-0.356934</td>\n",
       "      <td>-0.454576</td>\n",
       "      <td>2.605605</td>\n",
       "      <td>-1.221758</td>\n",
       "      <td>-0.678661</td>\n",
       "      <td>-0.916995</td>\n",
       "      <td>0.573963</td>\n",
       "      <td>0.110074</td>\n",
       "      <td>-0.591796</td>\n",
       "      <td>0.688678</td>\n",
       "      <td>0.818642</td>\n",
       "      <td>0.097500</td>\n",
       "      <td>0.234227</td>\n",
       "      <td>0.360680</td>\n",
       "    </tr>\n",
       "    <tr>\n",
       "      <th>2</th>\n",
       "      <td>0.447135</td>\n",
       "      <td>0.518084</td>\n",
       "      <td>-0.107668</td>\n",
       "      <td>0.108889</td>\n",
       "      <td>-0.454576</td>\n",
       "      <td>-0.466786</td>\n",
       "      <td>1.269843</td>\n",
       "      <td>2.673451</td>\n",
       "      <td>-0.916995</td>\n",
       "      <td>-0.675349</td>\n",
       "      <td>-0.476070</td>\n",
       "      <td>-0.109020</td>\n",
       "      <td>0.826100</td>\n",
       "      <td>-0.383805</td>\n",
       "      <td>-0.093293</td>\n",
       "      <td>-0.525551</td>\n",
       "      <td>0.360680</td>\n",
       "    </tr>\n",
       "    <tr>\n",
       "      <th>3</th>\n",
       "      <td>0.049099</td>\n",
       "      <td>-1.016953</td>\n",
       "      <td>0.232058</td>\n",
       "      <td>0.546189</td>\n",
       "      <td>-0.454576</td>\n",
       "      <td>-0.368653</td>\n",
       "      <td>-1.014125</td>\n",
       "      <td>-0.399319</td>\n",
       "      <td>-0.916995</td>\n",
       "      <td>-0.258913</td>\n",
       "      <td>-0.329534</td>\n",
       "      <td>-0.551565</td>\n",
       "      <td>0.826100</td>\n",
       "      <td>-0.598688</td>\n",
       "      <td>-0.228307</td>\n",
       "      <td>-0.525551</td>\n",
       "      <td>0.360680</td>\n",
       "    </tr>\n",
       "    <tr>\n",
       "      <th>4</th>\n",
       "      <td>-0.358775</td>\n",
       "      <td>0.518084</td>\n",
       "      <td>-0.462063</td>\n",
       "      <td>-0.347294</td>\n",
       "      <td>-0.454576</td>\n",
       "      <td>-0.466786</td>\n",
       "      <td>-1.014125</td>\n",
       "      <td>-0.399319</td>\n",
       "      <td>-0.916995</td>\n",
       "      <td>-0.675349</td>\n",
       "      <td>-0.476070</td>\n",
       "      <td>-0.551565</td>\n",
       "      <td>-0.905410</td>\n",
       "      <td>-0.364368</td>\n",
       "      <td>-0.257266</td>\n",
       "      <td>-0.525551</td>\n",
       "      <td>0.360680</td>\n",
       "    </tr>\n",
       "    <tr>\n",
       "      <th>...</th>\n",
       "      <td>...</td>\n",
       "      <td>...</td>\n",
       "      <td>...</td>\n",
       "      <td>...</td>\n",
       "      <td>...</td>\n",
       "      <td>...</td>\n",
       "      <td>...</td>\n",
       "      <td>...</td>\n",
       "      <td>...</td>\n",
       "      <td>...</td>\n",
       "      <td>...</td>\n",
       "      <td>...</td>\n",
       "      <td>...</td>\n",
       "      <td>...</td>\n",
       "      <td>...</td>\n",
       "      <td>...</td>\n",
       "      <td>...</td>\n",
       "    </tr>\n",
       "    <tr>\n",
       "      <th>8945</th>\n",
       "      <td>-0.737950</td>\n",
       "      <td>0.518084</td>\n",
       "      <td>-0.333293</td>\n",
       "      <td>-0.356934</td>\n",
       "      <td>-0.132643</td>\n",
       "      <td>-0.466786</td>\n",
       "      <td>1.269843</td>\n",
       "      <td>-0.678661</td>\n",
       "      <td>1.179833</td>\n",
       "      <td>-0.675349</td>\n",
       "      <td>-0.476070</td>\n",
       "      <td>-0.350408</td>\n",
       "      <td>-0.960378</td>\n",
       "      <td>-0.486217</td>\n",
       "      <td>-0.341250</td>\n",
       "      <td>1.183951</td>\n",
       "      <td>-4.122768</td>\n",
       "    </tr>\n",
       "    <tr>\n",
       "      <th>8946</th>\n",
       "      <td>-0.742423</td>\n",
       "      <td>0.518084</td>\n",
       "      <td>-0.329136</td>\n",
       "      <td>-0.356934</td>\n",
       "      <td>-0.122823</td>\n",
       "      <td>-0.466786</td>\n",
       "      <td>1.269843</td>\n",
       "      <td>-0.678661</td>\n",
       "      <td>1.179833</td>\n",
       "      <td>-0.675349</td>\n",
       "      <td>-0.476070</td>\n",
       "      <td>-0.350408</td>\n",
       "      <td>-0.960378</td>\n",
       "      <td>-0.503396</td>\n",
       "      <td>-0.228307</td>\n",
       "      <td>-0.525551</td>\n",
       "      <td>-4.122768</td>\n",
       "    </tr>\n",
       "    <tr>\n",
       "      <th>8947</th>\n",
       "      <td>-0.740398</td>\n",
       "      <td>-0.185477</td>\n",
       "      <td>-0.401965</td>\n",
       "      <td>-0.356934</td>\n",
       "      <td>-0.294893</td>\n",
       "      <td>-0.466786</td>\n",
       "      <td>0.854576</td>\n",
       "      <td>-0.678661</td>\n",
       "      <td>0.760469</td>\n",
       "      <td>-0.675349</td>\n",
       "      <td>-0.476070</td>\n",
       "      <td>-0.390639</td>\n",
       "      <td>-0.960378</td>\n",
       "      <td>-0.570615</td>\n",
       "      <td>-0.326875</td>\n",
       "      <td>0.329200</td>\n",
       "      <td>-4.122768</td>\n",
       "    </tr>\n",
       "    <tr>\n",
       "      <th>8948</th>\n",
       "      <td>-0.745174</td>\n",
       "      <td>-0.185477</td>\n",
       "      <td>-0.469552</td>\n",
       "      <td>-0.356934</td>\n",
       "      <td>-0.454576</td>\n",
       "      <td>-0.449352</td>\n",
       "      <td>-1.221758</td>\n",
       "      <td>-0.678661</td>\n",
       "      <td>-0.916995</td>\n",
       "      <td>0.157527</td>\n",
       "      <td>-0.182998</td>\n",
       "      <td>-0.591796</td>\n",
       "      <td>-1.097800</td>\n",
       "      <td>-0.580536</td>\n",
       "      <td>-0.338305</td>\n",
       "      <td>0.329200</td>\n",
       "      <td>-4.122768</td>\n",
       "    </tr>\n",
       "    <tr>\n",
       "      <th>8949</th>\n",
       "      <td>-0.572575</td>\n",
       "      <td>-0.889033</td>\n",
       "      <td>0.042146</td>\n",
       "      <td>0.301732</td>\n",
       "      <td>-0.454576</td>\n",
       "      <td>-0.406205</td>\n",
       "      <td>0.439310</td>\n",
       "      <td>1.556082</td>\n",
       "      <td>-0.916995</td>\n",
       "      <td>0.990398</td>\n",
       "      <td>-0.182998</td>\n",
       "      <td>0.333524</td>\n",
       "      <td>-0.905410</td>\n",
       "      <td>-0.576869</td>\n",
       "      <td>-0.324358</td>\n",
       "      <td>-0.525551</td>\n",
       "      <td>-4.122768</td>\n",
       "    </tr>\n",
       "  </tbody>\n",
       "</table>\n",
       "<p>8950 rows × 17 columns</p>\n",
       "</div>"
      ],
      "text/plain": [
       "       BALANCE  BALANCE_FREQUENCY  PURCHASES  ONEOFF_PURCHASES  \\\n",
       "0    -0.731989          -0.249434  -0.424900         -0.356934   \n",
       "1     0.786961           0.134325  -0.469552         -0.356934   \n",
       "2     0.447135           0.518084  -0.107668          0.108889   \n",
       "3     0.049099          -1.016953   0.232058          0.546189   \n",
       "4    -0.358775           0.518084  -0.462063         -0.347294   \n",
       "...        ...                ...        ...               ...   \n",
       "8945 -0.737950           0.518084  -0.333293         -0.356934   \n",
       "8946 -0.742423           0.518084  -0.329136         -0.356934   \n",
       "8947 -0.740398          -0.185477  -0.401965         -0.356934   \n",
       "8948 -0.745174          -0.185477  -0.469552         -0.356934   \n",
       "8949 -0.572575          -0.889033   0.042146          0.301732   \n",
       "\n",
       "      INSTALLMENTS_PURCHASES  CASH_ADVANCE  PURCHASES_FREQUENCY  \\\n",
       "0                  -0.349079     -0.466786            -0.806490   \n",
       "1                  -0.454576      2.605605            -1.221758   \n",
       "2                  -0.454576     -0.466786             1.269843   \n",
       "3                  -0.454576     -0.368653            -1.014125   \n",
       "4                  -0.454576     -0.466786            -1.014125   \n",
       "...                      ...           ...                  ...   \n",
       "8945               -0.132643     -0.466786             1.269843   \n",
       "8946               -0.122823     -0.466786             1.269843   \n",
       "8947               -0.294893     -0.466786             0.854576   \n",
       "8948               -0.454576     -0.449352            -1.221758   \n",
       "8949               -0.454576     -0.406205             0.439310   \n",
       "\n",
       "      ONEOFF_PURCHASES_FREQUENCY  PURCHASES_INSTALLMENTS_FREQUENCY  \\\n",
       "0                      -0.678661                         -0.707313   \n",
       "1                      -0.678661                         -0.916995   \n",
       "2                       2.673451                         -0.916995   \n",
       "3                      -0.399319                         -0.916995   \n",
       "4                      -0.399319                         -0.916995   \n",
       "...                          ...                               ...   \n",
       "8945                   -0.678661                          1.179833   \n",
       "8946                   -0.678661                          1.179833   \n",
       "8947                   -0.678661                          0.760469   \n",
       "8948                   -0.678661                         -0.916995   \n",
       "8949                    1.556082                         -0.916995   \n",
       "\n",
       "      CASH_ADVANCE_FREQUENCY  CASH_ADVANCE_TRX  PURCHASES_TRX  CREDIT_LIMIT  \\\n",
       "0                  -0.675349         -0.476070      -0.511333     -0.960378   \n",
       "1                   0.573963          0.110074      -0.591796      0.688678   \n",
       "2                  -0.675349         -0.476070      -0.109020      0.826100   \n",
       "3                  -0.258913         -0.329534      -0.551565      0.826100   \n",
       "4                  -0.675349         -0.476070      -0.551565     -0.905410   \n",
       "...                      ...               ...            ...           ...   \n",
       "8945               -0.675349         -0.476070      -0.350408     -0.960378   \n",
       "8946               -0.675349         -0.476070      -0.350408     -0.960378   \n",
       "8947               -0.675349         -0.476070      -0.390639     -0.960378   \n",
       "8948                0.157527         -0.182998      -0.591796     -1.097800   \n",
       "8949                0.990398         -0.182998       0.333524     -0.905410   \n",
       "\n",
       "      PAYMENTS  MINIMUM_PAYMENTS  PRC_FULL_PAYMENT    TENURE  \n",
       "0    -0.528979         -0.302400         -0.525551  0.360680  \n",
       "1     0.818642          0.097500          0.234227  0.360680  \n",
       "2    -0.383805         -0.093293         -0.525551  0.360680  \n",
       "3    -0.598688         -0.228307         -0.525551  0.360680  \n",
       "4    -0.364368         -0.257266         -0.525551  0.360680  \n",
       "...        ...               ...               ...       ...  \n",
       "8945 -0.486217         -0.341250          1.183951 -4.122768  \n",
       "8946 -0.503396         -0.228307         -0.525551 -4.122768  \n",
       "8947 -0.570615         -0.326875          0.329200 -4.122768  \n",
       "8948 -0.580536         -0.338305          0.329200 -4.122768  \n",
       "8949 -0.576869         -0.324358         -0.525551 -4.122768  \n",
       "\n",
       "[8950 rows x 17 columns]"
      ]
     },
     "execution_count": 23,
     "metadata": {},
     "output_type": "execute_result"
    }
   ],
   "source": [
    "# Your code here\n",
    "scaled_data = pd.DataFrame(StandardScaler().fit_transform(cc_holders))\n",
    "scaled_data.columns = cc_holders.columns\n",
    "scaled_data"
   ]
  },
  {
   "cell_type": "markdown",
   "metadata": {
    "id": "zLnj96oyOLaZ"
   },
   "source": [
    "2.15 By doing PCA, naturally, we can explain more variance if we allow more components. \n",
    "\n",
    "Plot the explained variance over the number of components and decide on a reasonable number of components."
   ]
  },
  {
   "cell_type": "code",
   "execution_count": 24,
   "metadata": {
    "ExecuteTime": {
     "end_time": "2022-03-24T03:58:11.902893Z",
     "start_time": "2022-03-24T03:58:11.346296Z"
    },
    "colab": {
     "base_uri": "https://localhost:8080/",
     "height": 883
    },
    "id": "bBT_brQvJjxT",
    "outputId": "91889a87-2dc1-40d0-e4b9-7699c7a2ebd5"
   },
   "outputs": [
    {
     "data": {
      "text/plain": [
       "<AxesSubplot:xlabel='# of components'>"
      ]
     },
     "execution_count": 24,
     "metadata": {},
     "output_type": "execute_result"
    },
    {
     "data": {
      "image/png": "[encoded data removed]",
      "text/plain": [
       "<Figure size 1440x1080 with 1 Axes>"
      ]
     },
     "metadata": {},
     "output_type": "display_data"
    }
   ],
   "source": [
    "# Your code here\n",
    "explained_var = []\n",
    "for num in range(cc_holders.shape[1] + 1):\n",
    "    pca = PCA(num)\n",
    "    pca.fit(scaled_data)\n",
    "    explained_var.append([num, sum(pca.explained_variance_ratio_)])\n",
    "    \n",
    "pd.DataFrame(\n",
    "    explained_var, columns=[\"# of components\", \"Explained variance\"]).set_index(\"# of components\").plot()"
   ]
  },
  {
   "cell_type": "markdown",
   "metadata": {},
   "source": [
    "The plot above shows that the proportions of variance the model can explain, by taking different number of components."
   ]
  },
  {
   "cell_type": "markdown",
   "metadata": {
    "id": "qgXuhUOZO8yp"
   },
   "source": [
    "2.16 Perform PCA with your chosen number of components and print out the explained variances by each component. When looking back at our EDA, why do we need so many components?\n",
    "\n",
    "Because we actually have many aspects to explain the distribution and statistics of our data, such as purchases and balance, and our model will fail if we cannot explain a sufficient proportion of variances."
   ]
  },
  {
   "cell_type": "code",
   "execution_count": 25,
   "metadata": {
    "ExecuteTime": {
     "end_time": "2022-03-24T03:58:11.933898Z",
     "start_time": "2022-03-24T03:58:11.904894Z"
    },
    "colab": {
     "base_uri": "https://localhost:8080/"
    },
    "id": "7x9vbDQEFv6q",
    "outputId": "b05005bf-0bcc-49ba-fc6f-27fa20dcaccc"
   },
   "outputs": [
    {
     "name": "stdout",
     "output_type": "stream",
     "text": [
      "Variance explained: [0.27297671 0.2031378  0.08813182 0.07479524 0.06224729 0.05740056\n",
      " 0.04883426 0.04299203 0.03798259 0.03080002]\n"
     ]
    }
   ],
   "source": [
    "# Your code here\n",
    "pca = PCA(10)\n",
    "pca.fit(scaled_data)\n",
    "print(f\"Variance explained: {pca.explained_variance_ratio_}\")"
   ]
  },
  {
   "cell_type": "markdown",
   "metadata": {
    "id": "HU8usK5lPPO-"
   },
   "source": [
    "2.17 Plot the observations following PC1 and PC2"
   ]
  },
  {
   "cell_type": "code",
   "execution_count": 26,
   "metadata": {
    "ExecuteTime": {
     "end_time": "2022-03-24T03:58:12.119931Z",
     "start_time": "2022-03-24T03:58:11.935399Z"
    },
    "colab": {
     "base_uri": "https://localhost:8080/",
     "height": 883
    },
    "id": "gBCmSoifILMo",
    "outputId": "7a5cd26d-6931-4870-ba52-c38610a75c8d"
   },
   "outputs": [
    {
     "data": {
      "text/plain": [
       "<matplotlib.collections.PathCollection at 0x1f992b23ac0>"
      ]
     },
     "execution_count": 26,
     "metadata": {},
     "output_type": "execute_result"
    },
    {
     "data": {
      "image/png": "[encoded data removed]",
      "text/plain": [
       "<Figure size 1440x1080 with 1 Axes>"
      ]
     },
     "metadata": {},
     "output_type": "display_data"
    }
   ],
   "source": [
    "# Your code here\n",
    "pc = pd.DataFrame(pca.components_.T, columns = [\"PC\"+str(i) for i in range(1,11)])\n",
    "plt.scatter(pc[\"PC1\"], pc[\"PC2\"])"
   ]
  },
  {
   "cell_type": "markdown",
   "metadata": {
    "id": "GkRhUIMdPf_c"
   },
   "source": [
    "2.18 You have learnt in class, that a well-known measure to find a good number of clusters is Inertia. Following the lecture notes, plot the inertia graph for 1-19 clusters"
   ]
  },
  {
   "cell_type": "code",
   "execution_count": 27,
   "metadata": {
    "ExecuteTime": {
     "end_time": "2022-03-24T03:58:17.840440Z",
     "start_time": "2022-03-24T03:58:12.121431Z"
    },
    "id": "auU0JQMQGX38"
   },
   "outputs": [],
   "source": [
    "# Your code here\n",
    "res = []\n",
    "for num in range(1, 20):\n",
    "    clf = KMeans(n_clusters=num)\n",
    "    clf.fit(cc_holders)\n",
    "    res.append([num, clf.inertia_])\n",
    "\n",
    "inertia_df = pd.DataFrame(res, columns=[\"# of clusters\", \"Inertia\"]).set_index(\"# of clusters\")"
   ]
  },
  {
   "cell_type": "code",
   "execution_count": 28,
   "metadata": {
    "ExecuteTime": {
     "end_time": "2022-03-24T03:58:18.057478Z",
     "start_time": "2022-03-24T03:58:17.846942Z"
    },
    "colab": {
     "base_uri": "https://localhost:8080/",
     "height": 883
    },
    "id": "NQUFYHPgLYW5",
    "outputId": "257d33a4-e71e-4842-f5e5-dd2e13f8ee34"
   },
   "outputs": [
    {
     "data": {
      "text/plain": [
       "[<matplotlib.lines.Line2D at 0x1f994ee1490>]"
      ]
     },
     "execution_count": 28,
     "metadata": {},
     "output_type": "execute_result"
    },
    {
     "data": {
      "image/png": "[encoded data removed]",
      "text/plain": [
       "<Figure size 1440x1080 with 1 Axes>"
      ]
     },
     "metadata": {},
     "output_type": "display_data"
    }
   ],
   "source": [
    "# The code for the plot here\n",
    "plt.figure()\n",
    "\n",
    "plt.plot(inertia_df, \"o\", color = \"blue\")\n",
    "plt.plot(inertia_df, color = \"blue\")"
   ]
  },
  {
   "cell_type": "markdown",
   "metadata": {
    "id": "4TjFX9y2P2Xw"
   },
   "source": [
    "2.19 Using inertia, we have found the right number of clusters for our use case. Now fit the model and plot the outcome."
   ]
  },
  {
   "cell_type": "code",
   "execution_count": 29,
   "metadata": {
    "ExecuteTime": {
     "end_time": "2022-03-24T03:58:18.072981Z",
     "start_time": "2022-03-24T03:58:18.058978Z"
    },
    "id": "yqo3APg7Lftl"
   },
   "outputs": [],
   "source": [
    "# Your code here\n",
    "clf = KMeans(n_clusters=6)"
   ]
  },
  {
   "cell_type": "code",
   "execution_count": 30,
   "metadata": {
    "ExecuteTime": {
     "end_time": "2022-03-24T03:58:18.274517Z",
     "start_time": "2022-03-24T03:58:18.074481Z"
    },
    "id": "I0Wj7Iz3MffD"
   },
   "outputs": [
    {
     "data": {
      "text/plain": [
       "KMeans(n_clusters=6)"
      ]
     },
     "execution_count": 30,
     "metadata": {},
     "output_type": "execute_result"
    }
   ],
   "source": [
    "# Your code here\n",
    "clf.fit(cc_holders)"
   ]
  },
  {
   "cell_type": "code",
   "execution_count": 31,
   "metadata": {
    "ExecuteTime": {
     "end_time": "2022-03-24T03:58:18.290019Z",
     "start_time": "2022-03-24T03:58:18.276017Z"
    },
    "colab": {
     "base_uri": "https://localhost:8080/"
    },
    "id": "0SNsxvvLNCAc",
    "outputId": "40a1f635-2fde-4df0-a445-51e81a2a08ba"
   },
   "outputs": [
    {
     "name": "stdout",
     "output_type": "stream",
     "text": [
      "[4 1 1 ... 4 4 4]\n"
     ]
    }
   ],
   "source": [
    "# Print out the clusters\n",
    "print(clf.labels_)"
   ]
  },
  {
   "cell_type": "code",
   "execution_count": 32,
   "metadata": {
    "ExecuteTime": {
     "end_time": "2022-03-24T04:32:16.258084Z",
     "start_time": "2022-03-24T04:32:16.246082Z"
    }
   },
   "outputs": [
    {
     "data": {
      "text/plain": [
       "59.0"
      ]
     },
     "execution_count": 32,
     "metadata": {},
     "output_type": "execute_result"
    }
   ],
   "source": [
    "50*0.35 + 80*0.35 + 225/5*0.3"
   ]
  },
  {
   "cell_type": "code",
   "execution_count": null,
   "metadata": {},
   "outputs": [],
   "source": []
  }
 ],
 "metadata": {
  "colab": {
   "collapsed_sections": [],
   "name": "MLFinanceHW3.ipynb",
   "provenance": []
  },
  "kernelspec": {
   "display_name": "Python 3 (ipykernel)",
   "language": "python",
   "name": "python3"
  },
  "language_info": {
   "codemirror_mode": {
    "name": "ipython",
    "version": 3
   },
   "file_extension": ".py",
   "mimetype": "text/x-python",
   "name": "python",
   "nbconvert_exporter": "python",
   "pygments_lexer": "ipython3",
   "version": "3.9.12"
  },
  "toc": {
   "base_numbering": 1,
   "nav_menu": {},
   "number_sections": false,
   "sideBar": true,
   "skip_h1_title": true,
   "title_cell": "Table of Contents",
   "title_sidebar": "Contents",
   "toc_cell": false,
   "toc_position": {},
   "toc_section_display": true,
   "toc_window_display": false
  },
  "varInspector": {
   "cols": {
    "lenName": 16,
    "lenType": 16,
    "lenVar": 40
   },
   "kernels_config": {
    "python": {
     "delete_cmd_postfix": "",
     "delete_cmd_prefix": "del ",
     "library": "var_list.py",
     "varRefreshCmd": "print(var_dic_list())"
    },
    "r": {
     "delete_cmd_postfix": ") ",
     "delete_cmd_prefix": "rm(",
     "library": "var_list.r",
     "varRefreshCmd": "cat(var_dic_list()) "
    }
   },
   "types_to_exclude": [
    "module",
    "function",
    "builtin_function_or_method",
    "instance",
    "_Feature"
   ],
   "window_display": false
  },
  "widgets": {
   "application/vnd.jupyter.widget-state+json": {
    "0d5a16f7d96e4a3eaaab91f4c1ab98a8": {
     "model_module": "@jupyter-widgets/controls",
     "model_module_version": "1.5.0",
     "model_name": "ProgressStyleModel",
     "state": {
      "_model_module": "@jupyter-widgets/controls",
      "_model_module_version": "1.5.0",
      "_model_name": "ProgressStyleModel",
      "_view_count": null,
      "_view_module": "@jupyter-widgets/base",
      "_view_module_version": "1.2.0",
      "_view_name": "StyleView",
      "bar_color": null,
      "description_width": ""
     }
    },
    "0e83615c11024fb982aa68212da7dfc5": {
     "model_module": "@jupyter-widgets/controls",
     "model_module_version": "1.5.0",
     "model_name": "HBoxModel",
     "state": {
      "_dom_classes": [],
      "_model_module": "@jupyter-widgets/controls",
      "_model_module_version": "1.5.0",
      "_model_name": "HBoxModel",
      "_view_count": null,
      "_view_module": "@jupyter-widgets/controls",
      "_view_module_version": "1.5.0",
      "_view_name": "HBoxView",
      "box_style": "",
      "children": [
       "IPY_MODEL_ae2774dd7b844858ad61145acd7fb59b",
       "IPY_MODEL_aa54a8141ae84954aacc2d85bee650a4",
       "IPY_MODEL_f1c0ae40275f45df805bcf858165c077"
      ],
      "layout": "IPY_MODEL_c7a0eba1fd0e46e2836d0f7392196e41"
     }
    },
    "34af2df6560949ae93e1daad7bc56265": {
     "model_module": "@jupyter-widgets/base",
     "model_module_version": "1.2.0",
     "model_name": "LayoutModel",
     "state": {
      "_model_module": "@jupyter-widgets/base",
      "_model_module_version": "1.2.0",
      "_model_name": "LayoutModel",
      "_view_count": null,
      "_view_module": "@jupyter-widgets/base",
      "_view_module_version": "1.2.0",
      "_view_name": "LayoutView",
      "align_content": null,
      "align_items": null,
      "align_self": null,
      "border": null,
      "bottom": null,
      "display": null,
      "flex": null,
      "flex_flow": null,
      "grid_area": null,
      "grid_auto_columns": null,
      "grid_auto_flow": null,
      "grid_auto_rows": null,
      "grid_column": null,
      "grid_gap": null,
      "grid_row": null,
      "grid_template_areas": null,
      "grid_template_columns": null,
      "grid_template_rows": null,
      "height": null,
      "justify_content": null,
      "justify_items": null,
      "left": null,
      "margin": null,
      "max_height": null,
      "max_width": null,
      "min_height": null,
      "min_width": null,
      "object_fit": null,
      "object_position": null,
      "order": null,
      "overflow": null,
      "overflow_x": null,
      "overflow_y": null,
      "padding": null,
      "right": null,
      "top": null,
      "visibility": null,
      "width": null
     }
    },
    "44a42c89761741caa8fc6501ccb40492": {
     "model_module": "@jupyter-widgets/base",
     "model_module_version": "1.2.0",
     "model_name": "LayoutModel",
     "state": {
      "_model_module": "@jupyter-widgets/base",
      "_model_module_version": "1.2.0",
      "_model_name": "LayoutModel",
      "_view_count": null,
      "_view_module": "@jupyter-widgets/base",
      "_view_module_version": "1.2.0",
      "_view_name": "LayoutView",
      "align_content": null,
      "align_items": null,
      "align_self": null,
      "border": null,
      "bottom": null,
      "display": null,
      "flex": null,
      "flex_flow": null,
      "grid_area": null,
      "grid_auto_columns": null,
      "grid_auto_flow": null,
      "grid_auto_rows": null,
      "grid_column": null,
      "grid_gap": null,
      "grid_row": null,
      "grid_template_areas": null,
      "grid_template_columns": null,
      "grid_template_rows": null,
      "height": null,
      "justify_content": null,
      "justify_items": null,
      "left": null,
      "margin": null,
      "max_height": null,
      "max_width": null,
      "min_height": null,
      "min_width": null,
      "object_fit": null,
      "object_position": null,
      "order": null,
      "overflow": null,
      "overflow_x": null,
      "overflow_y": null,
      "padding": null,
      "right": null,
      "top": null,
      "visibility": null,
      "width": null
     }
    },
    "4fde5202886842769dc238479b6c0777": {
     "model_module": "@jupyter-widgets/controls",
     "model_module_version": "1.5.0",
     "model_name": "ProgressStyleModel",
     "state": {
      "_model_module": "@jupyter-widgets/controls",
      "_model_module_version": "1.5.0",
      "_model_name": "ProgressStyleModel",
      "_view_count": null,
      "_view_module": "@jupyter-widgets/base",
      "_view_module_version": "1.2.0",
      "_view_name": "StyleView",
      "bar_color": null,
      "description_width": ""
     }
    },
    "51f35ed64a704aa29e30c323f69cfdb2": {
     "model_module": "@jupyter-widgets/controls",
     "model_module_version": "1.5.0",
     "model_name": "HTMLModel",
     "state": {
      "_dom_classes": [],
      "_model_module": "@jupyter-widgets/controls",
      "_model_module_version": "1.5.0",
      "_model_name": "HTMLModel",
      "_view_count": null,
      "_view_module": "@jupyter-widgets/controls",
      "_view_module_version": "1.5.0",
      "_view_name": "HTMLView",
      "description": "",
      "description_tooltip": null,
      "layout": "IPY_MODEL_34af2df6560949ae93e1daad7bc56265",
      "placeholder": "​",
      "style": "IPY_MODEL_b35f148b5f5144fc914948fd4cb2da99",
      "value": " 419M/419M [00:16&lt;00:00, 22.2MB/s]"
     }
    },
    "6af7c9007e454c369388e1c51bea136a": {
     "model_module": "@jupyter-widgets/controls",
     "model_module_version": "1.5.0",
     "model_name": "DescriptionStyleModel",
     "state": {
      "_model_module": "@jupyter-widgets/controls",
      "_model_module_version": "1.5.0",
      "_model_name": "DescriptionStyleModel",
      "_view_count": null,
      "_view_module": "@jupyter-widgets/base",
      "_view_module_version": "1.2.0",
      "_view_name": "StyleView",
      "description_width": ""
     }
    },
    "741cbb167fb149079193b8f25cd5aa70": {
     "model_module": "@jupyter-widgets/base",
     "model_module_version": "1.2.0",
     "model_name": "LayoutModel",
     "state": {
      "_model_module": "@jupyter-widgets/base",
      "_model_module_version": "1.2.0",
      "_model_name": "LayoutModel",
      "_view_count": null,
      "_view_module": "@jupyter-widgets/base",
      "_view_module_version": "1.2.0",
      "_view_name": "LayoutView",
      "align_content": null,
      "align_items": null,
      "align_self": null,
      "border": null,
      "bottom": null,
      "display": null,
      "flex": null,
      "flex_flow": null,
      "grid_area": null,
      "grid_auto_columns": null,
      "grid_auto_flow": null,
      "grid_auto_rows": null,
      "grid_column": null,
      "grid_gap": null,
      "grid_row": null,
      "grid_template_areas": null,
      "grid_template_columns": null,
      "grid_template_rows": null,
      "height": null,
      "justify_content": null,
      "justify_items": null,
      "left": null,
      "margin": null,
      "max_height": null,
      "max_width": null,
      "min_height": null,
      "min_width": null,
      "object_fit": null,
      "object_position": null,
      "order": null,
      "overflow": null,
      "overflow_x": null,
      "overflow_y": null,
      "padding": null,
      "right": null,
      "top": null,
      "visibility": null,
      "width": null
     }
    },
    "79635e63ce864d4697c51c1393ffc74f": {
     "model_module": "@jupyter-widgets/controls",
     "model_module_version": "1.5.0",
     "model_name": "FloatProgressModel",
     "state": {
      "_dom_classes": [],
      "_model_module": "@jupyter-widgets/controls",
      "_model_module_version": "1.5.0",
      "_model_name": "FloatProgressModel",
      "_view_count": null,
      "_view_module": "@jupyter-widgets/controls",
      "_view_module_version": "1.5.0",
      "_view_name": "ProgressView",
      "bar_style": "success",
      "description": "",
      "description_tooltip": null,
      "layout": "IPY_MODEL_cd739feae99e406f85644be6525ab5f3",
      "max": 533,
      "min": 0,
      "orientation": "horizontal",
      "style": "IPY_MODEL_4fde5202886842769dc238479b6c0777",
      "value": 533
     }
    },
    "82271596fc294563bcadbca5c39ac580": {
     "model_module": "@jupyter-widgets/controls",
     "model_module_version": "1.5.0",
     "model_name": "HBoxModel",
     "state": {
      "_dom_classes": [],
      "_model_module": "@jupyter-widgets/controls",
      "_model_module_version": "1.5.0",
      "_model_name": "HBoxModel",
      "_view_count": null,
      "_view_module": "@jupyter-widgets/controls",
      "_view_module_version": "1.5.0",
      "_view_name": "HBoxView",
      "box_style": "",
      "children": [
       "IPY_MODEL_e35d7c9bd596447697a756a3e6e04b25",
       "IPY_MODEL_79635e63ce864d4697c51c1393ffc74f",
       "IPY_MODEL_d2ffdbac8978469da31e6c8359302799"
      ],
      "layout": "IPY_MODEL_d9d127402e004e3392641ba5c2e24b61"
     }
    },
    "82a303c2c1c74bd7b04944e2e800f15e": {
     "model_module": "@jupyter-widgets/controls",
     "model_module_version": "1.5.0",
     "model_name": "DescriptionStyleModel",
     "state": {
      "_model_module": "@jupyter-widgets/controls",
      "_model_module_version": "1.5.0",
      "_model_name": "DescriptionStyleModel",
      "_view_count": null,
      "_view_module": "@jupyter-widgets/base",
      "_view_module_version": "1.2.0",
      "_view_name": "StyleView",
      "description_width": ""
     }
    },
    "8c42299ed25b4ac1b27df316da7fe0bd": {
     "model_module": "@jupyter-widgets/controls",
     "model_module_version": "1.5.0",
     "model_name": "ProgressStyleModel",
     "state": {
      "_model_module": "@jupyter-widgets/controls",
      "_model_module_version": "1.5.0",
      "_model_name": "ProgressStyleModel",
      "_view_count": null,
      "_view_module": "@jupyter-widgets/base",
      "_view_module_version": "1.2.0",
      "_view_name": "StyleView",
      "bar_color": null,
      "description_width": ""
     }
    },
    "96608a291cef46c9ac61e5638c08954f": {
     "model_module": "@jupyter-widgets/base",
     "model_module_version": "1.2.0",
     "model_name": "LayoutModel",
     "state": {
      "_model_module": "@jupyter-widgets/base",
      "_model_module_version": "1.2.0",
      "_model_name": "LayoutModel",
      "_view_count": null,
      "_view_module": "@jupyter-widgets/base",
      "_view_module_version": "1.2.0",
      "_view_name": "LayoutView",
      "align_content": null,
      "align_items": null,
      "align_self": null,
      "border": null,
      "bottom": null,
      "display": null,
      "flex": null,
      "flex_flow": null,
      "grid_area": null,
      "grid_auto_columns": null,
      "grid_auto_flow": null,
      "grid_auto_rows": null,
      "grid_column": null,
      "grid_gap": null,
      "grid_row": null,
      "grid_template_areas": null,
      "grid_template_columns": null,
      "grid_template_rows": null,
      "height": null,
      "justify_content": null,
      "justify_items": null,
      "left": null,
      "margin": null,
      "max_height": null,
      "max_width": null,
      "min_height": null,
      "min_width": null,
      "object_fit": null,
      "object_position": null,
      "order": null,
      "overflow": null,
      "overflow_x": null,
      "overflow_y": null,
      "padding": null,
      "right": null,
      "top": null,
      "visibility": null,
      "width": null
     }
    },
    "995f0f24e5734d988cf5f1faafbc2570": {
     "model_module": "@jupyter-widgets/base",
     "model_module_version": "1.2.0",
     "model_name": "LayoutModel",
     "state": {
      "_model_module": "@jupyter-widgets/base",
      "_model_module_version": "1.2.0",
      "_model_name": "LayoutModel",
      "_view_count": null,
      "_view_module": "@jupyter-widgets/base",
      "_view_module_version": "1.2.0",
      "_view_name": "LayoutView",
      "align_content": null,
      "align_items": null,
      "align_self": null,
      "border": null,
      "bottom": null,
      "display": null,
      "flex": null,
      "flex_flow": null,
      "grid_area": null,
      "grid_auto_columns": null,
      "grid_auto_flow": null,
      "grid_auto_rows": null,
      "grid_column": null,
      "grid_gap": null,
      "grid_row": null,
      "grid_template_areas": null,
      "grid_template_columns": null,
      "grid_template_rows": null,
      "height": null,
      "justify_content": null,
      "justify_items": null,
      "left": null,
      "margin": null,
      "max_height": null,
      "max_width": null,
      "min_height": null,
      "min_width": null,
      "object_fit": null,
      "object_position": null,
      "order": null,
      "overflow": null,
      "overflow_x": null,
      "overflow_y": null,
      "padding": null,
      "right": null,
      "top": null,
      "visibility": null,
      "width": null
     }
    },
    "9eb45d49d40f46fa9ec91de659378712": {
     "model_module": "@jupyter-widgets/base",
     "model_module_version": "1.2.0",
     "model_name": "LayoutModel",
     "state": {
      "_model_module": "@jupyter-widgets/base",
      "_model_module_version": "1.2.0",
      "_model_name": "LayoutModel",
      "_view_count": null,
      "_view_module": "@jupyter-widgets/base",
      "_view_module_version": "1.2.0",
      "_view_name": "LayoutView",
      "align_content": null,
      "align_items": null,
      "align_self": null,
      "border": null,
      "bottom": null,
      "display": null,
      "flex": null,
      "flex_flow": null,
      "grid_area": null,
      "grid_auto_columns": null,
      "grid_auto_flow": null,
      "grid_auto_rows": null,
      "grid_column": null,
      "grid_gap": null,
      "grid_row": null,
      "grid_template_areas": null,
      "grid_template_columns": null,
      "grid_template_rows": null,
      "height": null,
      "justify_content": null,
      "justify_items": null,
      "left": null,
      "margin": null,
      "max_height": null,
      "max_width": null,
      "min_height": null,
      "min_width": null,
      "object_fit": null,
      "object_position": null,
      "order": null,
      "overflow": null,
      "overflow_x": null,
      "overflow_y": null,
      "padding": null,
      "right": null,
      "top": null,
      "visibility": null,
      "width": null
     }
    },
    "9f95ed79c2304214b9472e98ca52f694": {
     "model_module": "@jupyter-widgets/base",
     "model_module_version": "1.2.0",
     "model_name": "LayoutModel",
     "state": {
      "_model_module": "@jupyter-widgets/base",
      "_model_module_version": "1.2.0",
      "_model_name": "LayoutModel",
      "_view_count": null,
      "_view_module": "@jupyter-widgets/base",
      "_view_module_version": "1.2.0",
      "_view_name": "LayoutView",
      "align_content": null,
      "align_items": null,
      "align_self": null,
      "border": null,
      "bottom": null,
      "display": null,
      "flex": null,
      "flex_flow": null,
      "grid_area": null,
      "grid_auto_columns": null,
      "grid_auto_flow": null,
      "grid_auto_rows": null,
      "grid_column": null,
      "grid_gap": null,
      "grid_row": null,
      "grid_template_areas": null,
      "grid_template_columns": null,
      "grid_template_rows": null,
      "height": null,
      "justify_content": null,
      "justify_items": null,
      "left": null,
      "margin": null,
      "max_height": null,
      "max_width": null,
      "min_height": null,
      "min_width": null,
      "object_fit": null,
      "object_position": null,
      "order": null,
      "overflow": null,
      "overflow_x": null,
      "overflow_y": null,
      "padding": null,
      "right": null,
      "top": null,
      "visibility": null,
      "width": null
     }
    },
    "aa54a8141ae84954aacc2d85bee650a4": {
     "model_module": "@jupyter-widgets/controls",
     "model_module_version": "1.5.0",
     "model_name": "FloatProgressModel",
     "state": {
      "_dom_classes": [],
      "_model_module": "@jupyter-widgets/controls",
      "_model_module_version": "1.5.0",
      "_model_name": "FloatProgressModel",
      "_view_count": null,
      "_view_module": "@jupyter-widgets/controls",
      "_view_module_version": "1.5.0",
      "_view_name": "ProgressView",
      "bar_style": "success",
      "description": "",
      "description_tooltip": null,
      "layout": "IPY_MODEL_f613f5eadfba45d3855a2913d9475a10",
      "max": 226122,
      "min": 0,
      "orientation": "horizontal",
      "style": "IPY_MODEL_8c42299ed25b4ac1b27df316da7fe0bd",
      "value": 226122
     }
    },
    "ac1bf459aa0345b582ae0247e1777153": {
     "model_module": "@jupyter-widgets/base",
     "model_module_version": "1.2.0",
     "model_name": "LayoutModel",
     "state": {
      "_model_module": "@jupyter-widgets/base",
      "_model_module_version": "1.2.0",
      "_model_name": "LayoutModel",
      "_view_count": null,
      "_view_module": "@jupyter-widgets/base",
      "_view_module_version": "1.2.0",
      "_view_name": "LayoutView",
      "align_content": null,
      "align_items": null,
      "align_self": null,
      "border": null,
      "bottom": null,
      "display": null,
      "flex": null,
      "flex_flow": null,
      "grid_area": null,
      "grid_auto_columns": null,
      "grid_auto_flow": null,
      "grid_auto_rows": null,
      "grid_column": null,
      "grid_gap": null,
      "grid_row": null,
      "grid_template_areas": null,
      "grid_template_columns": null,
      "grid_template_rows": null,
      "height": null,
      "justify_content": null,
      "justify_items": null,
      "left": null,
      "margin": null,
      "max_height": null,
      "max_width": null,
      "min_height": null,
      "min_width": null,
      "object_fit": null,
      "object_position": null,
      "order": null,
      "overflow": null,
      "overflow_x": null,
      "overflow_y": null,
      "padding": null,
      "right": null,
      "top": null,
      "visibility": null,
      "width": null
     }
    },
    "ac8a16ba368c4bcabac74b42e418ab69": {
     "model_module": "@jupyter-widgets/controls",
     "model_module_version": "1.5.0",
     "model_name": "DescriptionStyleModel",
     "state": {
      "_model_module": "@jupyter-widgets/controls",
      "_model_module_version": "1.5.0",
      "_model_name": "DescriptionStyleModel",
      "_view_count": null,
      "_view_module": "@jupyter-widgets/base",
      "_view_module_version": "1.2.0",
      "_view_name": "StyleView",
      "description_width": ""
     }
    },
    "ae2774dd7b844858ad61145acd7fb59b": {
     "model_module": "@jupyter-widgets/controls",
     "model_module_version": "1.5.0",
     "model_name": "HTMLModel",
     "state": {
      "_dom_classes": [],
      "_model_module": "@jupyter-widgets/controls",
      "_model_module_version": "1.5.0",
      "_model_name": "HTMLModel",
      "_view_count": null,
      "_view_module": "@jupyter-widgets/controls",
      "_view_module_version": "1.5.0",
      "_view_name": "HTMLView",
      "description": "",
      "description_tooltip": null,
      "layout": "IPY_MODEL_9eb45d49d40f46fa9ec91de659378712",
      "placeholder": "​",
      "style": "IPY_MODEL_ac8a16ba368c4bcabac74b42e418ab69",
      "value": "Downloading: 100%"
     }
    },
    "b35f148b5f5144fc914948fd4cb2da99": {
     "model_module": "@jupyter-widgets/controls",
     "model_module_version": "1.5.0",
     "model_name": "DescriptionStyleModel",
     "state": {
      "_model_module": "@jupyter-widgets/controls",
      "_model_module_version": "1.5.0",
      "_model_name": "DescriptionStyleModel",
      "_view_count": null,
      "_view_module": "@jupyter-widgets/base",
      "_view_module_version": "1.2.0",
      "_view_name": "StyleView",
      "description_width": ""
     }
    },
    "c433ff3fbbe14ea5b76d1f96aee2b558": {
     "model_module": "@jupyter-widgets/controls",
     "model_module_version": "1.5.0",
     "model_name": "HBoxModel",
     "state": {
      "_dom_classes": [],
      "_model_module": "@jupyter-widgets/controls",
      "_model_module_version": "1.5.0",
      "_model_name": "HBoxModel",
      "_view_count": null,
      "_view_module": "@jupyter-widgets/controls",
      "_view_module_version": "1.5.0",
      "_view_name": "HBoxView",
      "box_style": "",
      "children": [
       "IPY_MODEL_f5424454414f467e8ca72d75d8e2330c",
       "IPY_MODEL_d10c79f9167a4737aeeb5c1b650a946b",
       "IPY_MODEL_51f35ed64a704aa29e30c323f69cfdb2"
      ],
      "layout": "IPY_MODEL_44a42c89761741caa8fc6501ccb40492"
     }
    },
    "c7a0eba1fd0e46e2836d0f7392196e41": {
     "model_module": "@jupyter-widgets/base",
     "model_module_version": "1.2.0",
     "model_name": "LayoutModel",
     "state": {
      "_model_module": "@jupyter-widgets/base",
      "_model_module_version": "1.2.0",
      "_model_name": "LayoutModel",
      "_view_count": null,
      "_view_module": "@jupyter-widgets/base",
      "_view_module_version": "1.2.0",
      "_view_name": "LayoutView",
      "align_content": null,
      "align_items": null,
      "align_self": null,
      "border": null,
      "bottom": null,
      "display": null,
      "flex": null,
      "flex_flow": null,
      "grid_area": null,
      "grid_auto_columns": null,
      "grid_auto_flow": null,
      "grid_auto_rows": null,
      "grid_column": null,
      "grid_gap": null,
      "grid_row": null,
      "grid_template_areas": null,
      "grid_template_columns": null,
      "grid_template_rows": null,
      "height": null,
      "justify_content": null,
      "justify_items": null,
      "left": null,
      "margin": null,
      "max_height": null,
      "max_width": null,
      "min_height": null,
      "min_width": null,
      "object_fit": null,
      "object_position": null,
      "order": null,
      "overflow": null,
      "overflow_x": null,
      "overflow_y": null,
      "padding": null,
      "right": null,
      "top": null,
      "visibility": null,
      "width": null
     }
    },
    "cc52192a5fca480ea9a45fe17522b6d5": {
     "model_module": "@jupyter-widgets/controls",
     "model_module_version": "1.5.0",
     "model_name": "DescriptionStyleModel",
     "state": {
      "_model_module": "@jupyter-widgets/controls",
      "_model_module_version": "1.5.0",
      "_model_name": "DescriptionStyleModel",
      "_view_count": null,
      "_view_module": "@jupyter-widgets/base",
      "_view_module_version": "1.2.0",
      "_view_name": "StyleView",
      "description_width": ""
     }
    },
    "cd739feae99e406f85644be6525ab5f3": {
     "model_module": "@jupyter-widgets/base",
     "model_module_version": "1.2.0",
     "model_name": "LayoutModel",
     "state": {
      "_model_module": "@jupyter-widgets/base",
      "_model_module_version": "1.2.0",
      "_model_name": "LayoutModel",
      "_view_count": null,
      "_view_module": "@jupyter-widgets/base",
      "_view_module_version": "1.2.0",
      "_view_name": "LayoutView",
      "align_content": null,
      "align_items": null,
      "align_self": null,
      "border": null,
      "bottom": null,
      "display": null,
      "flex": null,
      "flex_flow": null,
      "grid_area": null,
      "grid_auto_columns": null,
      "grid_auto_flow": null,
      "grid_auto_rows": null,
      "grid_column": null,
      "grid_gap": null,
      "grid_row": null,
      "grid_template_areas": null,
      "grid_template_columns": null,
      "grid_template_rows": null,
      "height": null,
      "justify_content": null,
      "justify_items": null,
      "left": null,
      "margin": null,
      "max_height": null,
      "max_width": null,
      "min_height": null,
      "min_width": null,
      "object_fit": null,
      "object_position": null,
      "order": null,
      "overflow": null,
      "overflow_x": null,
      "overflow_y": null,
      "padding": null,
      "right": null,
      "top": null,
      "visibility": null,
      "width": null
     }
    },
    "d10c79f9167a4737aeeb5c1b650a946b": {
     "model_module": "@jupyter-widgets/controls",
     "model_module_version": "1.5.0",
     "model_name": "FloatProgressModel",
     "state": {
      "_dom_classes": [],
      "_model_module": "@jupyter-widgets/controls",
      "_model_module_version": "1.5.0",
      "_model_name": "FloatProgressModel",
      "_view_count": null,
      "_view_module": "@jupyter-widgets/controls",
      "_view_module_version": "1.5.0",
      "_view_name": "ProgressView",
      "bar_style": "success",
      "description": "",
      "description_tooltip": null,
      "layout": "IPY_MODEL_9f95ed79c2304214b9472e98ca52f694",
      "max": 439101405,
      "min": 0,
      "orientation": "horizontal",
      "style": "IPY_MODEL_0d5a16f7d96e4a3eaaab91f4c1ab98a8",
      "value": 439101405
     }
    },
    "d2ffdbac8978469da31e6c8359302799": {
     "model_module": "@jupyter-widgets/controls",
     "model_module_version": "1.5.0",
     "model_name": "HTMLModel",
     "state": {
      "_dom_classes": [],
      "_model_module": "@jupyter-widgets/controls",
      "_model_module_version": "1.5.0",
      "_model_name": "HTMLModel",
      "_view_count": null,
      "_view_module": "@jupyter-widgets/controls",
      "_view_module_version": "1.5.0",
      "_view_name": "HTMLView",
      "description": "",
      "description_tooltip": null,
      "layout": "IPY_MODEL_ac1bf459aa0345b582ae0247e1777153",
      "placeholder": "​",
      "style": "IPY_MODEL_82a303c2c1c74bd7b04944e2e800f15e",
      "value": " 533/533 [00:00&lt;00:00, 10.4kB/s]"
     }
    },
    "d9d127402e004e3392641ba5c2e24b61": {
     "model_module": "@jupyter-widgets/base",
     "model_module_version": "1.2.0",
     "model_name": "LayoutModel",
     "state": {
      "_model_module": "@jupyter-widgets/base",
      "_model_module_version": "1.2.0",
      "_model_name": "LayoutModel",
      "_view_count": null,
      "_view_module": "@jupyter-widgets/base",
      "_view_module_version": "1.2.0",
      "_view_name": "LayoutView",
      "align_content": null,
      "align_items": null,
      "align_self": null,
      "border": null,
      "bottom": null,
      "display": null,
      "flex": null,
      "flex_flow": null,
      "grid_area": null,
      "grid_auto_columns": null,
      "grid_auto_flow": null,
      "grid_auto_rows": null,
      "grid_column": null,
      "grid_gap": null,
      "grid_row": null,
      "grid_template_areas": null,
      "grid_template_columns": null,
      "grid_template_rows": null,
      "height": null,
      "justify_content": null,
      "justify_items": null,
      "left": null,
      "margin": null,
      "max_height": null,
      "max_width": null,
      "min_height": null,
      "min_width": null,
      "object_fit": null,
      "object_position": null,
      "order": null,
      "overflow": null,
      "overflow_x": null,
      "overflow_y": null,
      "padding": null,
      "right": null,
      "top": null,
      "visibility": null,
      "width": null
     }
    },
    "e35d7c9bd596447697a756a3e6e04b25": {
     "model_module": "@jupyter-widgets/controls",
     "model_module_version": "1.5.0",
     "model_name": "HTMLModel",
     "state": {
      "_dom_classes": [],
      "_model_module": "@jupyter-widgets/controls",
      "_model_module_version": "1.5.0",
      "_model_name": "HTMLModel",
      "_view_count": null,
      "_view_module": "@jupyter-widgets/controls",
      "_view_module_version": "1.5.0",
      "_view_name": "HTMLView",
      "description": "",
      "description_tooltip": null,
      "layout": "IPY_MODEL_741cbb167fb149079193b8f25cd5aa70",
      "placeholder": "​",
      "style": "IPY_MODEL_e852e60cacf74ca39cc397965f350a5a",
      "value": "Downloading: 100%"
     }
    },
    "e852e60cacf74ca39cc397965f350a5a": {
     "model_module": "@jupyter-widgets/controls",
     "model_module_version": "1.5.0",
     "model_name": "DescriptionStyleModel",
     "state": {
      "_model_module": "@jupyter-widgets/controls",
      "_model_module_version": "1.5.0",
      "_model_name": "DescriptionStyleModel",
      "_view_count": null,
      "_view_module": "@jupyter-widgets/base",
      "_view_module_version": "1.2.0",
      "_view_name": "StyleView",
      "description_width": ""
     }
    },
    "f1c0ae40275f45df805bcf858165c077": {
     "model_module": "@jupyter-widgets/controls",
     "model_module_version": "1.5.0",
     "model_name": "HTMLModel",
     "state": {
      "_dom_classes": [],
      "_model_module": "@jupyter-widgets/controls",
      "_model_module_version": "1.5.0",
      "_model_name": "HTMLModel",
      "_view_count": null,
      "_view_module": "@jupyter-widgets/controls",
      "_view_module_version": "1.5.0",
      "_view_name": "HTMLView",
      "description": "",
      "description_tooltip": null,
      "layout": "IPY_MODEL_96608a291cef46c9ac61e5638c08954f",
      "placeholder": "​",
      "style": "IPY_MODEL_6af7c9007e454c369388e1c51bea136a",
      "value": " 221k/221k [00:00&lt;00:00, 4.24MB/s]"
     }
    },
    "f5424454414f467e8ca72d75d8e2330c": {
     "model_module": "@jupyter-widgets/controls",
     "model_module_version": "1.5.0",
     "model_name": "HTMLModel",
     "state": {
      "_dom_classes": [],
      "_model_module": "@jupyter-widgets/controls",
      "_model_module_version": "1.5.0",
      "_model_name": "HTMLModel",
      "_view_count": null,
      "_view_module": "@jupyter-widgets/controls",
      "_view_module_version": "1.5.0",
      "_view_name": "HTMLView",
      "description": "",
      "description_tooltip": null,
      "layout": "IPY_MODEL_995f0f24e5734d988cf5f1faafbc2570",
      "placeholder": "​",
      "style": "IPY_MODEL_cc52192a5fca480ea9a45fe17522b6d5",
      "value": "Downloading: 100%"
     }
    },
    "f613f5eadfba45d3855a2913d9475a10": {
     "model_module": "@jupyter-widgets/base",
     "model_module_version": "1.2.0",
     "model_name": "LayoutModel",
     "state": {
      "_model_module": "@jupyter-widgets/base",
      "_model_module_version": "1.2.0",
      "_model_name": "LayoutModel",
      "_view_count": null,
      "_view_module": "@jupyter-widgets/base",
      "_view_module_version": "1.2.0",
      "_view_name": "LayoutView",
      "align_content": null,
      "align_items": null,
      "align_self": null,
      "border": null,
      "bottom": null,
      "display": null,
      "flex": null,
      "flex_flow": null,
      "grid_area": null,
      "grid_auto_columns": null,
      "grid_auto_flow": null,
      "grid_auto_rows": null,
      "grid_column": null,
      "grid_gap": null,
      "grid_row": null,
      "grid_template_areas": null,
      "grid_template_columns": null,
      "grid_template_rows": null,
      "height": null,
      "justify_content": null,
      "justify_items": null,
      "left": null,
      "margin": null,
      "max_height": null,
      "max_width": null,
      "min_height": null,
      "min_width": null,
      "object_fit": null,
      "object_position": null,
      "order": null,
      "overflow": null,
      "overflow_x": null,
      "overflow_y": null,
      "padding": null,
      "right": null,
      "top": null,
      "visibility": null,
      "width": null
     }
    }
   }
  }
 },
 "nbformat": 4,
 "nbformat_minor": 1
}
