{
 "cells": [
  {
   "cell_type": "code",
   "execution_count": 41,
   "id": "687bcf52",
   "metadata": {},
   "outputs": [],
   "source": [
    "from sklearn.linear_model import LinearRegression\n",
    "import numpy as np\n",
    "import pandas as pd\n",
    "import math\n",
    "from itertools import combinations"
   ]
  },
  {
   "cell_type": "code",
   "execution_count": 6,
   "id": "1dd2bbda",
   "metadata": {},
   "outputs": [
    {
     "data": {
      "text/html": [
       "<div>\n",
       "<style scoped>\n",
       "    .dataframe tbody tr th:only-of-type {\n",
       "        vertical-align: middle;\n",
       "    }\n",
       "\n",
       "    .dataframe tbody tr th {\n",
       "        vertical-align: top;\n",
       "    }\n",
       "\n",
       "    .dataframe thead th {\n",
       "        text-align: right;\n",
       "    }\n",
       "</style>\n",
       "<table border=\"1\" class=\"dataframe\">\n",
       "  <thead>\n",
       "    <tr style=\"text-align: right;\">\n",
       "      <th></th>\n",
       "      <th>CRIM</th>\n",
       "      <th>ZN</th>\n",
       "      <th>INDUS</th>\n",
       "      <th>CHAS</th>\n",
       "      <th>NOX</th>\n",
       "      <th>RM</th>\n",
       "      <th>AGE</th>\n",
       "      <th>DIS</th>\n",
       "      <th>RAD</th>\n",
       "      <th>TAX</th>\n",
       "      <th>PTRATIO</th>\n",
       "      <th>B</th>\n",
       "      <th>LSTAT</th>\n",
       "      <th>MEDV</th>\n",
       "    </tr>\n",
       "  </thead>\n",
       "  <tbody>\n",
       "    <tr>\n",
       "      <th>0</th>\n",
       "      <td>0.00632</td>\n",
       "      <td>18.0</td>\n",
       "      <td>2.31</td>\n",
       "      <td>0</td>\n",
       "      <td>0.538</td>\n",
       "      <td>6.575</td>\n",
       "      <td>65.2</td>\n",
       "      <td>4.0900</td>\n",
       "      <td>1</td>\n",
       "      <td>296.0</td>\n",
       "      <td>15.3</td>\n",
       "      <td>396.90</td>\n",
       "      <td>4.98</td>\n",
       "      <td>24.0</td>\n",
       "    </tr>\n",
       "    <tr>\n",
       "      <th>1</th>\n",
       "      <td>0.02731</td>\n",
       "      <td>0.0</td>\n",
       "      <td>7.07</td>\n",
       "      <td>0</td>\n",
       "      <td>0.469</td>\n",
       "      <td>6.421</td>\n",
       "      <td>78.9</td>\n",
       "      <td>4.9671</td>\n",
       "      <td>2</td>\n",
       "      <td>242.0</td>\n",
       "      <td>17.8</td>\n",
       "      <td>396.90</td>\n",
       "      <td>9.14</td>\n",
       "      <td>21.6</td>\n",
       "    </tr>\n",
       "    <tr>\n",
       "      <th>2</th>\n",
       "      <td>0.02729</td>\n",
       "      <td>0.0</td>\n",
       "      <td>7.07</td>\n",
       "      <td>0</td>\n",
       "      <td>0.469</td>\n",
       "      <td>7.185</td>\n",
       "      <td>61.1</td>\n",
       "      <td>4.9671</td>\n",
       "      <td>2</td>\n",
       "      <td>242.0</td>\n",
       "      <td>17.8</td>\n",
       "      <td>392.83</td>\n",
       "      <td>4.03</td>\n",
       "      <td>34.7</td>\n",
       "    </tr>\n",
       "    <tr>\n",
       "      <th>3</th>\n",
       "      <td>0.03237</td>\n",
       "      <td>0.0</td>\n",
       "      <td>2.18</td>\n",
       "      <td>0</td>\n",
       "      <td>0.458</td>\n",
       "      <td>6.998</td>\n",
       "      <td>45.8</td>\n",
       "      <td>6.0622</td>\n",
       "      <td>3</td>\n",
       "      <td>222.0</td>\n",
       "      <td>18.7</td>\n",
       "      <td>394.63</td>\n",
       "      <td>2.94</td>\n",
       "      <td>33.4</td>\n",
       "    </tr>\n",
       "    <tr>\n",
       "      <th>4</th>\n",
       "      <td>0.06905</td>\n",
       "      <td>0.0</td>\n",
       "      <td>2.18</td>\n",
       "      <td>0</td>\n",
       "      <td>0.458</td>\n",
       "      <td>7.147</td>\n",
       "      <td>54.2</td>\n",
       "      <td>6.0622</td>\n",
       "      <td>3</td>\n",
       "      <td>222.0</td>\n",
       "      <td>18.7</td>\n",
       "      <td>396.90</td>\n",
       "      <td>5.33</td>\n",
       "      <td>36.2</td>\n",
       "    </tr>\n",
       "    <tr>\n",
       "      <th>5</th>\n",
       "      <td>0.02985</td>\n",
       "      <td>0.0</td>\n",
       "      <td>2.18</td>\n",
       "      <td>0</td>\n",
       "      <td>0.458</td>\n",
       "      <td>6.430</td>\n",
       "      <td>58.7</td>\n",
       "      <td>6.0622</td>\n",
       "      <td>3</td>\n",
       "      <td>222.0</td>\n",
       "      <td>18.7</td>\n",
       "      <td>394.12</td>\n",
       "      <td>5.21</td>\n",
       "      <td>28.7</td>\n",
       "    </tr>\n",
       "  </tbody>\n",
       "</table>\n",
       "</div>"
      ],
      "text/plain": [
       "      CRIM    ZN  INDUS  CHAS    NOX     RM   AGE     DIS  RAD    TAX  \\\n",
       "0  0.00632  18.0   2.31     0  0.538  6.575  65.2  4.0900    1  296.0   \n",
       "1  0.02731   0.0   7.07     0  0.469  6.421  78.9  4.9671    2  242.0   \n",
       "2  0.02729   0.0   7.07     0  0.469  7.185  61.1  4.9671    2  242.0   \n",
       "3  0.03237   0.0   2.18     0  0.458  6.998  45.8  6.0622    3  222.0   \n",
       "4  0.06905   0.0   2.18     0  0.458  7.147  54.2  6.0622    3  222.0   \n",
       "5  0.02985   0.0   2.18     0  0.458  6.430  58.7  6.0622    3  222.0   \n",
       "\n",
       "   PTRATIO       B  LSTAT  MEDV  \n",
       "0     15.3  396.90   4.98  24.0  \n",
       "1     17.8  396.90   9.14  21.6  \n",
       "2     17.8  392.83   4.03  34.7  \n",
       "3     18.7  394.63   2.94  33.4  \n",
       "4     18.7  396.90   5.33  36.2  \n",
       "5     18.7  394.12   5.21  28.7  "
      ]
     },
     "execution_count": 6,
     "metadata": {},
     "output_type": "execute_result"
    }
   ],
   "source": [
    "boston = pd.read_csv(\"boston.csv\")\n",
    "boston.head(6)"
   ]
  },
  {
   "cell_type": "markdown",
   "id": "86c331e9",
   "metadata": {},
   "source": [
    "# 1. Run a univariate Linear Regression with the feature that should have the best predictive power. "
   ]
  },
  {
   "cell_type": "code",
   "execution_count": 38,
   "id": "e0b42549",
   "metadata": {},
   "outputs": [
    {
     "data": {
      "text/plain": [
       "LSTAT    0.544146\n",
       "dtype: float64"
      ]
     },
     "execution_count": 38,
     "metadata": {},
     "output_type": "execute_result"
    }
   ],
   "source": [
    "def get_uni_R2(X, y=boston[\"MEDV\"]):\n",
    "    return LinearRegression().fit(X.values.reshape(-1, 1), \n",
    "                                  y.values).score(X.values.reshape(-1, 1), y.values)\n",
    "\n",
    "unilr_r2 = {}\n",
    "for col in boston.columns:\n",
    "    unilr_r2[col] = get_uni_R2(boston[col])\n",
    "unilr_r2.pop(\"MEDV\")\n",
    "unilr_r2 = pd.Series(unilr_r2)\n",
    "unilr_r2[unilr_r2.values == max(unilr_r2)]"
   ]
  },
  {
   "cell_type": "code",
   "execution_count": 127,
   "id": "4fae228d",
   "metadata": {},
   "outputs": [
    {
     "name": "stdout",
     "output_type": "stream",
     "text": [
      "MSE: 38.48296722989414\n"
     ]
    }
   ],
   "source": [
    "MSE_1 = np.nanmean(np.square(np.subtract(LinearRegression().fit(\n",
    "    boston[\"LSTAT\"].values.reshape(-1, 1), \n",
    "    boston[\"MEDV\"].values).predict(boston[\"LSTAT\"].values.reshape(-1, 1)), \n",
    "                                        boston[\"MEDV\"].values)))\n",
    "print(f\"MSE: {MSE_1}\")"
   ]
  },
  {
   "cell_type": "markdown",
   "id": "ca81564d",
   "metadata": {},
   "source": [
    "LSTAT would provide best predictive power in univariate linear regression, which has MSE = 38.48296722989414."
   ]
  },
  {
   "cell_type": "markdown",
   "id": "104a1523",
   "metadata": {},
   "source": [
    "# 2. Run a multivariate Linear Regression with the two features that should have the best predictive power."
   ]
  },
  {
   "cell_type": "code",
   "execution_count": 50,
   "id": "344a50a7",
   "metadata": {},
   "outputs": [],
   "source": [
    "feature_lst = list(boston.columns)\n",
    "feature_lst.remove(\"MEDV\")\n",
    "feature_lst\n",
    "two_feature_comb = list(combinations(feature_lst, 2))"
   ]
  },
  {
   "cell_type": "code",
   "execution_count": 124,
   "id": "220e44b8",
   "metadata": {},
   "outputs": [
    {
     "data": {
      "text/plain": [
       "RM  LSTAT    0.638562\n",
       "dtype: float64"
      ]
     },
     "execution_count": 124,
     "metadata": {},
     "output_type": "execute_result"
    }
   ],
   "source": [
    "def get_multi2_R2(comb, y=boston[\"MEDV\"]):\n",
    "    X = boston[[comb[0], comb[1]]]\n",
    "    return LinearRegression().fit(X, y).score(X, y)\n",
    "\n",
    "multi2_r2 = {}\n",
    "for comb in two_feature_comb:\n",
    "    multi2_r2[comb] = get_multi2_R2(comb)\n",
    "multi2_r2 = pd.Series(multi2_r2)\n",
    "multi2_r2[multi2_r2.values == max(multi2_r2)]"
   ]
  },
  {
   "cell_type": "code",
   "execution_count": 125,
   "id": "468b71cd",
   "metadata": {},
   "outputs": [
    {
     "name": "stdout",
     "output_type": "stream",
     "text": [
      "MSE: 30.51246877729947\n"
     ]
    }
   ],
   "source": [
    "MSE_2 = np.nanmean(np.square(np.subtract(LinearRegression().fit(\n",
    "    boston[[\"LSTAT\", \"RM\"]], boston[\"MEDV\"]).predict(boston[[\"LSTAT\", \"RM\"]]),\n",
    "                                         boston[\"MEDV\"])))\n",
    "print(f\"MSE: {MSE_2}\")"
   ]
  },
  {
   "cell_type": "markdown",
   "id": "45818967",
   "metadata": {},
   "source": [
    "The feature combination of LSTAT and RM would provide best predictive power in univariate linear regression, which has MSE = 30.51246877729947."
   ]
  },
  {
   "cell_type": "markdown",
   "id": "164224be",
   "metadata": {},
   "source": [
    "# 3. Using the metric you have used before for feature selection: Determine whether you would want to run a Ridge, Lasso or ElasticNet regression next. Run the regression and comment on your choice."
   ]
  },
  {
   "cell_type": "code",
   "execution_count": 102,
   "id": "5c219069",
   "metadata": {},
   "outputs": [],
   "source": [
    "from sklearn import linear_model"
   ]
  },
  {
   "cell_type": "code",
   "execution_count": 134,
   "id": "1c638aa9",
   "metadata": {},
   "outputs": [
    {
     "data": {
      "text/plain": [
       "22.044452243088198"
      ]
     },
     "execution_count": 134,
     "metadata": {},
     "output_type": "execute_result"
    }
   ],
   "source": [
    "ridge = linear_model.Ridge()\n",
    "np.nanmean(np.square(np.subtract(ridge.fit(boston[feature_lst], boston[\"MEDV\"]).predict(boston[feature_lst]), boston[\"MEDV\"])))"
   ]
  },
  {
   "cell_type": "code",
   "execution_count": 135,
   "id": "30d85531",
   "metadata": {},
   "outputs": [
    {
     "data": {
      "text/plain": [
       "26.79609915726647"
      ]
     },
     "execution_count": 135,
     "metadata": {},
     "output_type": "execute_result"
    }
   ],
   "source": [
    "Lasso = linear_model.Lasso()\n",
    "np.nanmean(np.square(np.subtract(Lasso.fit(boston[feature_lst], boston[\"MEDV\"]).predict(boston[feature_lst]), boston[\"MEDV\"])))"
   ]
  },
  {
   "cell_type": "code",
   "execution_count": 137,
   "id": "c5c715b7",
   "metadata": {},
   "outputs": [
    {
     "data": {
      "text/plain": [
       "13"
      ]
     },
     "execution_count": 137,
     "metadata": {},
     "output_type": "execute_result"
    }
   ],
   "source": []
  },
  {
   "cell_type": "code",
   "execution_count": null,
   "id": "54b5ef73",
   "metadata": {},
   "outputs": [],
   "source": []
  }
 ],
 "metadata": {
  "kernelspec": {
   "display_name": "Python 3 (ipykernel)",
   "language": "python",
   "name": "python3"
  },
  "language_info": {
   "codemirror_mode": {
    "name": "ipython",
    "version": 3
   },
   "file_extension": ".py",
   "mimetype": "text/x-python",
   "name": "python",
   "nbconvert_exporter": "python",
   "pygments_lexer": "ipython3",
   "version": "3.9.12"
  },
  "toc": {
   "base_numbering": 1,
   "nav_menu": {},
   "number_sections": false,
   "sideBar": true,
   "skip_h1_title": true,
   "title_cell": "Table of Contents",
   "title_sidebar": "Contents",
   "toc_cell": false,
   "toc_position": {},
   "toc_section_display": true,
   "toc_window_display": false
  }
 },
 "nbformat": 4,
 "nbformat_minor": 5
}
